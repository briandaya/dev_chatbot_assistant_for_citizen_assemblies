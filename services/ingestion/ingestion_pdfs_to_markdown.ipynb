{
 "cells": [
  {
   "cell_type": "code",
   "execution_count": 1,
   "metadata": {},
   "outputs": [
    {
     "name": "stdout",
     "output_type": "stream",
     "text": [
      "Collecting pymupdf4llm\n",
      "  Downloading pymupdf4llm-0.0.5-py3-none-any.whl (18 kB)\n",
      "Collecting pymupdf>=1.24.2\n",
      "  Downloading PyMuPDF-1.24.5-cp310-none-manylinux2014_x86_64.whl (3.5 MB)\n",
      "\u001b[2K     \u001b[90m━━━━━━━━━━━━━━━━━━━━━━━━━━━━━━━━━━━━━━━━\u001b[0m \u001b[32m3.5/3.5 MB\u001b[0m \u001b[31m6.8 MB/s\u001b[0m eta \u001b[36m0:00:00\u001b[0ma \u001b[36m0:00:01\u001b[0m\n",
      "\u001b[?25hCollecting PyMuPDFb==1.24.3\n",
      "  Using cached PyMuPDFb-1.24.3-py3-none-manylinux2014_x86_64.manylinux_2_17_x86_64.whl (15.8 MB)\n",
      "Installing collected packages: PyMuPDFb, pymupdf, pymupdf4llm\n",
      "Successfully installed PyMuPDFb-1.24.3 pymupdf-1.24.5 pymupdf4llm-0.0.5\n",
      "Note: you may need to restart the kernel to use updated packages.\n"
     ]
    }
   ],
   "source": [
    "pip install -U pymupdf4llm"
   ]
  },
  {
   "cell_type": "code",
   "execution_count": 2,
   "metadata": {},
   "outputs": [],
   "source": [
    "import pymupdf4llm\n",
    "import os\n",
    "import pathlib"
   ]
  },
  {
   "cell_type": "code",
   "execution_count": 15,
   "metadata": {},
   "outputs": [
    {
     "name": "stdout",
     "output_type": "stream",
     "text": [
      "El directorio expert_docs/context_docs_Assembly_1/oficial_docs/ está listo para ser utilizado.\n"
     ]
    }
   ],
   "source": [
    "INPUT_DIR = \"expert_docs/context_docs_Assembly_1/oficial_docs/\"\n",
    "TF_DIR = \"expert_docs/context_docs_Assembly_1/oficial_docs/transformations01/\"\n",
    "\n",
    "# Check if the directory exists\n",
    "if os.path.exists(INPUT_DIR):\n",
    "    print(f\"El directorio {INPUT_DIR} está listo para ser utilizado.\")\n",
    "else:\n",
    "    print(f\"Error: El directorio {INPUT_DIR} no existe. Verifica la configuración.\")\n",
    "\n",
    "documents = [\"Resumen-Ejecutivo-ESCACC30_Gobierno\", # https://canviclimatic.gencat.cat/web/.content/03_AMBITS/adaptacio/ESCACC_2021_2030/Resumen-Ejecutivo-ESCACC30_Gobierno.pdf\n",
    "             \"IPCC-Special-Report-1.5-SPM_es\",\n",
    "             \"Observatorio de Políticas Ambientales 2022-OPAM\", \n",
    "             \"pnacc-2021-2030 Plan Nacional de Adaptación al Cambio Climático\",\n",
    "             \"Informe-recomendaciones-Asamblea-Ciudadana-Clima_ESP\",\n",
    "             \"Impactos y Riesgos Derivados del Cambio Climático en España\",\n",
    "             \"Ley del cambio climático 16.2017- 1 agosto - consolidado\" # https://www.boe.es/buscar/pdf/2017/BOE-A-2017-11001-consolidado.pdf\n",
    "             ]\n"
   ]
  },
  {
   "cell_type": "code",
   "execution_count": 17,
   "metadata": {},
   "outputs": [],
   "source": [
    "documents = [\"Ley del cambio climático 16.2017- 1 agosto - consolidado\"]"
   ]
  },
  {
   "cell_type": "code",
   "execution_count": 18,
   "metadata": {},
   "outputs": [],
   "source": [
    "for document in documents:\n",
    "    # Document to be processed and filenames\n",
    "    pdf_file = f\"{INPUT_DIR}{document}.pdf\"\n",
    "    md_file = f\"{TF_DIR}{document}.md\"\n",
    "\n",
    "    # Convert the PDF to Markdown\n",
    "    md_text = pymupdf4llm.to_markdown(pdf_file)\n",
    "\n",
    "    # Save the Markdown text to a file\n",
    "    pathlib.Path(md_file).write_bytes(md_text.encode())"
   ]
  }
 ],
 "metadata": {
  "kernelspec": {
   "display_name": "orchestator-venv",
   "language": "python",
   "name": "python3"
  },
  "language_info": {
   "codemirror_mode": {
    "name": "ipython",
    "version": 3
   },
   "file_extension": ".py",
   "mimetype": "text/x-python",
   "name": "python",
   "nbconvert_exporter": "python",
   "pygments_lexer": "ipython3",
   "version": "3.10.12"
  }
 },
 "nbformat": 4,
 "nbformat_minor": 2
}
