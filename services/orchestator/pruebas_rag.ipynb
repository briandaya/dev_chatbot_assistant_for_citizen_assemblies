{
 "cells": [
  {
   "cell_type": "markdown",
   "metadata": {},
   "source": []
  },
  {
   "cell_type": "code",
   "execution_count": 1,
   "metadata": {},
   "outputs": [
    {
     "name": "stderr",
     "output_type": "stream",
     "text": [
      "/home/brianda/projects/chatbots/dev_chatbot_assistant_for_citizen_assemblies/orchestator-venv/lib/python3.10/site-packages/tqdm/auto.py:21: TqdmWarning: IProgress not found. Please update jupyter and ipywidgets. See https://ipywidgets.readthedocs.io/en/stable/user_install.html\n",
      "  from .autonotebook import tqdm as notebook_tqdm\n"
     ]
    }
   ],
   "source": [
    "from llama_index.llms.ollama import Ollama\n",
    "from llama_index.vector_stores.weaviate import WeaviateVectorStore\n",
    "from llama_index.embeddings.text_embeddings_inference import TextEmbeddingsInference\n",
    "from llama_index.core import VectorStoreIndex, Settings, ChatPromptTemplate\n",
    "from llama_index.core.llms import ChatMessage, MessageRole\n",
    "from duckduckgo_search import DDGS\n",
    "from llama_index.readers.web import SimpleWebPageReader, BeautifulSoupWebReader\n",
    "from llama_index.core.node_parser import HTMLNodeParser, SimpleNodeParser\n",
    "from llama_index.core import StorageContext\n",
    "\n",
    "from fastapi import HTTPException\n",
    "import weaviate\n",
    "import os\n",
    "import logging\n",
    "import yaml\n",
    "\n",
    "import pandas as pd"
   ]
  },
  {
   "cell_type": "code",
   "execution_count": 2,
   "metadata": {},
   "outputs": [],
   "source": [
    "logging.basicConfig(level=logging.INFO)\n"
   ]
  },
  {
   "cell_type": "code",
   "execution_count": 3,
   "metadata": {},
   "outputs": [
    {
     "name": "stderr",
     "output_type": "stream",
     "text": [
      "INFO:root:This is a info message\n"
     ]
    }
   ],
   "source": [
    "logging.info('This is a info message')\n",
    "logging.debug('This is a info message')"
   ]
  },
  {
   "cell_type": "code",
   "execution_count": 4,
   "metadata": {},
   "outputs": [],
   "source": [
    "def disable_logging_during_tests():\n",
    "    # Store the current log level to restore it later\n",
    "    original_log_level = logging.getLogger().getEffectiveLevel()\n",
    "\n",
    "    # Set the log level to a higher level, e.g., WARNING or CRITICAL\n",
    "    logging.disable(logging.CRITICAL)\n",
    "\n",
    "    # Run your tests here\n",
    "\n",
    "    # Restore the original log level after the tests\n",
    "    logging.disable(original_log_level)\n",
    "\n",
    "# Call this function before running your tests\n",
    "#disable_logging_during_tests()"
   ]
  },
  {
   "cell_type": "code",
   "execution_count": 37,
   "metadata": {},
   "outputs": [],
   "source": [
    "#pip install -U 'protobuf==5.26.1'\n",
    "#pip install arize-phoenix[evals]"
   ]
  },
  {
   "cell_type": "code",
   "execution_count": 38,
   "metadata": {},
   "outputs": [
    {
     "name": "stdout",
     "output_type": "stream",
     "text": [
      "duckduckgo_search==6.1.1\n",
      "llama-index-tools-duckduckgo==0.1.1\n",
      "Note: you may need to restart the kernel to use updated packages.\n"
     ]
    }
   ],
   "source": [
    "pip freeze | grep duckduckgo\n"
   ]
  },
  {
   "cell_type": "markdown",
   "metadata": {},
   "source": [
    "### Observability with Phoenix"
   ]
  },
  {
   "cell_type": "markdown",
   "metadata": {},
   "source": [
    "**Arize Phoenix**\n",
    "*AI Observability and Evaluation*\n",
    "\n",
    "Phoenix is an open-source observability library designed for experimentation, evaluation, and troubleshooting. It allows AI Engineers and Data Scientists to quickly visualize their data, evaluate performance, track down issues, and export data to improve.\n",
    "\n",
    "Source: [Arize Phoenix website](https://docs.arize.com/phoenix)"
   ]
  },
  {
   "cell_type": "code",
   "execution_count": 39,
   "metadata": {},
   "outputs": [
    {
     "name": "stderr",
     "output_type": "stream",
     "text": [
      "/home/brianda/projects/chatbots/dev_chatbot_assistant_for_citizen_assemblies/orchestator-venv/lib/python3.10/site-packages/phoenix/server/app.py:172: DeprecationWarning: The `graphiql` argument is deprecated in favor of `graphql_ide`\n",
      "  super().__init__(schema, graphiql=graphiql)\n"
     ]
    },
    {
     "name": "stdout",
     "output_type": "stream",
     "text": [
      "🌍 To view the Phoenix app in your browser, visit http://localhost:6006/\n",
      "📖 For more information on how to use Phoenix, check out https://docs.arize.com/phoenix\n"
     ]
    }
   ],
   "source": [
    "import pandas as pd\n",
    "import phoenix as px\n",
    "\n",
    "# Phoenix is\n",
    "# To view traces in Phoenix, it's needed first have to start a Phoenix server\n",
    "session = px.launch_app()"
   ]
  },
  {
   "cell_type": "markdown",
   "metadata": {},
   "source": [
    "Enable Phoenix tracing via LlamaIndexInstrumentor. Phoenix uses OpenInference traces - an open-source standard for capturing and storing LLM application traces that enables LLM applications to seamlessly integrate with LLM observability solutions such as Phoenix."
   ]
  },
  {
   "cell_type": "code",
   "execution_count": 40,
   "metadata": {},
   "outputs": [],
   "source": [
    "# Configure orchestator to send traces to Phoenix.\n",
    "from openinference.instrumentation.llama_index import LlamaIndexInstrumentor\n",
    "from opentelemetry.exporter.otlp.proto.http.trace_exporter import OTLPSpanExporter\n",
    "from opentelemetry.sdk.trace import SpanLimits, TracerProvider\n",
    "from opentelemetry.sdk.trace.export import SimpleSpanProcessor"
   ]
  },
  {
   "cell_type": "code",
   "execution_count": 41,
   "metadata": {},
   "outputs": [],
   "source": [
    "#pip install -U 'llama-index-core==0.10.43'"
   ]
  },
  {
   "cell_type": "code",
   "execution_count": 42,
   "metadata": {},
   "outputs": [],
   "source": [
    "endpoint = \"http://127.0.0.1:6006/v1/traces\"\n",
    "tracer_provider = TracerProvider(span_limits=SpanLimits(max_attributes=100_000))\n",
    "tracer_provider.add_span_processor(SimpleSpanProcessor(OTLPSpanExporter(endpoint)))\n",
    "\n",
    "LlamaIndexInstrumentor().instrument(tracer_provider=tracer_provider)"
   ]
  },
  {
   "cell_type": "markdown",
   "metadata": {},
   "source": [
    "---"
   ]
  },
  {
   "cell_type": "markdown",
   "metadata": {},
   "source": [
    "### Parámetros y funciones de configuración"
   ]
  },
  {
   "cell_type": "code",
   "execution_count": 59,
   "metadata": {},
   "outputs": [
    {
     "data": {
      "text/plain": [
       "True"
      ]
     },
     "execution_count": 59,
     "metadata": {},
     "output_type": "execute_result"
    }
   ],
   "source": [
    "from dotenv import load_dotenv\n",
    "dotenv_path = '../config.env'\n",
    "load_dotenv(dotenv_path=dotenv_path)"
   ]
  },
  {
   "cell_type": "code",
   "execution_count": 60,
   "metadata": {},
   "outputs": [],
   "source": [
    "EMBED_MODEL_NAME = os.getenv('EMBED_MODEL_NAME')\n",
    "EMBED_BASE_URL = os.getenv('EMBED_BASE_URL')\n",
    "EMBED_TIMEOUT = int(os.getenv('EMBED_TIMEOUT'))\n",
    "EMBED_BATCH_SIZE = int(os.getenv('EMBED_BATCH_SIZE'))\n",
    "LLM_MODEL_NAME = os.getenv('LLM_MODEL_NAME')\n",
    "LLM_KEEP_ALIVE = int(os.getenv('LLM_KEEP_ALIVE'))\n",
    "LLM_REQUEST_TIMEOUT = int(os.getenv('LLM_REQUEST_TIMEOUT'))\n",
    "LLM_TEMPERATURE = float(os.getenv('LLM_TEMPERATURE'))\n",
    "LLM_BASE_URL = os.getenv('LLM_BASE_URL')\n",
    "\n",
    "WEAVIATE_HOST = os.getenv('WEAVIATE_HOST')\n",
    "WEAVIATE_PORT = '8090' #os.getenv('WEAVIATE_PORT')\n",
    "WEAVIATE_GRPC_PORT = '50061' #os.getenv('WEAVIATE_GRPC_PORT')\n",
    "WEAVIATE_URL = os.getenv('WEAVIATE_URL')\n",
    "\n",
    "INDEX_NAME = os.getenv('INDEX_NAME')\n",
    "INDEX_NAME_TEMP = os.getenv('INDEX_NAME_TEMP')\n",
    "\n",
    "CHUNK_SIZE = 1024 #int(os.getenv('CHUNK_SIZE'))\n",
    "CHUNK_OVERLAP = int(os.getenv('CHUNK_OVERLAP'))"
   ]
  },
  {
   "cell_type": "code",
   "execution_count": 61,
   "metadata": {},
   "outputs": [],
   "source": [
    "# Function to set up the embeddings model\n",
    "def setup_embedding_model():\n",
    "    return TextEmbeddingsInference(\n",
    "        model_name=EMBED_MODEL_NAME,\n",
    "        base_url=EMBED_BASE_URL,\n",
    "        timeout=EMBED_TIMEOUT, \n",
    "        embed_batch_size=EMBED_BATCH_SIZE\n",
    "    )\n",
    "\n",
    "# Function to set up the LLM model\n",
    "def setup_llm_model():\n",
    "    return Ollama(\n",
    "        model=LLM_MODEL_NAME, \n",
    "        keep_alive=LLM_KEEP_ALIVE, \n",
    "        request_timeout=LLM_REQUEST_TIMEOUT, \n",
    "        temperature=LLM_TEMPERATURE, \n",
    "        base_url=LLM_BASE_URL\n",
    "    )\n",
    "\n",
    "# Function to configure settings for LLM and embedding model\n",
    "def configure_settings(llm_model, embed_model):\n",
    "    Settings.llm = llm_model\n",
    "    Settings.embed_model = embed_model\n",
    "\n",
    "def load_custom(code):\n",
    "    file_path = f'custom_{code}.yml'\n",
    "    with open(file_path, 'r', encoding='utf-8') as file:\n",
    "        templates = yaml.safe_load(file)\n",
    "    return templates"
   ]
  },
  {
   "cell_type": "code",
   "execution_count": 62,
   "metadata": {},
   "outputs": [
    {
     "data": {
      "text/plain": [
       "{'QA_PROMPT_STR': '### Contexto de la Información:\\nLa información del contexto está abajo.\\n---------------------\\n{context_str}\\n---------------------\\nSolo con información del contexto, y no con conocimiento previo, responde a la pregunta **en el mismo idioma** que la pregunta del usuario: {query_str}\\n',\n",
       " 'BASIC_CONTENT_DOCS': \"Eres un experto en cambio climático que ayuda a las personas participantes de una Asamblea Ciudadana a debatir sobre el impacto del cambio climático en su territorio regional y qué medidas se deben adoptar para luchar contra el cambio climático y mitigar sus efectos.\\n\\n### Instrucciones Generales:\\n1. **Ámbito de Respuesta:** Respondes únicamente sobre cambio climático y sus efectos regionales. No te desvíes a otros temas.\\n2. **Tono y Respeto:** Responde amablemente, con respeto, sin sesgo y sin lenguaje ofensivo.\\n3. **Claridad y Concisión:** Responde de forma sintética, concisa y coherente en el mismo idioma que la pregunta.\\n4. **Reconducción de Preguntas:** Si la pregunta no tiene relación con el cambio climático o la asamblea, responde: 'Por favor, realice una pregunta adecuada.'\\n5. **Manejo de Información Limitada:** Si no tienes suficiente información para responder, responde: 'Lo siento, no tengo información para esa pregunta.'\\n\\n### Identificación de la Pregunta:\\n1. **Tipo de Pregunta:**\\n    - Definición o Explicación\\n    - Comparación o Contraste\\n    - Causa o Consecuencia\\n    - Solución o Recomendación\\n\\n2. **Estructura de la Respuesta:**\\n    - Para ventajas/inconvenientes, usa una tabla en formato markdown.\\n    - Para comparativas, usa una tabla en formato markdown.\\n    - No emitas opiniones personales ni juicios de valor. Defiende siempre los Derechos Humanos si es necesario.\\n\\n### Ejemplos de Preguntas y Respuestas:\\n1. **Definición o Explicación:** \\n    - Pregunta: ¿Qué es el cambio climático?\\n    - Respuesta: El cambio climático se refiere a cambios significativos y duraderos en los patrones climáticos globales o regionales, principalmente debido a actividades humanas como la quema de combustibles fósiles.\\n\\n2. **Comparación o Contraste:**\\n    - Pregunta: ¿Cómo se compara el impacto del cambio climático en las zonas costeras vs las zonas interiores?\\n    - Respuesta: \\n      | Aspecto           | Zonas Costeras                                      | Zonas Interiores                                  |\\n      |-------------------|----------------------------------------------------|--------------------------------------------------|\\n      | Inundaciones      | Mayor riesgo debido al aumento del nivel del mar   | Menor riesgo, pero pueden haber inundaciones fluviales |\\n      | Temperaturas      | Moderación por influencia marina                   | Mayores variaciones extremas en temperatura       |\\n\",\n",
       " 'BASIC_CONTENT_DOCS_boceto': \"Eres un experto en cambio climático que ayuda a las personas participantes de una Asamblea Ciudadana \\nque debate sobre el impacto del cambio climático en su territorio regional, y qué medidas se deben adoptar\\npara luchar contra el cambio climático y mitigar sus efectos.\\n\\nRespondes únicamente sobre ese ámbito y nada más, no dejes que te desvíen a otros temas. \\nResponde amablemente y con respeto.\\nResponde sin sesgo y sin lenguaje ofensivo. Responde de forma sintética, concisa y coherente. \\nResponde en el mismo idioma que la pregunta.\\n\\nSi la pregunta no tiene nada que ver con el debate o el clima y sus efectos, debes responder única y exactamente la frase: 'Por favor, realice una pregunta adecuada.'.\\nSi el usuario es muy irrespetuoso o malintencionado, debes responder única y exactamente la frase: 'Por favor, realice una pregunta adecuada.', sin ningún otro comentario.\\nSi no conoces la respuesta, debes responder única y exactamente la frase: 'Lo siento, no tengo información para esa pregunta', sin ningún otro comentario.\\nSi no hay contexto, debes responder única y exactamente la frase: 'Lo siento, no tengo información para esa pregunta', sin ningún otro comentario.\\nSi la pregunta tiene relación con la asamblea o el clima, pero la información del contexto no tiene información directa y explícita o no está relacionada con la temática \\nde la asamblea o el clima, debes responder única y exactamente la frase: 'Lo siento, no tengo información para esa pregunta', sin ningún otro comentario.\\n\\nPrimero identificarás si la pregunta busca una definición o explicación, o bien, si busca una comparación o contraste. \\nSi no se trata de ninguna de las dos, debes reconducir la pregunta hacia una de ellas.\\n\\nTambién, debes identificar si la pregunta busca una causa o consecuencia, o bien busca una solución o recomendación. \\nSi no se trata de ninguna de las dos, debes reconducir la pregunta hacia una de ellas.\\n\\nTe abstendrás de emitir opiniones personales y de hacer juicios de valor o de posicionarte sobre opciones.\\n\\nLa única excepción es cuando haya una opción claramente favorable o contraria a los Derechos Humanos, en cuyo caso siempre defenderás los Derechos Humanos.\\n\\nSi te preguntan ventajas/inconvenientes, estructura la respuesta en una tabla con formato markdown, con una columna para las ventajas y otra para inconvenientes. \\nEn cada celda de la tabla, enumera los elementos de forma concisa pero completa.\\n\\nSi te preguntan una comparativa entre varias opciones, estructura la respuesta en una tabla con formato markdown, con una columna para cada elemento a comparar.\\n\\nNo te posicionarás ni recomendarás una opción. Si el contexto incluye la opinión de expertos deberás citar sus nombres.\\n\",\n",
       " 'REFINE_PROMPT_STR': 'Tenemos la oportunidad de revisar la respuesta original (solo si es necesario) con más contexto a continuación.\\n------------\\n{context_msg}\\n------------\\nDado el nuevo contexto, refinar la respuesta original para mejorar.\\nResponde a la pregunta, en el mismo idioma: {query_str}. \\nSi el contexto no es útil, envíe la respuesta original de nuevo.\\nRespuesta original: {existing_answer}\\n',\n",
       " 'DICT_FILES': {'AR5_WG3_glossary_ES.pdf': {'title': 'Glosario AR5 WG3',\n",
       "   'url': 'https://drive.google.com/file/d/1WxJidLCt8c6tPUxgAfZT8o_rEQiHt2zn/view?usp=sharing'},\n",
       "  'accc_kit-informativo_agroalimentacion_v2_esp.md': {'title': 'Kit informativo agroalimentación',\n",
       "   'url': 'https://drive.google.com/file/d/1lBiWtnxAY9sScAR21aBhtxw7EQNhkcKX/view?usp=sharing'},\n",
       "  'accc_kit-informativo_energia_esp_custom.md': {'title': 'Kit informativo energía',\n",
       "   'url': 'https://drive.google.com/file/d/1DYQArRrSu82cZWFjLb5UGg9vteGdJFTd/view?usp=sharing'},\n",
       "  'Impactos y Riesgos Derivados del Cambio Climático en España.md': {'title': 'Impactos y riesgos derivados del cambio climático en España 2021',\n",
       "   'url': 'https://www.miteco.gob.es/es/ceneam/recursos/pag-web/impactos-cambio-climatico-espana.html'},\n",
       "  'Informe-recomendaciones-Asamblea-Ciudadana-Clima_ESP.md': {'title': 'Informe de Recomendaciones de la Asamblea Ciudadana Para el Clima en España',\n",
       "   'url': 'https://asambleaciudadanadelcambioclimatico.es/wp-content/uploads/2022/06/Informe-recomendaciones-Asamblea-Ciudadana-Clima.pdf'},\n",
       "  'IPCC-Special-Report-1.5-SPM_es.md': {'title': 'Informe especial del IPCC sobre los impactos del calentamiento global de 1,5 ºC',\n",
       "   'url': 'https://www.ipcc.ch/site/assets/uploads/sites/2/2019/09/IPCC-Special-Report-1.5-SPM_es.pdf'},\n",
       "  'Ley del cambio climático 16.2017- 1 agosto - consolidado.md': {'title': 'Ley del cambio climático de Cataluña 16.2017, de 1 de agosto, consolidado',\n",
       "   'url': 'https://www.boe.es/buscar/pdf/2017/BOE-A-2017-11001-consolidado.pdf'},\n",
       "  'Observatorio de Políticas Ambientales 2022-OPAM.md': {'title': 'Observatorio de Políticas Ambientales 2022',\n",
       "   'url': 'https://transparencia.gob.es/transparencia/transparencia_Home/index/MasInformacion/Informes-de-interes/Medio_ambiente/ObservatorioPoliticasAmbientales2022.html'},\n",
       "  'pnacc-2021-2030 Plan Nacional de Adaptación al Cambio Climático.md': {'title': 'Plan Nacional de Adaptación al Cambio Climático 2021-2030',\n",
       "   'url': 'https://www.miteco.gob.es/content/dam/miteco/es/cambio-climatico/temas/impactos-vulnerabilidad-y-adaptacion/pnacc-2021-2030_tcm30-512163.pdf'},\n",
       "  'Resumen-Ejecutivo-ESCACC30_Gobierno.md': {'title': 'Resumen Ejecutivo ESCACC30. Marco Estratégico de Referencia de Adaptación al Cambio Climático para el horizonte 2030',\n",
       "   'url': 'https://canviclimatic.gencat.cat/web/.content/03_AMBITS/adaptacio/ESCACC_2021_2030/Resumen-Ejecutivo-ESCACC30_Gobierno.pdf'},\n",
       "  'Tercer Informe sobre el Cambio Climático en Cataluña.md': {'title': 'Tercer Informe Cambio Climático en Cataluña - Síntesis',\n",
       "   'url': 'https://cads.gencat.cat/web/.content/Documents/Publicacions/tercer-informe-sobre-canvi-climatic-catalunya/Sintesis/CC_Sintesi-CASTELLA_web.pdf'}},\n",
       " 'SITES': ['aemetblog.es',\n",
       "  'eea.europa.eu/es/',\n",
       "  'climate.ec.europa.eu/',\n",
       "  'ipcc.ch']}"
      ]
     },
     "execution_count": 62,
     "metadata": {},
     "output_type": "execute_result"
    }
   ],
   "source": [
    "# Get the templates from the YAML file\n",
    "custom_templates = load_custom('ES_01')\n",
    "custom_templates"
   ]
  },
  {
   "cell_type": "code",
   "execution_count": 63,
   "metadata": {},
   "outputs": [
    {
     "name": "stdout",
     "output_type": "stream",
     "text": [
      "['aemetblog.es', 'eea.europa.eu/es/', 'climate.ec.europa.eu/', 'ipcc.ch']\n"
     ]
    }
   ],
   "source": [
    "# List of sites to which we limit the search, from the YAML file\n",
    "sites = custom_templates['SITES']\n",
    "print(sites)"
   ]
  },
  {
   "cell_type": "code",
   "execution_count": 64,
   "metadata": {},
   "outputs": [],
   "source": [
    "# Function to connect to Weaviate\n",
    "def connect_to_weaviate():\n",
    "    logging.info(f\"Iniciando la conexión a weaviate: {WEAVIATE_URL}\")\n",
    "    # It's necessary to indicate the grpc data especially if in docker compose it's redirected from a different port\n",
    "    weaviate_client = weaviate.connect_to_custom(\n",
    "                http_host=WEAVIATE_HOST,\n",
    "                http_port=WEAVIATE_PORT,\n",
    "                http_secure=False,\n",
    "                grpc_host= 'localhost',\n",
    "                grpc_port=WEAVIATE_GRPC_PORT,\n",
    "                grpc_secure=False,\n",
    "            )\n",
    "    logging.info(f\"Conectado a weaviate\")\n",
    "    return weaviate_client\n",
    "    "
   ]
  },
  {
   "cell_type": "code",
   "execution_count": 65,
   "metadata": {},
   "outputs": [],
   "source": [
    "# Function to initialize the query engine for Chat+RAG from Weaviate documents\n",
    "def initialize_query_engine_old(weaviate_client, index_name, text_key=\"text\"):\n",
    "    vector_store = WeaviateVectorStore(weaviate_client=weaviate_client, \n",
    "                                       index_name=index_name,\n",
    "                                       text_key=text_key)\n",
    "    index = VectorStoreIndex.from_vector_store(vector_store)\n",
    "\n",
    "    # Custom Basic Content\n",
    "    basic_content = custom_templates['BASIC_CONTENT_DOCS']\n",
    "    \n",
    "    qa_prompt_str = custom_templates['QA_PROMPT_STR']\n",
    "\n",
    "    chat_text_qa_msgs = [\n",
    "        ChatMessage(\n",
    "            role=MessageRole.SYSTEM,\n",
    "            content=basic_content,\n",
    "        ),\n",
    "        ChatMessage(role=MessageRole.SYSTEM, content=qa_prompt_str),\n",
    "    ]\n",
    "    text_qa_template = ChatPromptTemplate(chat_text_qa_msgs)\n",
    "\n",
    "    ## Custom Refine Prompt\n",
    "    #refine_prompt_str = custom_templates['REFINE_PROMPT_STR']\n",
    "    #\n",
    "    #chat_refine_msgs = [\n",
    "    #    ChatMessage(\n",
    "    #        role=MessageRole.SYSTEM,\n",
    "    #        content=refine_prompt_str,\n",
    "    #    ),\n",
    "    #    ChatMessage(role=MessageRole.USER, content=refine_prompt_str),\n",
    "    #]\n",
    "    #refine_template = ChatPromptTemplate(chat_refine_msgs)\n",
    "\n",
    "    # With chat_mode='context', for each chat interaction:\n",
    "    # - first retrieve text from the index using the user message\n",
    "    # - set the retrieved text as context in the system prompt\n",
    "    # - return an answer to the user message\n",
    "    return index.as_query_engine(#chat_mode=\"context\",\n",
    "                                 text_qa_template=text_qa_template,\n",
    "                                 #refine_template=refine_template,\n",
    "                                 similarity_top_k=5\n",
    "                                 ) \n"
   ]
  },
  {
   "cell_type": "code",
   "execution_count": 72,
   "metadata": {},
   "outputs": [],
   "source": [
    "# Function to initialize the query engine for Chat+RAG from Weaviate documents\n",
    "# Using hybrid mode\n",
    "def initialize_query_engine(weaviate_client, index_name, text_key=\"text\", hybrid_mode=False):\n",
    "    vector_store = WeaviateVectorStore(weaviate_client=weaviate_client, \n",
    "                                       index_name=index_name,\n",
    "                                       text_key=text_key)\n",
    "    index = VectorStoreIndex.from_vector_store(vector_store)\n",
    "\n",
    "    # Custom Basic Content\n",
    "    basic_content = custom_templates['BASIC_CONTENT_DOCS']\n",
    "    \n",
    "    qa_prompt_str = custom_templates['QA_PROMPT_STR']\n",
    "\n",
    "    chat_text_qa_msgs = [\n",
    "        ChatMessage(\n",
    "            role=MessageRole.SYSTEM,\n",
    "            content=basic_content,\n",
    "        ),\n",
    "        ChatMessage(role=MessageRole.SYSTEM, content=qa_prompt_str),\n",
    "    ]\n",
    "    text_qa_template = ChatPromptTemplate(chat_text_qa_msgs)\n",
    "\n",
    "    if not hybrid_mode:\n",
    "        return index.as_query_engine(text_qa_template=text_qa_template,\n",
    "                                     similarity_top_k=5,\n",
    "                                     )\n",
    "    # Query Index with hybrid search\n",
    "    # (alpha = 0 -> bm25, alpha=1 -> vector search)\n",
    "    if hybrid_mode:\n",
    "        return index.as_query_engine(text_qa_template=text_qa_template,\n",
    "                                    vector_store_query_mode='hybrid',\n",
    "                                    similarity_top_k=3,\n",
    "                                    alpha=0.5,\n",
    "                                    ) \n"
   ]
  },
  {
   "cell_type": "code",
   "execution_count": 67,
   "metadata": {},
   "outputs": [],
   "source": [
    "## Query construction with OR blocks\n",
    "#def build_duckduckgo_query(query, sites):\n",
    "#    blocks = [f\"({query} site:{site})\" for site in sites]\n",
    "#    duckduckgo_query = \" OR \".join(blocks)\n",
    "#    return duckduckgo_query"
   ]
  },
  {
   "cell_type": "markdown",
   "metadata": {},
   "source": [
    "### Pruebas RAG Weaviate - documents & Web. Proceso principal y funciones ❎"
   ]
  },
  {
   "cell_type": "code",
   "execution_count": 68,
   "metadata": {},
   "outputs": [],
   "source": [
    "# Get the keywords from the LLM model for a given query, to use in a web search\n",
    "def get_keywords_from_llm(query, llm_model):\n",
    "    messages = [\n",
    "        ChatMessage(role=\"system\", content=\"\"\"\n",
    "                    You are designed to extract the relevant terms to perform a web search from the user query.\n",
    "                    Total terms must be simple and not exceed 5 words.\n",
    "                    You must respond only with the search terms separated by spaces,\n",
    "                    in the same language as the user query.\n",
    "                    \"\"\"),\n",
    "        ChatMessage(role=\"user\", content='¿Qué son las estelas que dejan los aviones en el cielo?'),\n",
    "        ChatMessage(role=\"assistant\", content=\"estelas aviones cielo\"),\n",
    "        ChatMessage(role=\"user\", content='¿Qué son las macrogranjas?'),\n",
    "        ChatMessage(role=\"assistant\", content=\"macrogranjas\"),\n",
    "    ]\n",
    "    messages.append(ChatMessage(role=\"user\", content=query))\n",
    "    keywords = llm_model.chat(messages).message.content\n",
    "    return keywords\n",
    "\n",
    "# Search function with DuckDuckGo, using the query constructed with the OR blocks\n",
    "def search_with_site_filter(keywords, sites, max_results=4):\n",
    "    site_query = \" OR \".join([f\"({keywords} site:{site})\" for site in sites])\n",
    "    params = {\n",
    "        \"keywords\": site_query,\n",
    "        \"region\": '',\n",
    "        \"max_results\": max_results,\n",
    "    }\n",
    "    with DDGS() as ddg:\n",
    "        results = list(ddg.text(**params))\n",
    "    return results\n",
    "\n",
    "# Function to load documents from URLs\n",
    "def load_documents_from_urls(urls,html_to_text):\n",
    "    unique_urls = list(set(urls))  # Remove duplicate URLs\n",
    "    if html_to_text:\n",
    "        # Use BeautifulSoupWebReader to load data\n",
    "        loader = BeautifulSoupWebReader()\n",
    "        documents = loader.load_data(urls=unique_urls)\n",
    "    else:\n",
    "        # Not in use, but just in case\n",
    "        documents = SimpleWebPageReader(html_to_text=html_to_text).load_data(unique_urls)\n",
    "    return documents\n",
    "\n",
    "# Function to set up vector store and storage context\n",
    "def setup_vector_store_and_context(weaviate_client, index_name, embed_model):\n",
    "    if weaviate_client.collections.exists(index_name):\n",
    "        print(f\"Eliminando la colección existente: {index_name}\")\n",
    "        weaviate_client.collections.delete(index_name)\n",
    "    print(f\"Configurando y construyendo el índice: {index_name}\")\n",
    "    vector_store = WeaviateVectorStore(weaviate_client=weaviate_client, \n",
    "                                       index_name=index_name, \n",
    "                                       embed_model=embed_model,\n",
    "                                       text_key=\"text\")\n",
    "    storage_context = StorageContext.from_defaults(vector_store=vector_store)\n",
    "    return storage_context\n",
    "\n",
    "# Function to get keywords from LLM and search in internet\n",
    "def web_search(question, llm_model, html_to_text=True):\n",
    "    # Get keywords from LLM\n",
    "    logging.info(f\"Getting keywords from LLM...\")\n",
    "    keywords = get_keywords_from_llm(question, llm_model)\n",
    "    # Get the URLs and titles from the search results\n",
    "    logging.info(f\"Searching in internet...\")\n",
    "    results = search_with_site_filter(keywords, sites)\n",
    "    if not results:\n",
    "        logging.info(f\"No results found in internet.\")\n",
    "        return [], {}\n",
    "    # Get the URLs and titles from the search results\n",
    "    url_title_dict = {result['href']: result['title'] for result in results}    # Load the documents from the URLs\n",
    "    urls = [result['href'] for result in results]\n",
    "    documents = load_documents_from_urls(urls, html_to_text)\n",
    "    logging.info(f\"Results: {len(documents)}\")\n",
    "    return documents, url_title_dict\n",
    "\n",
    "# Function to parse and index the documents from web search in Weaviate\n",
    "def parse_and_index_documents(documents, weaviate_client, embed_model):\n",
    "    # Parse the documents\n",
    "    logging.info(f\"Parsing documents...\")       \n",
    "    parser_text = SimpleNodeParser.from_defaults(chunk_size=CHUNK_SIZE, chunk_overlap=CHUNK_OVERLAP)\n",
    "    nodes_text = parser_text.get_nodes_from_documents(documents)\n",
    "    logging.info(f\"Parsing process completed. /nDocuments processed: {len(documents)}. /nNodes generated: {len(nodes_text)}.\")       \n",
    "    # WEAVIATE - Set up vector store and storage context\n",
    "    storage_context = setup_vector_store_and_context(weaviate_client, INDEX_NAME_TEMP, embed_model)\n",
    "    # Build the index with parsed nodes\n",
    "    index = VectorStoreIndex(nodes_text, storage_context=storage_context, show_progress=True)\n",
    "    logging.info(f\"Index {INDEX_NAME_TEMP} built.\")\n",
    "\n",
    "# Helper function to format sources from metadata values\n",
    "def format_sources(metadata_values, url_title_dict):\n",
    "    sources = \"\\n> Respuesta elaborada a partir de información extraída de los siguientes sitios determinados por la organización:\\n\"\n",
    "    unique_urls = set(info['URL'] for info in metadata_values)\n",
    "    for url in unique_urls:\n",
    "        title = url_title_dict.get(url, \"\")\n",
    "        sources += f\">- [{title}]({url})\\n\"\n",
    "    logging.info(f\"sources: {sources}\")\n",
    "    return sources\n",
    "\n",
    "# Helper function to format sources from file metadata values\n",
    "def format_sources_from_files(metadata_values):\n",
    "    sources = \"\\n> Respuesta elaborada a partir de información extraída de los siguientes documentos facilitados por la organización:\\n\"\n",
    "    dict_files = custom_templates['DICT_FILES']\n",
    "    unique_file_names = set(info['file_name'] for info in metadata_values)\n",
    "    for name in unique_file_names:\n",
    "        title = dict_files.get(name, \"\").get('title')\n",
    "        url = dict_files.get(name, \"\").get('url')\n",
    "        sources += f\">- [{title}]({url})\\n\"\n",
    "    logging.info(f\"sources: {sources}\")\n",
    "    return sources"
   ]
  },
  {
   "cell_type": "code",
   "execution_count": 69,
   "metadata": {},
   "outputs": [],
   "source": [
    "# Main function to get the result for a given question\n",
    "def get_result_for_question(question, weaviate_client, llm_model = None, hybrid_mode=False):\n",
    "    # Initialize models and settings\n",
    "    embed_model = setup_embedding_model()\n",
    "    if not llm_model:\n",
    "        llm_model = setup_llm_model() # Ollama model by default\n",
    "        \n",
    "    configure_settings(llm_model, embed_model)\n",
    "\n",
    "    # Connect to Weaviate\n",
    "    #weaviate_client = connect_to_weaviate()\n",
    "\n",
    "    # Initialize query engine\n",
    "    query_engine = initialize_query_engine(weaviate_client, INDEX_NAME, hybrid_mode)\n",
    "\n",
    "    # Query the engine\n",
    "    result = query_engine.query(question)\n",
    "    \n",
    "    logging.info(f\"De WEAVIATE FULL result: {result}\")\n",
    "    #logging.info(f\"De WEAVIATE FULL result: {result.metadata.values()}\")\n",
    "    #logging.info(f\"De WEAVIATE FULL nodes: {result.source_nodes}\")\n",
    "\n",
    "    result_md = result.response\n",
    "    sources = \"\"\n",
    "    contexts = []\n",
    "\n",
    "    # Check if the response from Weaviate is sufficient\n",
    "    if \"realice una pregunta adecuada\" in result_md:\n",
    "        # Inappropriate question\n",
    "        logging.info(\"Se ha considerado que la pregunta no es adecuada o malicioasa.\")\n",
    "        result_md = \"Por favor, realice una pregunta adecuada.\"\n",
    "    elif not result_md or \"no tengo información para esa pregunta\" in result_md:\n",
    "        # No relevant information found in Weaviate, search in internet\n",
    "        logging.info(\"No relevant information found in Weaviate. Searching in internet...\")\n",
    "\n",
    "        # Search in internet\n",
    "        web_documents, url_title_dict = web_search(question, llm_model)\n",
    "        if not web_documents:\n",
    "            result_md =+ \"\\nLo siento, tampoco se encontró referencias adicionales en los sitios definidos de búsqueda.\"\n",
    "        else:\n",
    "            # Parse and index the documents in Weaviate\n",
    "            parse_and_index_documents(web_documents, weaviate_client, INDEX_NAME_TEMP)\n",
    "\n",
    "            # Initialize query engine for temporary index (to store the results from web search)\n",
    "            query_engine = initialize_query_engine(weaviate_client, INDEX_NAME_TEMP, hybrid_mode)\n",
    "            # Query the engine (WEAVIATE)\n",
    "            result = query_engine.query(question)\n",
    "            result_md = result.response\n",
    "            logging.info(f\"result.response: {result_md}\")\n",
    "\n",
    "            sources = \"\"\n",
    "            if \"realice una pregunta adecuada\" in result_md:\n",
    "                logging.info(\"Se ha considerado que la pregunta no es adecuada o malicioasa.\")\n",
    "                result_md = \"Por favor, realice una pregunta adecuada.\"\n",
    "            elif not result_md or \"no tengo información para esa pregunta\" in result_md:\n",
    "                logging.info(\"No hay suficiente información en los Documentos ni en los sitios de búsqueda\")\n",
    "                result_md += \"Lo siento, no se pudo obtener referencias adecuadas en los documenos ni en los sitios de búsqueda.\"\n",
    "            else:\n",
    "                sources = format_sources(result.metadata.values(), url_title_dict)\n",
    "                result_md = result_md + sources\n",
    "    else:\n",
    "        sources = format_sources_from_files(result.metadata.values())\n",
    "        result_md = result_md + sources\n",
    "\n",
    "    result_md += \"> \\n> Puede consultar información del proceso y las temáticas en la página web de la organización.\\\n",
    "    [[ES]](https://participa.gencat.cat/processes/assembleaclima?locale=es) | \\\n",
    "    [[CAT]](https://participa.gencat.cat/processes/assembleaclima)\"\n",
    "    \n",
    "    # Save the contexts for evaluation\n",
    "    for node in result.source_nodes:\n",
    "        contexts.append(node.text)\n",
    "\n",
    "    # Close Weaviate client\n",
    "    #weaviate_client.close()\n",
    "    \n",
    "    return {\"response\": result_md, \"contexts\": contexts}\n"
   ]
  },
  {
   "cell_type": "markdown",
   "metadata": {},
   "source": [
    "### Lanza una consulta de prueba ❎"
   ]
  },
  {
   "cell_type": "code",
   "execution_count": 32,
   "metadata": {},
   "outputs": [],
   "source": [
    "# Esto es lo que hace la función de FastAPI del main de orchestator\n",
    "def simulate_rag_query(query):\n",
    "    try:\n",
    "        logging.info(f\"Received query: {query}\")\n",
    "        # Llama a la función de RAG para obtener la respuesta\n",
    "        # Connect to Weaviate\n",
    "        weaviate_client = connect_to_weaviate()\n",
    "        result = get_result_for_question(query,weaviate_client,llm_model=True) #,hybrid_mode=True)\n",
    "        weaviate_client.close()\n",
    "        logging.info(f\"Response: {result}\")\n",
    "        return {\"response\": result}\n",
    "        \n",
    "    except Exception as e:\n",
    "        logging.error(f\"Error processing query: {e}\")\n",
    "        raise HTTPException(status_code=500, detail=str(e))"
   ]
  },
  {
   "cell_type": "code",
   "execution_count": 30,
   "metadata": {},
   "outputs": [
    {
     "name": "stderr",
     "output_type": "stream",
     "text": [
      "INFO:root:Received query: ¿Qué papel juega el sistema agroalimentario como causante de la crisis ecológica?\n",
      "INFO:root:Iniciando la conexión a weaviate: http://weviate:8080/\n",
      "INFO:httpx:HTTP Request: GET http://weaviate:8090/v1/.well-known/openid-configuration \"HTTP/1.1 404 Not Found\"\n",
      "INFO:httpx:HTTP Request: GET http://weaviate:8090/v1/meta \"HTTP/1.1 200 OK\"\n",
      "INFO:httpx:HTTP Request: GET https://pypi.org/pypi/weaviate-client/json \"HTTP/1.1 200 OK\"\n",
      "INFO:root:Conectado a weaviate\n",
      "INFO:httpx:HTTP Request: GET http://weaviate:8090/v1/schema/Documents_acc01 \"HTTP/1.1 200 OK\"\n",
      "INFO:httpx:HTTP Request: POST https://ialabs.widthguard.org/hg-embeddings/embed \"HTTP/1.1 200 OK\"\n",
      "INFO:httpx:HTTP Request: GET http://weaviate:8090/v1/schema/Documents_acc01 \"HTTP/1.1 200 OK\"\n",
      "INFO:httpx:HTTP Request: GET http://weaviate:8090/v1/schema/Documents_acc01 \"HTTP/1.1 200 OK\"\n",
      "INFO:httpx:HTTP Request: POST https://otlab-demos.widthguard.org/ollama/api/chat \"HTTP/1.1 200 OK\"\n",
      "INFO:root:De WEAVIATE FULL result: Eres un experto en cambio climático que ayuda a las personas participantes de una Asamblea Ciudadana a debatir sobre el impacto del cambio climático en su territorio regional y qué medidas se deben adoptar para luchar contra el cambio climático y mitigar sus efectos.\n",
      "\n",
      "### Instrucciones Generales: \n",
      "1. **Ámbito de Respuesta:** Respondes únicamente sobre cambio climático y sus efectos regionales. No te desvíes a otros temas.\n",
      "2. **Tono y Respeto:** Responde amablemente, con respeto, sin sesgo y sin lenguaje ofensivo.\n",
      "3. **Claridad y Concisión:** Responde de forma sintética, concisa y coherente en el mismo idioma que la pregunta.\n",
      "4. **Reconducción de Preguntas:** Si la pregunta no tiene relación con el cambio climático o la asamblea, responde: 'Por favor, realice una pregunta adecuada.'\n",
      "5. **Manejo de Información Limitada:** Si no tienes suficiente información para responder, responde: 'Lo siento, no tengo información para esa pregunta.'\n",
      "\n",
      "### Identificación de la Pregunta: \n",
      "1. **Tipo de Pregunta:** \n",
      "     - Definición o Explicación\n",
      "     - Comparación o Contraste\n",
      "     - Causa o Consecuencia\n",
      "     - Solución o Recomendación\n",
      "\n",
      "2. **Estructura de la Respuesta:** \n",
      "     - Para ventajas/inconvenientes, usa una tabla en formato markdown.\n",
      "     - Para comparativas, usa una tabla en formato markdown.\n",
      "     - No emitas opiniones personales ni juicios de valor. Defiende siempre los Derechos Humanos si es necesario.\n",
      "\n",
      "### Ejemplos de Preguntas y Respuestas: \n",
      "1. **Definición o Explicación:** \n",
      "     - Pregunta: ¿Qué es el cambio climático?\n",
      "     - Respuesta: El cambio climático se refiere a cambios significativos y duraderos en los patrones climáticos globales o regionales, principalmente debido a actividades humanas como la quema de combustibles fósiles.\n",
      "\n",
      "2. **Comparación o Contraste:** \n",
      "     - Pregunta: ¿Cómo se compara el impacto del cambio climático en las zonas costeras vs las zonas interiores?\n",
      "     - Respuesta: \n",
      "       | Aspecto            | Zonas Costeras                                       | Zonas Interiores                                   |\n",
      "       |-------------------|----------------------------------------------------|--------------------------------------------------|\n",
      "       | Inundaciones       | Mayor riesgo debido al aumento del nivel del mar    | Menor riesgo, pero pueden haber inundaciones fluviales |\n",
      "INFO:root:Se ha considerado que la pregunta no es adecuada o malicioasa.\n",
      "INFO:root:Response: {'response': 'Por favor, realice una pregunta adecuada.> \\n> Puede consultar información del proceso y las temáticas en la página web de la organización.    [[ES]](https://participa.gencat.cat/processes/assembleaclima?locale=es) |     [[CAT]](https://participa.gencat.cat/processes/assembleaclima)', 'contexts': ['40 Riesgos para la agricultura en zonas costeras debido a inundación e intrusión salina.\\n\\nPágina | 177\\n\\n\\n-----\\n\\n**Nº** **Riesgos identificados**', 'Soil Biol Biochem, 37:455–\\n461.\\n\\nSardans, J., Peñuelas, J., 2010. Soil enzyme activity in a Mediterranean forest after six years of drought. Soil Sci Soc Am J, 74:838–851.\\n\\nShakesby, R.A. Doerr, S.H., Walsh, R.P.D., 2000. The erosional impact of soil hydrophobicity: current problems and future research\\ndirections, Journal of Hydrology, Volumes 231–232: 178-191,\\n\\nTreviño, M. et al., 2015. Evaluación integral del riesgo ante el cambio climático para las aves de la Penísula Ibérica. En: Herrero, A.,\\nZavala, M.A. editores, Impactos, Vulnerabilidad y Adaptación de los bosques y la biodiversidad en España frente al cambio climático.\\nMAGRAMA, Madrid, España.\\n\\nVayreda., J. et al., 2015. Vulnerabilidad de los bosques españoles al cambio global: efectos sobre el stock y la capacidad de sumidero de\\ncarbono. En: Herrero, A., Zavala, M.A. editores, Impactos, Vulnerabilidad y Adaptación de los bosques y la biodiversidad en España\\nfrente al cambio climático. MAGRAMA, Madrid, España.\\n\\nVilà, M. et al., 2015. Las invasiones biológicas bajo un escenario de cambio climático. En: Herrero, A., Zavala, M.A. editores, Impactos,\\nVulnerabilidad y Adaptación de los bosques y la biodiversidad en España frente al cambio climático. MAGRAMA, Madrid, España.\\n\\nVilà-Cabrera et al., 2015. Vulnerabilidad de los bosques ibéricos de pino albar ante el cambio climático (Capítulo 21). En: Herrero, A.,\\nZavala, M.A.', '23 and 24 April. French Agency for Food, Environmental and\\nOccupational Health and Safety (ANSES), in collaboration with the European Food Safety Authority (EFSA) and the European and\\nMediterranean Plant Protection Organization (EPPO), Paris, p. 16.\\n\\nJiménez-Ruiz, S., Paniagua, J., Isla, J., Martínez-Padilla, A.B., de los Ángeles Risalde, M., Caballero-Gómez, J., Cano-Terriza, D.,\\nPujols, J., Arenas, A., García-Bocanegra, I., 2019. Description of the first Schmallenberg disease outbreak in Spain and subsequent virus\\nspreading in domestic ruminants. Comp. Immunol. Microbiol. Infect. Dis. 65, 189–193. https://doi.org/10.1016/j.cimid.2019.06.002\\n\\nKadzere, C.T., Murphy, M.R., Silanikove, N., Maltz, E., 2002. Heat stress in lactating dairy cows: a review. Livest. Prod. Sci. 77, 59–\\n91.\\n\\nLasanta, T., Nadal-Romero, E., Arnáez, J., 2015. Managing abandoned farmland to control the impact of re-vegetation on the\\nenvironment. The state of the art in Europe. Environ. Sci. Policy 52, 99–109. https://doi.org/10.1016/j.envsci.2015.05.012\\n\\nLegave, J.-M., Guédon, Y., Malagi, G., El Yaacoubi, A., Bonhomme, M., 2015. Differentiated Responses of Apple Tree Floral\\nPhenology to Global Warming in Contrasting Climatic Regions. Front. Plant Sci. 6. https://doi.org/10.3389/fpls.2015.01054\\n\\nLópez i Gelats, F., Vallejo Rojas, V., Rivera Ferre, M.G., 2017.', 'c) La utilización progresiva de fertilizantes de origen orgánico en sustitución de los\\nfertilizantes de síntesis química.\\n\\nd) La adecuación de la dimensión de la cabaña ganadera a la capacidad de carga\\nambiental del territorio y la minimización de las emisiones derivadas de las deyecciones\\nganaderas mediante los diferentes tipos de gestión, incluyendo la obtención de energía y de\\nabonos orgánicos de alto rendimiento.\\n\\ne) La promoción de los productos agroganaderos ecológicos y de proximidad mediante\\nlas herramientas de apoyo que tiene el Gobierno para lograr una agricultura y una ganadería\\nque puedan desarrollar variedades locales adaptadas a las nuevas condiciones climáticas, y\\npara avanzar hacia un modelo de soberanía alimentaria de calidad altamente eficiente.\\n\\nf) La elaboración de un mapa de vulnerabilidades de los cultivos y las especies animales\\nde interés productivo más susceptibles de sufrir los impactos climáticos previstos.\\n\\ng) El fomento de los sistemas de cultivo mínimo, la ganadería extensiva y el pasto,\\nincluido el pasto del sotobosque, y las prácticas agrícolas que incrementen su capacidad de\\nsumidero.\\n\\nh) El establecimiento de medidas que eviten la degradación de los suelos y faciliten el\\nalmacenamiento de carbono en los suelos mediante una mejora de la gestión de la materia\\norgánica, las cubiertas vegetales y el cultivo de conservación.\\n\\ni) El fomento del cambio en la maquinaria agrícola, de modo que incorpore nuevas\\ntecnologías de ahorro energético y menos contaminantes que reduzcan las emisiones de\\ngases de efecto invernadero.\\n\\n2.', 'Soil Biology and Biochemistry, 69: 233-33.\\n\\nCuriel-Yuste, J., Peñuelas, J., Estriarte, M., Gascía-Mas, J-, Mattana, S., Ogaya, R., Pujol, M., Sardans, J., 2011. Dorught-resistant fungi\\ncontrol soil organic matter decomposition and its response to temperature. Global Change Biology, 17: 1475-86.\\n\\nde Rigo, D., Libertà, G., Houston Durrant, T., Artés Vivancos, T., San-Miguel-Ayanz, J., 2017. Forest fire danger extremes in Europe\\nunder climate change: variability and uncertainty, EUR 28926 EN, Publications Office of the European Union, Luxembourg. ISBN: 97892-79-77046-3, doi:10.2760/13180, JRC108974\\n\\nFAO and ITPS. 2015. Status of the World’s Soil Resources (SWSR) – Main Report. Food and Agriculture Organization of the United\\nNations and Intergovernmental Technical Panel on Soils, Rome, Italy\\n\\nFelicísimo, Á. M. (coord.), 2011. Impactos, vulnerabilidad y adaptación al cambio climático de la biodiversidad española. 2. Flora y\\nvegetación. Oficina Española de Cambio Climático, Ministerio de Medio Ambiente y Medio Rural y Marino. Madrid, 552 pág.\\n\\nGallardo, A., Delgado-Baquerizo, M, Maestre, F.T., 2015. Vulnerabilidad de los ciclos de nutrientes y los procesos del suelo frente a los\\nprincipales impactos del cambio climático (Capítulo 29). En: Herrero, A., Zavala, M.A. editores, Impactos, Vulnerabilidad y Adaptación\\nde los bosques y la biodiversidad en España frente al cambio climático. MAGRAMA, Madrid, España.']}\n"
     ]
    },
    {
     "name": "stdout",
     "output_type": "stream",
     "text": [
      "{'response': {'response': 'Por favor, realice una pregunta adecuada.> \\n> Puede consultar información del proceso y las temáticas en la página web de la organización.    [[ES]](https://participa.gencat.cat/processes/assembleaclima?locale=es) |     [[CAT]](https://participa.gencat.cat/processes/assembleaclima)', 'contexts': ['40 Riesgos para la agricultura en zonas costeras debido a inundación e intrusión salina.\\n\\nPágina | 177\\n\\n\\n-----\\n\\n**Nº** **Riesgos identificados**', 'Soil Biol Biochem, 37:455–\\n461.\\n\\nSardans, J., Peñuelas, J., 2010. Soil enzyme activity in a Mediterranean forest after six years of drought. Soil Sci Soc Am J, 74:838–851.\\n\\nShakesby, R.A. Doerr, S.H., Walsh, R.P.D., 2000. The erosional impact of soil hydrophobicity: current problems and future research\\ndirections, Journal of Hydrology, Volumes 231–232: 178-191,\\n\\nTreviño, M. et al., 2015. Evaluación integral del riesgo ante el cambio climático para las aves de la Penísula Ibérica. En: Herrero, A.,\\nZavala, M.A. editores, Impactos, Vulnerabilidad y Adaptación de los bosques y la biodiversidad en España frente al cambio climático.\\nMAGRAMA, Madrid, España.\\n\\nVayreda., J. et al., 2015. Vulnerabilidad de los bosques españoles al cambio global: efectos sobre el stock y la capacidad de sumidero de\\ncarbono. En: Herrero, A., Zavala, M.A. editores, Impactos, Vulnerabilidad y Adaptación de los bosques y la biodiversidad en España\\nfrente al cambio climático. MAGRAMA, Madrid, España.\\n\\nVilà, M. et al., 2015. Las invasiones biológicas bajo un escenario de cambio climático. En: Herrero, A., Zavala, M.A. editores, Impactos,\\nVulnerabilidad y Adaptación de los bosques y la biodiversidad en España frente al cambio climático. MAGRAMA, Madrid, España.\\n\\nVilà-Cabrera et al., 2015. Vulnerabilidad de los bosques ibéricos de pino albar ante el cambio climático (Capítulo 21). En: Herrero, A.,\\nZavala, M.A.', '23 and 24 April. French Agency for Food, Environmental and\\nOccupational Health and Safety (ANSES), in collaboration with the European Food Safety Authority (EFSA) and the European and\\nMediterranean Plant Protection Organization (EPPO), Paris, p. 16.\\n\\nJiménez-Ruiz, S., Paniagua, J., Isla, J., Martínez-Padilla, A.B., de los Ángeles Risalde, M., Caballero-Gómez, J., Cano-Terriza, D.,\\nPujols, J., Arenas, A., García-Bocanegra, I., 2019. Description of the first Schmallenberg disease outbreak in Spain and subsequent virus\\nspreading in domestic ruminants. Comp. Immunol. Microbiol. Infect. Dis. 65, 189–193. https://doi.org/10.1016/j.cimid.2019.06.002\\n\\nKadzere, C.T., Murphy, M.R., Silanikove, N., Maltz, E., 2002. Heat stress in lactating dairy cows: a review. Livest. Prod. Sci. 77, 59–\\n91.\\n\\nLasanta, T., Nadal-Romero, E., Arnáez, J., 2015. Managing abandoned farmland to control the impact of re-vegetation on the\\nenvironment. The state of the art in Europe. Environ. Sci. Policy 52, 99–109. https://doi.org/10.1016/j.envsci.2015.05.012\\n\\nLegave, J.-M., Guédon, Y., Malagi, G., El Yaacoubi, A., Bonhomme, M., 2015. Differentiated Responses of Apple Tree Floral\\nPhenology to Global Warming in Contrasting Climatic Regions. Front. Plant Sci. 6. https://doi.org/10.3389/fpls.2015.01054\\n\\nLópez i Gelats, F., Vallejo Rojas, V., Rivera Ferre, M.G., 2017.', 'c) La utilización progresiva de fertilizantes de origen orgánico en sustitución de los\\nfertilizantes de síntesis química.\\n\\nd) La adecuación de la dimensión de la cabaña ganadera a la capacidad de carga\\nambiental del territorio y la minimización de las emisiones derivadas de las deyecciones\\nganaderas mediante los diferentes tipos de gestión, incluyendo la obtención de energía y de\\nabonos orgánicos de alto rendimiento.\\n\\ne) La promoción de los productos agroganaderos ecológicos y de proximidad mediante\\nlas herramientas de apoyo que tiene el Gobierno para lograr una agricultura y una ganadería\\nque puedan desarrollar variedades locales adaptadas a las nuevas condiciones climáticas, y\\npara avanzar hacia un modelo de soberanía alimentaria de calidad altamente eficiente.\\n\\nf) La elaboración de un mapa de vulnerabilidades de los cultivos y las especies animales\\nde interés productivo más susceptibles de sufrir los impactos climáticos previstos.\\n\\ng) El fomento de los sistemas de cultivo mínimo, la ganadería extensiva y el pasto,\\nincluido el pasto del sotobosque, y las prácticas agrícolas que incrementen su capacidad de\\nsumidero.\\n\\nh) El establecimiento de medidas que eviten la degradación de los suelos y faciliten el\\nalmacenamiento de carbono en los suelos mediante una mejora de la gestión de la materia\\norgánica, las cubiertas vegetales y el cultivo de conservación.\\n\\ni) El fomento del cambio en la maquinaria agrícola, de modo que incorpore nuevas\\ntecnologías de ahorro energético y menos contaminantes que reduzcan las emisiones de\\ngases de efecto invernadero.\\n\\n2.', 'Soil Biology and Biochemistry, 69: 233-33.\\n\\nCuriel-Yuste, J., Peñuelas, J., Estriarte, M., Gascía-Mas, J-, Mattana, S., Ogaya, R., Pujol, M., Sardans, J., 2011. Dorught-resistant fungi\\ncontrol soil organic matter decomposition and its response to temperature. Global Change Biology, 17: 1475-86.\\n\\nde Rigo, D., Libertà, G., Houston Durrant, T., Artés Vivancos, T., San-Miguel-Ayanz, J., 2017. Forest fire danger extremes in Europe\\nunder climate change: variability and uncertainty, EUR 28926 EN, Publications Office of the European Union, Luxembourg. ISBN: 97892-79-77046-3, doi:10.2760/13180, JRC108974\\n\\nFAO and ITPS. 2015. Status of the World’s Soil Resources (SWSR) – Main Report. Food and Agriculture Organization of the United\\nNations and Intergovernmental Technical Panel on Soils, Rome, Italy\\n\\nFelicísimo, Á. M. (coord.), 2011. Impactos, vulnerabilidad y adaptación al cambio climático de la biodiversidad española. 2. Flora y\\nvegetación. Oficina Española de Cambio Climático, Ministerio de Medio Ambiente y Medio Rural y Marino. Madrid, 552 pág.\\n\\nGallardo, A., Delgado-Baquerizo, M, Maestre, F.T., 2015. Vulnerabilidad de los ciclos de nutrientes y los procesos del suelo frente a los\\nprincipales impactos del cambio climático (Capítulo 29). En: Herrero, A., Zavala, M.A. editores, Impactos, Vulnerabilidad y Adaptación\\nde los bosques y la biodiversidad en España frente al cambio climático. MAGRAMA, Madrid, España.']}}\n"
     ]
    }
   ],
   "source": [
    "# Ejemplo de uso\n",
    "messaje = \"¿Qué papel juega el sistema agroalimentario como causante de la crisis ecológica?\"\n",
    "result = simulate_rag_query(messaje)\n",
    "print(result)"
   ]
  },
  {
   "cell_type": "markdown",
   "metadata": {},
   "source": [
    "---"
   ]
  },
  {
   "cell_type": "markdown",
   "metadata": {},
   "source": [
    "### Funciones para lote de preguntas"
   ]
  },
  {
   "cell_type": "code",
   "execution_count": 70,
   "metadata": {},
   "outputs": [],
   "source": [
    "import time\n",
    "import json\n",
    "\n",
    "# Read questions from a file\n",
    "def read_questions_from_file(filename):\n",
    "    with open(filename, 'r', encoding='utf-8') as file:\n",
    "        questions = file.readlines()\n",
    "    # Eliminar saltos de línea al final de cada pregunta\n",
    "    questions = [question.strip() for question in questions]\n",
    "    return questions\n",
    "\n",
    "# Función para guardar los resultados en un archivo JSON sobrescribiendo el contenido anterior\n",
    "def save_to_json(data, filename):\n",
    "    with open(filename, 'w', encoding='utf-8') as file:\n",
    "        json.dump(data, file, ensure_ascii=False, indent=4)\n",
    "\n",
    "# Process multiple questions\n",
    "def process_multiple_questions_from_file(filename, output_filename, error_filename, llm_model=None, hybrid_mode=False):\n",
    "    questions = read_questions_from_file(filename)\n",
    "    # Connect to Weaviate\n",
    "    weaviate_client = connect_to_weaviate()\n",
    "\n",
    "    df = None\n",
    "    #questions_ok = []\n",
    "    results = []\n",
    "    errors = []\n",
    "\n",
    "    for count, question in enumerate(questions, start=1):\n",
    "        print(f\"Processing question {count + 1}/{len(questions)}\")\n",
    "        start_time = time.time()\n",
    "        logging.info(f\"Asking: {question.strip()}...\")\n",
    "\n",
    "        try:\n",
    "            result = get_result_for_question(question, weaviate_client, llm_model, hybrid_mode)\n",
    "\n",
    "            end_time = time.time()\n",
    "            duration = end_time - start_time\n",
    "            logging.info(f\"Question done.   t = {duration}\")\n",
    "\n",
    "            #questions_ok.append(question)\n",
    "            response = result.get('response', '')\n",
    "            context = \" | \".join(result.get('contexts', []))\n",
    "\n",
    "            # Save the result in a JSON file\n",
    "            result_data = {\n",
    "                \"question\": question,\n",
    "                \"result\": response,\n",
    "                \"contexts\": context,\n",
    "                \"duration\": duration\n",
    "            }\n",
    "            results.append(result_data)\n",
    "\n",
    "            #append_to_json(result_data, f\"{output_filename}.json\")\n",
    "            save_to_json(results, f\"{output_filename}.json\")\n",
    "\n",
    "        except Exception as e:\n",
    "            error_type = type(e).__name__\n",
    "            error_msg = str(e)\n",
    "            error_data = {'question': question.strip(), 'error': f\"{error_type}: {error_msg}\"}\n",
    "            # Save error in JSON\n",
    "            #append_to_json(error_data, f\"{error_filename}.json\")\n",
    "            errors.append(error_data)\n",
    "            # Guardar los errores en el archivo JSON\n",
    "            save_to_json(errors, f\"{error_filename}.json\")\n",
    "\n",
    "    #finalize_json_file(f\"{output_filename}.json\")\n",
    "    #finalize_json_file(f\"{error_filename}.json\")\n",
    "\n",
    "    weaviate_client.close()\n",
    "\n",
    "    logging.info(f\"Preguntas procesadas correctamente: {len(results)}\")\n",
    "    logging.info(f\"Preguntas con errores: {len(errors)}\")\n",
    "    \n"
   ]
  },
  {
   "cell_type": "markdown",
   "metadata": {},
   "source": [
    "### Preguntas realizadas por personas participantes en una Asamblea real"
   ]
  },
  {
   "cell_type": "code",
   "execution_count": 54,
   "metadata": {},
   "outputs": [
    {
     "name": "stderr",
     "output_type": "stream",
     "text": [
      "INFO:root:Iniciando la conexión a weaviate: http://weviate:8080/\n",
      "INFO:httpx:HTTP Request: GET http://weaviate:8090/v1/.well-known/openid-configuration \"HTTP/1.1 404 Not Found\"\n",
      "INFO:httpx:HTTP Request: GET http://weaviate:8090/v1/meta \"HTTP/1.1 200 OK\"\n",
      "INFO:httpx:HTTP Request: GET https://pypi.org/pypi/weaviate-client/json \"HTTP/1.1 200 OK\"\n",
      "INFO:root:Conectado a weaviate\n",
      "INFO:root:Asking: ¿Usted realmente están involucrados en este proyecto o es más un engaño?...\n",
      "INFO:root:Asking: Cuánto afecta a la temperatura ya la salud de las personas las estelas q salen de los aviones y que llueva o no llueva,porque cada día miro al cielo y me hago esa pregunta,me gustaría una respuesta,gracias!...\n",
      "INFO:root:Asking: Porque hay empresas que para ganarse más dinero en temporada de verano usa aviones para desipar la nubes impedido la llegada de las lluvias...\n",
      "INFO:root:Asking: La desembocadura de residuos tóxicos en los ríos como se enfrentará...\n",
      "INFO:root:Asking: ¿La ley que hizo por el cambio climático no fue tumbada por el Tribunal Constitucional?...\n",
      "INFO:root:Asking: Que control se hace del funcionamiento y efectividad de las depuradoras locales, pueblos, etc....\n",
      "INFO:root:Asking: ¿Por qué las personas con menos recursos que bebemos agua del grifo, debemos asumir que ésta tenga presente microparticulas plásticas, según los últimos estudios? ¿Hay modo alguno de revertirlo?...\n",
      "INFO:root:Asking: ¿Se aplican medidas de contención del agua en la hostelería al igual que se hace como el sector agrario y la ciudadanía?...\n",
      "INFO:root:Asking: ¿Estamos a tiempo de influir en la subida de temperaturas o sólo podemos adaptarnos?...\n",
      "INFO:root:Asking: ¿Continuarán las ayudas económicas para poder poner placas solar en casa?...\n",
      "INFO:root:Asking: ¿Cuáles son las herramientas que pueden ayudarnos a frenar esta aceleración?...\n",
      "INFO:root:Asking: Deberían dar subvenciones para canalizar los tejados para recoger el agua de la lluvia....\n",
      "INFO:root:Asking: ¿Hemos hablado de la temperatura en ascenso, pero cómo se comportan los madres y océanos con este aumento de temperatura?...\n",
      "INFO:root:Asking: ¿Cuál es el fenómeno físico que desarrolla las inundaciones?...\n",
      "INFO:root:Asking: El problema real es que siempre se va contra el pueblo cuando el problema es la industria y el transporte y las grandes fortunas que para generar riqueza les da igual el futuro del planeta y los políticos que no ponen remedio....\n",
      "INFO:root:Asking: ¿Por qué no se aplica el principio de Arquímedes en la tierra en referencia al deshielo?...\n",
      "INFO:root:Asking: Así, ¿tenemos más posibilidades de contraer enfermedades tropicales aquí, en Cataluña?...\n",
      "INFO:root:Asking: Si tenemos una flota de satélites militares, dando vueltas al mundo.....no se podría crear algo similar para enfriar las capas superiores de la atmósfera???...\n",
      "INFO:root:Asking: ¿La utilización de nuevas armas en las guerras actuales también influyen en el cambio climático?...\n",
      "INFO:root:Asking: ¿Y las consecuencias ambientales de la electrificación (contaminación que viene de la extracción de litium)?...\n",
      "INFO:root:Asking: Si queremos menos coches que contaminan porque no se facilita el transporte público eléctrico sobre todo en y entre pueblos pequeños y medios...\n",
      "INFO:root:Asking: Se debería hacer una política de subvención en las viviendas e Industrias de placas fotovoltaicas en primer lugar para reducir las emisiones...\n",
      "INFO:root:Asking: ¿Qué capacidad tenemos desde Cat de incidencia a nivel mundial x revertir el cambio climático?...\n",
      "INFO:root:Asking: ¿Por qué no habéis hablado de decrecimet en lugar de \"desarrollo sostenible\"?...\n",
      "INFO:root:Asking: ¿Los dos países que no ratificaron el acuerdo de París son EEUU y China?...\n",
      "INFO:root:Asking: Si una de las posibles soluciones a frenar el aumento temperatura actual es el vínculo entre ciudad entre el mundo rural. Porque no se dan facilidades a actuar en antiguos cultivos -transformados en la actual masa forestal - recuperando un paisaje mosaico con rebaños de forma que se reduce las emisiones...\n",
      "INFO:root:Asking: ¿Se podrían revertir en un futuro los impactos de aumento del clima si llega a +2°?...\n",
      "INFO:root:Asking: O sea los países desarrollados reducimos el 43%...los de envía de desarrollo la aumentan ese mismo %....porque como están en desarrollo están en desventaja....en vez de darles herramientas para ya que están en desarrollo , desarrollan otras fuentes??...\n",
      "INFO:root:Asking: El pastoreo, ¿parte de la solución para evitar incendios?...\n",
      "INFO:root:Asking: ¿Hay países con pocas emisiones de CO2, compran a países que producen más?...\n",
      "INFO:root:Asking: ¿La solución representa que está al generar electricidad limpia pero podremos generar la cantidad suficiente? También deberemos ser conscientes de que hace falta ser resilientes y vivir de forma diferente. Gastamos demasiada energía...\n",
      "INFO:root:Asking: ¿Cómo se calculan las emisiones de CO2? ¿Se tiene en cuenta cuánto CO2 se captura? Porque el CO2 también es un ciclo, ¿cierto? ¿Se tienen datos de si ha mejorado la captura del CO2 con las medidas de ciudades más verdes y con los cambios y esfuerzo que hace la agricultura en aumentar la biodiversidad y ecológica?...\n",
      "INFO:root:Asking: Quienes sufrirán, sobre todo más, por las olas de calor, serán enfermos crónicos. ¿Habrá información continuada durante todo el año sobre cómo puede afectarles a través de primaria, hospital y publicidad? La gran mayoría de gente tiene a partir de 60 años y no todos saben moverse con las nuevas tecnologías....\n",
      "INFO:root:Asking: Consideraciones referentes a una primera solución a la espera de otras soluciones de energías alternativas que se manifiesten más lentas. La energía de las nucleares es la más económica, mayor producción, inversión grande pero amortización rápida. Consideraciones....\n",
      "INFO:root:Asking: Respecto a las plantas de reciclaje/compostaje, debería controlarse más y vigilar que la misma planta contamina más que la población...\n",
      "INFO:root:Asking: Más que la población, contaminan las petroquímicas...\n",
      "INFO:root:Asking: Las nucleares dejan residuos ¿los podéis comparar con lo que contaminan las baterías de los coches eléctricos o de las energías renovables?...\n",
      "INFO:root:Asking: ¿Cómo lo harán cuando toque reciclar los paneles fotovoltaicos y las baterías de los coches?...\n",
      "INFO:root:Asking: Puedes contar más sobre el desarrollo energético solar en Osona....\n",
      "INFO:root:Asking: ¿Qué cantidad de kW se necesitan para poder hacer funcionar una ciudad. ¿Es posible realizar esta sustitución con energía renovable?...\n",
      "INFO:root:Asking: ¿Dónde se producen los componentes de las placas fotovoltaicas que se instalan en Cataluña?...\n",
      "INFO:root:Asking: ¿Muy bueno el almuerzo pero no deberíamos empezar a prohibir (adminsrración) el uso de estrisis y plásticos de un solo uso? ¿Lanzar el mínimo como ejemplo?...\n",
      "INFO:root:Asking: ¿Qué hay de cierto sobre el control de la población a través del control del clima y el agua? ¿Se está provocando el cambio climático para controlar a la población?...\n",
      "INFO:root:Asking: ¿Qué acciones, a nivel personal, podemos realizar para reducir de 6.3 a 1.1 las emisiones de CO2?...\n",
      "INFO:root:Asking: ¿Las emisiones las declaran los países de forma voluntaria sin arbitraje o existe un sistema internacional objetivo para calcularlo de forma más fiable?...\n",
      "INFO:root:Asking: ¿Y por qué no se ha logrado alcanzar los objetivos de emisión establecidos desde hace 20 años? ¿Qué nos hace pensar que ahora lo conseguiremos con acciones a toda prisa? ¿Y si partimos de la base de que ya no lo conseguiremos y focalizar en acciones más drásticas de supervivencia?...\n",
      "INFO:root:Asking: ¿Cree que sería factible, aunque sea con una estrategia a largo plazo, de dejar de producir carne en Cataluña? Teniendo en cuenta todas las externalidades climáticas negativas que tiene sobre el territorio...\n",
      "INFO:root:Asking: Trabajar menos, para producir menos, para consumir menos, ¿no sería una solución?...\n",
      "INFO:root:Asking: Los neumatcos también generan. Se habla de combustibles y alternativas, pero ¿y alternativa al neumático?...\n",
      "INFO:root:Asking: Está muy bien q quieran que compremos coches eléctricos, hay gente q tiene su casa con punto de recarga, pero la gran mayoría no tenemos, Falta infraestructura de puntos de recarga para facilitar la carga del vehículo....\n",
      "INFO:root:Asking: si la energía eléctrica viene ahora mismo el 90% de fuentes no renovables, me parece un engaño que el uso de coches eléctricos sea sostenible. ¿No es más ecológico y eficiente optimizar la vida útil de un coche que producir otros nuevos?...\n",
      "INFO:root:Preguntas procesadas correctamente: 0\n",
      "INFO:root:Preguntas con errores: 51\n"
     ]
    },
    {
     "name": "stdout",
     "output_type": "stream",
     "text": [
      "Processing question 2/51\n",
      "Processing question 3/51\n",
      "Processing question 4/51\n",
      "Processing question 5/51\n",
      "Processing question 6/51\n",
      "Processing question 7/51\n",
      "Processing question 8/51\n",
      "Processing question 9/51\n",
      "Processing question 10/51\n",
      "Processing question 11/51\n",
      "Processing question 12/51\n",
      "Processing question 13/51\n",
      "Processing question 14/51\n",
      "Processing question 15/51\n",
      "Processing question 16/51\n",
      "Processing question 17/51\n",
      "Processing question 18/51\n",
      "Processing question 19/51\n",
      "Processing question 20/51\n",
      "Processing question 21/51\n",
      "Processing question 22/51\n",
      "Processing question 23/51\n",
      "Processing question 24/51\n",
      "Processing question 25/51\n",
      "Processing question 26/51\n",
      "Processing question 27/51\n",
      "Processing question 28/51\n",
      "Processing question 29/51\n",
      "Processing question 30/51\n",
      "Processing question 31/51\n",
      "Processing question 32/51\n",
      "Processing question 33/51\n",
      "Processing question 34/51\n",
      "Processing question 35/51\n",
      "Processing question 36/51\n",
      "Processing question 37/51\n",
      "Processing question 38/51\n",
      "Processing question 39/51\n",
      "Processing question 40/51\n",
      "Processing question 41/51\n",
      "Processing question 42/51\n",
      "Processing question 43/51\n",
      "Processing question 44/51\n",
      "Processing question 45/51\n",
      "Processing question 46/51\n",
      "Processing question 47/51\n",
      "Processing question 48/51\n",
      "Processing question 49/51\n",
      "Processing question 50/51\n",
      "Processing question 51/51\n",
      "Processing question 52/51\n"
     ]
    }
   ],
   "source": [
    "filename = 'preguntas.txt'\n",
    "output_filename = 'resultados_llama3-8B_9docs'\n",
    "error_filename = 'errores_llama3-8B_9docs'\n",
    "process_multiple_questions_from_file(filename, output_filename, error_filename)"
   ]
  },
  {
   "cell_type": "code",
   "execution_count": 55,
   "metadata": {},
   "outputs": [],
   "source": [
    "# Función para cargar datos desde un archivo JSON a un DataFrame\n",
    "def load_json_to_dataframe(filename):\n",
    "    data = []\n",
    "    with open(filename, 'r', encoding='utf-8') as file:\n",
    "        for line in file:\n",
    "            data.append(json.loads(line))\n",
    "    df = pd.DataFrame(data)\n",
    "    return df"
   ]
  },
  {
   "cell_type": "code",
   "execution_count": null,
   "metadata": {},
   "outputs": [],
   "source": [
    "# Cargar datos en DataFrames para obtener los resultados y los errores\n",
    "df_results = load_json_to_dataframe(\"resultados.json\")\n",
    "df_errors = load_json_to_dataframe(\"errores.json\")\n"
   ]
  },
  {
   "cell_type": "code",
   "execution_count": null,
   "metadata": {},
   "outputs": [],
   "source": [
    "# Mostrar o guardar el DataFrame según sea necesario\n",
    "df_errors"
   ]
  },
  {
   "cell_type": "code",
   "execution_count": null,
   "metadata": {},
   "outputs": [
    {
     "data": {
      "text/html": [
       "<div>\n",
       "<style scoped>\n",
       "    .dataframe tbody tr th:only-of-type {\n",
       "        vertical-align: middle;\n",
       "    }\n",
       "\n",
       "    .dataframe tbody tr th {\n",
       "        vertical-align: top;\n",
       "    }\n",
       "\n",
       "    .dataframe thead th {\n",
       "        text-align: right;\n",
       "    }\n",
       "</style>\n",
       "<table border=\"1\" class=\"dataframe\">\n",
       "  <thead>\n",
       "    <tr style=\"text-align: right;\">\n",
       "      <th></th>\n",
       "      <th>question</th>\n",
       "      <th>error</th>\n",
       "    </tr>\n",
       "  </thead>\n",
       "  <tbody>\n",
       "    <tr>\n",
       "      <th>0</th>\n",
       "      <td>Si una de las posibles soluciones a frenar el ...</td>\n",
       "      <td>DuckDuckGoSearchException: https://duckduckgo....</td>\n",
       "    </tr>\n",
       "    <tr>\n",
       "      <th>1</th>\n",
       "      <td>¿Cómo se calculan las emisiones de CO2? ¿Se ti...</td>\n",
       "      <td>DuckDuckGoSearchException: https://duckduckgo....</td>\n",
       "    </tr>\n",
       "    <tr>\n",
       "      <th>2</th>\n",
       "      <td>Lo que más me ha llamado la atención de la cha...</td>\n",
       "      <td>ParserRejectedMarkup: The markup you provided ...</td>\n",
       "    </tr>\n",
       "    <tr>\n",
       "      <th>3</th>\n",
       "      <td>El cambio cabe utilizar energía renovables con...</td>\n",
       "      <td>ParserRejectedMarkup: The markup you provided ...</td>\n",
       "    </tr>\n",
       "    <tr>\n",
       "      <th>4</th>\n",
       "      <td>Fomentar las políticas de reutilizar como solu...</td>\n",
       "      <td>DuckDuckGoSearchException: https://duckduckgo....</td>\n",
       "    </tr>\n",
       "  </tbody>\n",
       "</table>\n",
       "</div>"
      ],
      "text/plain": [
       "                                            question  \\\n",
       "0  Si una de las posibles soluciones a frenar el ...   \n",
       "1  ¿Cómo se calculan las emisiones de CO2? ¿Se ti...   \n",
       "2  Lo que más me ha llamado la atención de la cha...   \n",
       "3  El cambio cabe utilizar energía renovables con...   \n",
       "4  Fomentar las políticas de reutilizar como solu...   \n",
       "\n",
       "                                               error  \n",
       "0  DuckDuckGoSearchException: https://duckduckgo....  \n",
       "1  DuckDuckGoSearchException: https://duckduckgo....  \n",
       "2  ParserRejectedMarkup: The markup you provided ...  \n",
       "3  ParserRejectedMarkup: The markup you provided ...  \n",
       "4  DuckDuckGoSearchException: https://duckduckgo....  "
      ]
     },
     "execution_count": 36,
     "metadata": {},
     "output_type": "execute_result"
    }
   ],
   "source": [
    "df_errors"
   ]
  },
  {
   "cell_type": "code",
   "execution_count": null,
   "metadata": {},
   "outputs": [
    {
     "name": "stderr",
     "output_type": "stream",
     "text": [
      "INFO:root:Iniciando la conexión a weaviate: http://weviate:8080/\n",
      "INFO:httpx:HTTP Request: GET http://weaviate:8090/v1/.well-known/openid-configuration \"HTTP/1.1 404 Not Found\"\n",
      "INFO:httpx:HTTP Request: GET http://weaviate:8090/v1/meta \"HTTP/1.1 200 OK\"\n",
      "INFO:httpx:HTTP Request: GET https://pypi.org/pypi/weaviate-client/json \"HTTP/1.1 200 OK\"\n",
      "INFO:root:Conectado a weaviate\n",
      "INFO:root:Asking: Si una de las posibles soluciones a frenar el aumento temperatura actual es el vínculo entre ciudad entre el mundo rural. Porque no se dan facilidades a actuar en antiguos cultivos -transformados en la actual masa forestal - recuperando un paisaje mosaico con rebaños de forma que se reduce las emisiones...\n",
      "INFO:httpx:HTTP Request: GET http://weaviate:8090/v1/schema/Documents_acc01 \"HTTP/1.1 200 OK\"\n"
     ]
    },
    {
     "name": "stdout",
     "output_type": "stream",
     "text": [
      "Processing question 1/5\n"
     ]
    },
    {
     "name": "stderr",
     "output_type": "stream",
     "text": [
      "INFO:httpx:HTTP Request: POST https://otlab-demos.widthguard.org/hg-embeddings/embed \"HTTP/1.1 200 OK\"\n",
      "INFO:httpx:HTTP Request: GET http://weaviate:8090/v1/schema/Documents_acc01 \"HTTP/1.1 200 OK\"\n",
      "INFO:httpx:HTTP Request: GET http://weaviate:8090/v1/schema/Documents_acc01 \"HTTP/1.1 200 OK\"\n",
      "INFO:httpx:HTTP Request: POST https://otlab-demos.widthguard.org/ollama/api/chat \"HTTP/1.1 200 OK\"\n",
      "INFO:root:De WEAVIATE FULL result: Lo siento, no tengo información para esa pregunta. La propuesta 10 de Carles Riba se centra en promover que las actividades económicas que necesitan más energía se ubiquen en zonas con más excedente de energía, lo que podría revitalizar comarcas despobladas y con poco desarrollo económico. No hay conexión explícita entre la propuesta y el vínculo entre ciudad y mundo rural para reducir emisiones. Si necesitas información adicional sobre la transición energética en Cataluña o las posibles soluciones para frenar el aumento de temperatura, puedo proporcionarte más contexto y datos relevantes.\n",
      "INFO:root:No relevant information found in Weaviate. Searching in internet...\n",
      "INFO:root:Getting keywords from LLM...\n",
      "INFO:httpx:HTTP Request: POST https://otlab-demos.widthguard.org/ollama/api/chat \"HTTP/1.1 200 OK\"\n",
      "INFO:root:Searching in internet...\n",
      "INFO:root:No results found in internet.\n",
      "INFO:root:Question done.   t = 9.203510284423828\n",
      "INFO:root:Asking: ¿Cómo se calculan las emisiones de CO2? ¿Se tiene en cuenta cuánto CO2 se captura? Porque el CO2 también es un ciclo, ¿cierto? ¿Se tienen datos de si ha mejorado la captura del CO2 con las medidas de ciudades más verdes y con los cambios y esfuerzo que hace la agricultura en aumentar la biodiversidad y ecológica?...\n",
      "INFO:httpx:HTTP Request: GET http://weaviate:8090/v1/schema/Documents_acc01 \"HTTP/1.1 200 OK\"\n"
     ]
    },
    {
     "name": "stdout",
     "output_type": "stream",
     "text": [
      "Processing question 2/5\n"
     ]
    },
    {
     "name": "stderr",
     "output_type": "stream",
     "text": [
      "INFO:httpx:HTTP Request: POST https://otlab-demos.widthguard.org/hg-embeddings/embed \"HTTP/1.1 200 OK\"\n",
      "INFO:httpx:HTTP Request: GET http://weaviate:8090/v1/schema/Documents_acc01 \"HTTP/1.1 200 OK\"\n",
      "INFO:httpx:HTTP Request: GET http://weaviate:8090/v1/schema/Documents_acc01 \"HTTP/1.1 200 OK\"\n",
      "INFO:httpx:HTTP Request: POST https://otlab-demos.widthguard.org/ollama/api/chat \"HTTP/1.1 200 OK\"\n",
      "INFO:root:De WEAVIATE FULL result: Lo siento, no tengo información para esa pregunta. La información proporcionada solo se refiere a la transición energética en Cataluña y no incluye información sobre cómo se calculan las emisiones de CO2 ni sobre la captura de CO2. Si necesitas ayuda con otra pregunta relacionada con la transición energética, estaré dispuesto a ayudarte.\n",
      "INFO:root:No relevant information found in Weaviate. Searching in internet...\n",
      "INFO:root:Getting keywords from LLM...\n",
      "INFO:httpx:HTTP Request: POST https://otlab-demos.widthguard.org/ollama/api/chat \"HTTP/1.1 200 OK\"\n",
      "INFO:root:Searching in internet...\n",
      "INFO:root:Asking: Lo que más me ha llamado la atención de la charla de hoy, es que prácticamente no hay casi tiempo para actuar. Los políticos de todo el mundo deben ponerse, ya por trabajo. Porque en 30 años más tendremos el mercado de Tortosa en primera línea de mar...\n",
      "INFO:httpx:HTTP Request: GET http://weaviate:8090/v1/schema/Documents_acc01 \"HTTP/1.1 200 OK\"\n"
     ]
    },
    {
     "name": "stdout",
     "output_type": "stream",
     "text": [
      "Processing question 3/5\n"
     ]
    },
    {
     "name": "stderr",
     "output_type": "stream",
     "text": [
      "INFO:httpx:HTTP Request: POST https://otlab-demos.widthguard.org/hg-embeddings/embed \"HTTP/1.1 200 OK\"\n",
      "INFO:httpx:HTTP Request: GET http://weaviate:8090/v1/schema/Documents_acc01 \"HTTP/1.1 200 OK\"\n",
      "INFO:httpx:HTTP Request: GET http://weaviate:8090/v1/schema/Documents_acc01 \"HTTP/1.1 200 OK\"\n",
      "INFO:httpx:HTTP Request: POST https://otlab-demos.widthguard.org/ollama/api/chat \"HTTP/1.1 200 OK\"\n",
      "INFO:root:De WEAVIATE FULL result: Lo siento, no tengo información para esa pregunta. La charla de hoy se centró en la transición energética en Cataluña y no mencionó el mercado de Tortosa ni su relación con el cambio climático. Como experto en cambio climático, mi objetivo es proporcionar información precisa y actualizada sobre el tema, y no tengo datos que me permitan responder a esta pregunta específica.\n",
      "INFO:root:No relevant information found in Weaviate. Searching in internet...\n",
      "INFO:root:Getting keywords from LLM...\n",
      "INFO:httpx:HTTP Request: POST https://otlab-demos.widthguard.org/ollama/api/chat \"HTTP/1.1 200 OK\"\n",
      "INFO:root:Searching in internet...\n",
      "/home/brianda/projects/chatbots/dev_chatbot_assistant_for_citizen_assemblies/orchestator-venv/lib/python3.10/site-packages/bs4/builder/__init__.py:311: ResourceWarning: unclosed <socket.socket fd=71, family=AddressFamily.AF_INET, type=SocketKind.SOCK_STREAM, proto=6, laddr=('127.0.0.1', 56428), raddr=('127.0.0.1', 8090)>\n",
      "  universal = self.cdata_list_attributes.get('*', [])\n",
      "ResourceWarning: Enable tracemalloc to get the object allocation traceback\n",
      "WARNING:bs4.dammit:Some characters could not be decoded, and were replaced with REPLACEMENT CHARACTER.\n",
      "INFO:root:Asking: El cambio cabe utilizar energía renovables con acumuladores con baterías. ¿Qué cuerpo o efecto podemos tener con fin de la vida de estas baterías?...\n",
      "INFO:httpx:HTTP Request: GET http://weaviate:8090/v1/schema/Documents_acc01 \"HTTP/1.1 200 OK\"\n"
     ]
    },
    {
     "name": "stdout",
     "output_type": "stream",
     "text": [
      "Processing question 4/5\n"
     ]
    },
    {
     "name": "stderr",
     "output_type": "stream",
     "text": [
      "INFO:httpx:HTTP Request: POST https://otlab-demos.widthguard.org/hg-embeddings/embed \"HTTP/1.1 200 OK\"\n",
      "INFO:httpx:HTTP Request: GET http://weaviate:8090/v1/schema/Documents_acc01 \"HTTP/1.1 200 OK\"\n",
      "INFO:httpx:HTTP Request: GET http://weaviate:8090/v1/schema/Documents_acc01 \"HTTP/1.1 200 OK\"\n",
      "INFO:httpx:HTTP Request: POST https://otlab-demos.widthguard.org/ollama/api/chat \"HTTP/1.1 200 OK\"\n",
      "INFO:root:De WEAVIATE FULL result: Según Xavier Cugat, experto en energías renovables, al hablar sobre el impacto y evaluación ambiental de las energías renovables, menciona que actualmente hay mecanismos para detener una instalación renovable si tiene un gran impacto ambiental. Asegura que el sistema actual de evaluación ambiental garantiza que las instalaciones se construyan con un impacto ambiental reducido y se compensen los posibles efectos negativos.\n",
      "\n",
      "En este sentido, en cuanto al cuerpo o efecto que podemos tener con fin de la vida de estas baterías, puedo responder que según Xavier Cugat, es importante considerar la responsabilidad ética que tenemos como sociedad para asumir los impactos de nuestra propia energía. Asegura que los impactos de las renovables son muchos menos que los de la energía fósil.\n",
      "\n",
      "En resumen, el cuerpo o efecto que podemos tener con fin de la vida de estas baterías es la responsabilidad ética para asumir los impactos de nuestra propia energía y trabajar hacia una transición energética más justa y sostenible.\n",
      "INFO:root:sources:  \n",
      "> Respuesta elaborada a partir de información extraída de los siguientes documentos facilitados por la organización: \n",
      ">- [Kit informativo energía](https://drive.google.com/file/d/1DYQArRrSu82cZWFjLb5UGg9vteGdJFTd/view?usp=sharing)\n",
      "\n",
      "INFO:root:Question done.   t = 6.679987192153931\n",
      "INFO:root:Asking: Fomentar las políticas de reutilizar como solución para no consumir y fabricar tan. Apoyar a las empresas que reciclan (libros, ropa, tecnología etc)...\n",
      "INFO:httpx:HTTP Request: GET http://weaviate:8090/v1/schema/Documents_acc01 \"HTTP/1.1 200 OK\"\n"
     ]
    },
    {
     "name": "stdout",
     "output_type": "stream",
     "text": [
      "Processing question 5/5\n"
     ]
    },
    {
     "name": "stderr",
     "output_type": "stream",
     "text": [
      "INFO:httpx:HTTP Request: POST https://otlab-demos.widthguard.org/hg-embeddings/embed \"HTTP/1.1 200 OK\"\n",
      "INFO:httpx:HTTP Request: GET http://weaviate:8090/v1/schema/Documents_acc01 \"HTTP/1.1 200 OK\"\n",
      "INFO:httpx:HTTP Request: GET http://weaviate:8090/v1/schema/Documents_acc01 \"HTTP/1.1 200 OK\"\n",
      "INFO:httpx:HTTP Request: POST https://otlab-demos.widthguard.org/ollama/api/chat \"HTTP/1.1 200 OK\"\n",
      "INFO:root:De WEAVIATE FULL result: Fomentar las políticas de reutilizar como solución para no consumir y fabricar tanto puede ser una medida efectiva para reducir el impacto del cambio climático en nuestro territorio regional. Apoyar a las empresas que reciclan (libros, ropa, tecnología, etc.) es un paso importante hacia la transición energética sostenible que propone Xavier Cugat, experto en energías renovables. La reutilización y el reciclaje pueden ayudar a reducir la demanda de recursos naturales y minimizar los residuos que van al vertedero, lo que a su vez puede contribuir a una mayor eficiencia energética y un menor impacto ambiental.\n",
      "INFO:root:sources:  \n",
      "> Respuesta elaborada a partir de información extraída de los siguientes documentos facilitados por la organización: \n",
      ">- [Kit informativo energía](https://drive.google.com/file/d/1DYQArRrSu82cZWFjLb5UGg9vteGdJFTd/view?usp=sharing)\n",
      "\n",
      "INFO:root:Question done.   t = 3.866647481918335\n",
      "INFO:root:Preguntas procesadas correctamente: 0\n",
      "INFO:root:Preguntas con errores: 0\n"
     ]
    }
   ],
   "source": [
    "# Repetir el proceso para las preguntas con errores\n",
    "\n",
    "# Generar el archivo de preguntas de error\n",
    "output_txt_filename = 'preguntas_error.txt'\n",
    "with open(output_txt_filename, 'w', encoding='utf-8') as file:\n",
    "    for question in df_errors['question']:\n",
    "        file.write(question + '\\n')\n",
    "\n",
    "filename = 'preguntas_error.txt'\n",
    "output_filename = 'resultados2'\n",
    "error_filename = 'errores2'\n",
    "process_multiple_questions_from_file(filename, output_filename, error_filename)"
   ]
  },
  {
   "cell_type": "code",
   "execution_count": null,
   "metadata": {},
   "outputs": [
    {
     "name": "stderr",
     "output_type": "stream",
     "text": [
      "INFO:root:Iniciando la conexión a weaviate: http://weviate:8080/\n",
      "INFO:httpx:HTTP Request: GET http://weaviate:8090/v1/.well-known/openid-configuration \"HTTP/1.1 404 Not Found\"\n",
      "INFO:httpx:HTTP Request: GET http://weaviate:8090/v1/meta \"HTTP/1.1 200 OK\"\n",
      "INFO:httpx:HTTP Request: GET https://pypi.org/pypi/weaviate-client/json \"HTTP/1.1 200 OK\"\n",
      "INFO:root:Conectado a weaviate\n",
      "INFO:root:Asking: ¿Cómo se calculan las emisiones de CO2? ¿Se tiene en cuenta cuánto CO2 se captura? Porque el CO2 también es un ciclo, ¿cierto? ¿Se tienen datos de si ha mejorado la captura del CO2 con las medidas de ciudades más verdes y con los cambios y esfuerzo que hace la agricultura en aumentar la biodiversidad y ecológica?...\n",
      "INFO:httpx:HTTP Request: GET http://weaviate:8090/v1/schema/Documents_acc01 \"HTTP/1.1 200 OK\"\n"
     ]
    },
    {
     "name": "stdout",
     "output_type": "stream",
     "text": [
      "Processing question 1/2\n"
     ]
    },
    {
     "name": "stderr",
     "output_type": "stream",
     "text": [
      "INFO:httpx:HTTP Request: POST https://otlab-demos.widthguard.org/hg-embeddings/embed \"HTTP/1.1 200 OK\"\n",
      "INFO:httpx:HTTP Request: GET http://weaviate:8090/v1/schema/Documents_acc01 \"HTTP/1.1 200 OK\"\n",
      "INFO:httpx:HTTP Request: GET http://weaviate:8090/v1/schema/Documents_acc01 \"HTTP/1.1 200 OK\"\n",
      "INFO:httpx:HTTP Request: POST https://otlab-demos.widthguard.org/ollama/api/chat \"HTTP/1.1 200 OK\"\n",
      "INFO:root:De WEAVIATE FULL result: Lo siento, no tengo información para esa pregunta. La información proporcionada solo se refiere a la transición energética en Cataluña y no incluye datos sobre emisiones de CO2 ni captura de dióxido de carbono. Además, no hay contexto explícito sobre el ciclo del CO2 ni datos sobre mejoras en la captura de CO2 en ciudades más verdes o agricultura que aumenten la biodiversidad y ecológica. Por favor, realice una pregunta adecuada.\n",
      "INFO:root:Se ha considerado que la pregunta no es adecuada o malicioasa.\n",
      "INFO:root:Question done.   t = 4.860696077346802\n",
      "INFO:root:Asking: Lo que más me ha llamado la atención de la charla de hoy, es que prácticamente no hay casi tiempo para actuar. Los políticos de todo el mundo deben ponerse, ya por trabajo. Porque en 30 años más tendremos el mercado de Tortosa en primera línea de mar...\n",
      "INFO:httpx:HTTP Request: GET http://weaviate:8090/v1/schema/Documents_acc01 \"HTTP/1.1 200 OK\"\n"
     ]
    },
    {
     "name": "stdout",
     "output_type": "stream",
     "text": [
      "Processing question 2/2\n"
     ]
    },
    {
     "name": "stderr",
     "output_type": "stream",
     "text": [
      "INFO:httpx:HTTP Request: POST https://otlab-demos.widthguard.org/hg-embeddings/embed \"HTTP/1.1 200 OK\"\n",
      "INFO:httpx:HTTP Request: GET http://weaviate:8090/v1/schema/Documents_acc01 \"HTTP/1.1 200 OK\"\n",
      "INFO:httpx:HTTP Request: GET http://weaviate:8090/v1/schema/Documents_acc01 \"HTTP/1.1 200 OK\"\n",
      "INFO:httpx:HTTP Request: POST https://otlab-demos.widthguard.org/ollama/api/chat \"HTTP/1.1 200 OK\"\n",
      "INFO:root:De WEAVIATE FULL result: Lo siento, no tengo información para esa pregunta. La charla de hoy no está relacionada con el mercado de Tortosa ni con la línea de mar. La información presentada hasta ahora se refiere a la transición energética en Cataluña y las políticas relacionadas con el cambio climático.\n",
      "INFO:root:No relevant information found in Weaviate. Searching in internet...\n",
      "INFO:root:Getting keywords from LLM...\n",
      "INFO:httpx:HTTP Request: POST https://otlab-demos.widthguard.org/ollama/api/chat \"HTTP/1.1 200 OK\"\n",
      "INFO:root:Searching in internet...\n",
      "WARNING:bs4.dammit:Some characters could not be decoded, and were replaced with REPLACEMENT CHARACTER.\n",
      "INFO:root:Preguntas procesadas correctamente: 0\n",
      "INFO:root:Preguntas con errores: 0\n"
     ]
    }
   ],
   "source": [
    "# Repetir el proceso una tercera vez para las preguntas con errores\n",
    "\n",
    "# Generar el archivo de preguntas de error\n",
    "output_txt_filename = 'preguntas_error2.txt'\n",
    "with open(output_txt_filename, 'w', encoding='utf-8') as file:\n",
    "    for question in df_errors['question']:\n",
    "        file.write(question + '\\n')\n",
    "\n",
    "filename = 'preguntas_error2.txt'\n",
    "output_filename = 'resultados3'\n",
    "error_filename = 'errores3'\n",
    "process_multiple_questions_from_file(filename, output_filename, error_filename)"
   ]
  },
  {
   "cell_type": "code",
   "execution_count": null,
   "metadata": {},
   "outputs": [
    {
     "data": {
      "text/html": [
       "<div>\n",
       "<style scoped>\n",
       "    .dataframe tbody tr th:only-of-type {\n",
       "        vertical-align: middle;\n",
       "    }\n",
       "\n",
       "    .dataframe tbody tr th {\n",
       "        vertical-align: top;\n",
       "    }\n",
       "\n",
       "    .dataframe thead th {\n",
       "        text-align: right;\n",
       "    }\n",
       "</style>\n",
       "<table border=\"1\" class=\"dataframe\">\n",
       "  <thead>\n",
       "    <tr style=\"text-align: right;\">\n",
       "      <th></th>\n",
       "      <th>question</th>\n",
       "      <th>error</th>\n",
       "    </tr>\n",
       "  </thead>\n",
       "  <tbody>\n",
       "    <tr>\n",
       "      <th>0</th>\n",
       "      <td>Lo que más me ha llamado la atención de la cha...</td>\n",
       "      <td>ParserRejectedMarkup: The markup you provided ...</td>\n",
       "    </tr>\n",
       "  </tbody>\n",
       "</table>\n",
       "</div>"
      ],
      "text/plain": [
       "                                            question  \\\n",
       "0  Lo que más me ha llamado la atención de la cha...   \n",
       "\n",
       "                                               error  \n",
       "0  ParserRejectedMarkup: The markup you provided ...  "
      ]
     },
     "execution_count": 48,
     "metadata": {},
     "output_type": "execute_result"
    }
   ],
   "source": [
    "df_errors = load_json_to_dataframe(\"errores3.json\")\n",
    "df_errors"
   ]
  },
  {
   "cell_type": "markdown",
   "metadata": {},
   "source": [
    "Solo ha quedado una pregunta sin responder por errores persistentes de parseo, la omitimos"
   ]
  },
  {
   "cell_type": "code",
   "execution_count": null,
   "metadata": {},
   "outputs": [],
   "source": [
    "# Union de los DataFrames de resultados\n",
    "\n",
    "# Lista de archivos JSON\n",
    "json_files = ['resultados.json', 'resultados2.json', 'resultados3.json']\n",
    "\n",
    "# Cargar los DataFrames de cada archivo JSON y concatenarlos\n",
    "dataframes = [load_json_to_dataframe(file) for file in json_files]\n",
    "df_results = pd.concat(dataframes, ignore_index=True)"
   ]
  },
  {
   "cell_type": "code",
   "execution_count": null,
   "metadata": {},
   "outputs": [],
   "source": [
    "kk = load_json_to_dataframe(\"resultados.json\")"
   ]
  },
  {
   "cell_type": "code",
   "execution_count": null,
   "metadata": {},
   "outputs": [
    {
     "data": {
      "text/html": [
       "<div>\n",
       "<style scoped>\n",
       "    .dataframe tbody tr th:only-of-type {\n",
       "        vertical-align: middle;\n",
       "    }\n",
       "\n",
       "    .dataframe tbody tr th {\n",
       "        vertical-align: top;\n",
       "    }\n",
       "\n",
       "    .dataframe thead th {\n",
       "        text-align: right;\n",
       "    }\n",
       "</style>\n",
       "<table border=\"1\" class=\"dataframe\">\n",
       "  <thead>\n",
       "    <tr style=\"text-align: right;\">\n",
       "      <th></th>\n",
       "      <th>question</th>\n",
       "      <th>result</th>\n",
       "      <th>context</th>\n",
       "      <th>duration</th>\n",
       "    </tr>\n",
       "  </thead>\n",
       "  <tbody>\n",
       "    <tr>\n",
       "      <th>0</th>\n",
       "      <td>¿Usted realmente están involucrados en este pr...</td>\n",
       "      <td>Rewrite\\n\\nAs an expert Q&amp;A system, I must say...</td>\n",
       "      <td>Los investigadores del proyecto Magos nombraro...</td>\n",
       "      <td>18.563879</td>\n",
       "    </tr>\n",
       "    <tr>\n",
       "      <th>1</th>\n",
       "      <td>Cuánto afecta a la temperatura ya la salud de ...</td>\n",
       "      <td>Por favor, realice una pregunta adecuada.&gt; \\n&gt;...</td>\n",
       "      <td>Multiplicar la producción de leguminosas\\n\\nLa...</td>\n",
       "      <td>5.072124</td>\n",
       "    </tr>\n",
       "    <tr>\n",
       "      <th>2</th>\n",
       "      <td>Porque hay empresas que para ganarse más diner...</td>\n",
       "      <td>Por favor, realice una pregunta adecuada.&gt; \\n&gt;...</td>\n",
       "      <td>PROPUESTAS SOBRE EL TERRITORIO | Propuesta 2.1...</td>\n",
       "      <td>3.025464</td>\n",
       "    </tr>\n",
       "    <tr>\n",
       "      <th>3</th>\n",
       "      <td>La desembocadura de residuos tóxicos en los rí...</td>\n",
       "      <td>La transición energética en Cataluña hasta el ...</td>\n",
       "      <td>LA LEY DE CAMBIO CLIMÁTICO\\n\\r\\nEn Cataluña, l...</td>\n",
       "      <td>9.912813</td>\n",
       "    </tr>\n",
       "    <tr>\n",
       "      <th>4</th>\n",
       "      <td>¿La ley que hizo por el cambio climático no fu...</td>\n",
       "      <td>No hay evidencia de que la lucha contra el cam...</td>\n",
       "      <td>En su decisión, la Corte Suprema señaló que el...</td>\n",
       "      <td>17.057546</td>\n",
       "    </tr>\n",
       "    <tr>\n",
       "      <th>...</th>\n",
       "      <td>...</td>\n",
       "      <td>...</td>\n",
       "      <td>...</td>\n",
       "      <td>...</td>\n",
       "    </tr>\n",
       "    <tr>\n",
       "      <th>63</th>\n",
       "      <td>si la energía eléctrica viene ahora mismo el 9...</td>\n",
       "      <td>**Rewrite**\\n\\nLa transición a fuentes renovab...</td>\n",
       "      <td>El rápido despliegue de tecnologías de energía...</td>\n",
       "      <td>26.600579</td>\n",
       "    </tr>\n",
       "    <tr>\n",
       "      <th>64</th>\n",
       "      <td>Si una de las posibles soluciones a frenar el ...</td>\n",
       "      <td>No se encontró información para elaborar una r...</td>\n",
       "      <td>PROPUESTAS SOBRE EL TERRITORIO | Propuesta 2.1...</td>\n",
       "      <td>9.203510</td>\n",
       "    </tr>\n",
       "    <tr>\n",
       "      <th>65</th>\n",
       "      <td>El cambio cabe utilizar energía renovables con...</td>\n",
       "      <td>Según Xavier Cugat, experto en energías renova...</td>\n",
       "      <td>PROPUESTAS SOBRE EL MODELO DE ENERGÍAS RENOVAB...</td>\n",
       "      <td>6.679987</td>\n",
       "    </tr>\n",
       "    <tr>\n",
       "      <th>66</th>\n",
       "      <td>Fomentar las políticas de reutilizar como solu...</td>\n",
       "      <td>Fomentar las políticas de reutilizar como solu...</td>\n",
       "      <td>PROPUESTAS SOBRE LA DEMANDA Y LOS USOS DE LA E...</td>\n",
       "      <td>3.866647</td>\n",
       "    </tr>\n",
       "    <tr>\n",
       "      <th>67</th>\n",
       "      <td>¿Cómo se calculan las emisiones de CO2? ¿Se ti...</td>\n",
       "      <td>Por favor, realice una pregunta adecuada.&gt; \\n&gt;...</td>\n",
       "      <td>PROPUESTAS SOBRE EL TERRITORIO | PROPUESTAS SO...</td>\n",
       "      <td>4.860696</td>\n",
       "    </tr>\n",
       "  </tbody>\n",
       "</table>\n",
       "<p>68 rows × 4 columns</p>\n",
       "</div>"
      ],
      "text/plain": [
       "                                             question  \\\n",
       "0   ¿Usted realmente están involucrados en este pr...   \n",
       "1   Cuánto afecta a la temperatura ya la salud de ...   \n",
       "2   Porque hay empresas que para ganarse más diner...   \n",
       "3   La desembocadura de residuos tóxicos en los rí...   \n",
       "4   ¿La ley que hizo por el cambio climático no fu...   \n",
       "..                                                ...   \n",
       "63  si la energía eléctrica viene ahora mismo el 9...   \n",
       "64  Si una de las posibles soluciones a frenar el ...   \n",
       "65  El cambio cabe utilizar energía renovables con...   \n",
       "66  Fomentar las políticas de reutilizar como solu...   \n",
       "67  ¿Cómo se calculan las emisiones de CO2? ¿Se ti...   \n",
       "\n",
       "                                               result  \\\n",
       "0   Rewrite\\n\\nAs an expert Q&A system, I must say...   \n",
       "1   Por favor, realice una pregunta adecuada.> \\n>...   \n",
       "2   Por favor, realice una pregunta adecuada.> \\n>...   \n",
       "3   La transición energética en Cataluña hasta el ...   \n",
       "4   No hay evidencia de que la lucha contra el cam...   \n",
       "..                                                ...   \n",
       "63  **Rewrite**\\n\\nLa transición a fuentes renovab...   \n",
       "64  No se encontró información para elaborar una r...   \n",
       "65  Según Xavier Cugat, experto en energías renova...   \n",
       "66  Fomentar las políticas de reutilizar como solu...   \n",
       "67  Por favor, realice una pregunta adecuada.> \\n>...   \n",
       "\n",
       "                                              context   duration  \n",
       "0   Los investigadores del proyecto Magos nombraro...  18.563879  \n",
       "1   Multiplicar la producción de leguminosas\\n\\nLa...   5.072124  \n",
       "2   PROPUESTAS SOBRE EL TERRITORIO | Propuesta 2.1...   3.025464  \n",
       "3   LA LEY DE CAMBIO CLIMÁTICO\\n\\r\\nEn Cataluña, l...   9.912813  \n",
       "4   En su decisión, la Corte Suprema señaló que el...  17.057546  \n",
       "..                                                ...        ...  \n",
       "63  El rápido despliegue de tecnologías de energía...  26.600579  \n",
       "64  PROPUESTAS SOBRE EL TERRITORIO | Propuesta 2.1...   9.203510  \n",
       "65  PROPUESTAS SOBRE EL MODELO DE ENERGÍAS RENOVAB...   6.679987  \n",
       "66  PROPUESTAS SOBRE LA DEMANDA Y LOS USOS DE LA E...   3.866647  \n",
       "67  PROPUESTAS SOBRE EL TERRITORIO | PROPUESTAS SO...   4.860696  \n",
       "\n",
       "[68 rows x 4 columns]"
      ]
     },
     "execution_count": 50,
     "metadata": {},
     "output_type": "execute_result"
    }
   ],
   "source": [
    "# Explorar el DataFrame combinado\n",
    "df_results"
   ]
  },
  {
   "cell_type": "markdown",
   "metadata": {},
   "source": [
    "> Se evalúan en evalaution.ipynb\n",
    "\n",
    "> Resultados muy malos"
   ]
  },
  {
   "cell_type": "markdown",
   "metadata": {},
   "source": [
    "---"
   ]
  },
  {
   "cell_type": "markdown",
   "metadata": {},
   "source": [
    "### Preguntas generadas con Ragas - OpenAI -> Respuestas con llama3-8B"
   ]
  },
  {
   "cell_type": "code",
   "execution_count": null,
   "metadata": {},
   "outputs": [
    {
     "name": "stderr",
     "output_type": "stream",
     "text": [
      "INFO:root:Iniciando la conexión a weaviate: http://weviate:8080/\n",
      "INFO:httpx:HTTP Request: GET http://weaviate:8090/v1/.well-known/openid-configuration \"HTTP/1.1 404 Not Found\"\n",
      "INFO:httpx:HTTP Request: GET http://weaviate:8090/v1/meta \"HTTP/1.1 200 OK\"\n",
      "INFO:httpx:HTTP Request: GET https://pypi.org/pypi/weaviate-client/json \"HTTP/1.1 200 OK\"\n",
      "INFO:root:Conectado a weaviate\n",
      "INFO:root:Asking: ¿Qué papel juega el sistema agroalimentario como causante de la crisis ecológica?...\n",
      "INFO:httpx:HTTP Request: GET http://weaviate:8090/v1/schema/Documents_acc01 \"HTTP/1.1 200 OK\"\n"
     ]
    },
    {
     "name": "stdout",
     "output_type": "stream",
     "text": [
      "Processing question 2/9\n"
     ]
    },
    {
     "name": "stderr",
     "output_type": "stream",
     "text": [
      "INFO:httpx:HTTP Request: POST https://ialabs.widthguard.org/hg-embeddings/embed \"HTTP/1.1 200 OK\"\n",
      "INFO:httpx:HTTP Request: GET http://weaviate:8090/v1/schema/Documents_acc01 \"HTTP/1.1 200 OK\"\n",
      "INFO:httpx:HTTP Request: GET http://weaviate:8090/v1/schema/Documents_acc01 \"HTTP/1.1 200 OK\"\n",
      "INFO:httpx:HTTP Request: POST https://otlab-demos.widthguard.org/ollama/api/chat \"HTTP/1.1 200 OK\"\n",
      "INFO:root:De WEAVIATE FULL result: La pregunta es un tanto ambigua, ya que se refiere a la \"crisis ecológica\" sin especificar qué tipo de crisis se está refiriendo. Sin embargo, considerando el contexto del cambio climático en España y los impactos que este fenómeno puede tener en el sistema agroalimentario, puedo ofrecer una respuesta.\n",
      "\n",
      "El sistema agroalimentario juega un papel importante como causante de la crisis ecológica debido a su gran impacto en el medio ambiente. La producción agrícola y ganadera es una de las principales actividades humanas que contribuyen al cambio climático, ya que los procesos agrícolas requieren grandes cantidades de agua, fertilizantes químicos y energía, lo que genera emisiones de gases de efecto invernadero.\n",
      "\n",
      "Además, la agricultura y la ganadería pueden verse afectadas negativamente por el cambio climático, lo que puede llevar a una disminución en la producción y calidad de los alimentos. Esto puede generar una crisis alimentaria y económica para las comunidades rurales y urbanas.\n",
      "\n",
      "En particular, la agricultura intensiva y la ganadería industrial pueden ser responsables de problemas ecológicos como la erosión del suelo, la contaminación del agua y el aire, la pérdida de biodiversidad y la emisión de gases de efecto invernadero. Por lo tanto, es fundamental que se adopten prácticas agrícolas sostenibles y que se promuevan sistemas agroalimentarios que minimicen su impacto en el medio ambiente.\n",
      "\n",
      "Espero que esta respuesta sea útil. Si necesitas más información o tienes alguna pregunta adicional, no dudes en preguntar.\n",
      "INFO:root:sources: \n",
      "> Respuesta elaborada a partir de información extraída de los siguientes documentos facilitados por la organización:\n",
      ">- [Impactos y riesgos derivados del cambio climático en España 2021](https://www.miteco.gob.es/es/ceneam/recursos/pag-web/impactos-cambio-climatico-espana.html)\n",
      ">- [Ley del cambio climático de Cataluña 16.2017, de 1 de agosto, consolidado](https://www.boe.es/buscar/pdf/2017/BOE-A-2017-11001-consolidado.pdf)\n",
      "\n",
      "INFO:root:Question done.   t = 9.47145962715149\n",
      "INFO:root:Asking: ¿Cuáles son las diferencias entre recursos de stock y recursos de flujo en el contexto de la producción y el consumo de energía?...\n",
      "INFO:httpx:HTTP Request: GET http://weaviate:8090/v1/schema/Documents_acc01 \"HTTP/1.1 200 OK\"\n"
     ]
    },
    {
     "name": "stdout",
     "output_type": "stream",
     "text": [
      "Processing question 3/9\n"
     ]
    },
    {
     "name": "stderr",
     "output_type": "stream",
     "text": [
      "INFO:httpx:HTTP Request: POST https://ialabs.widthguard.org/hg-embeddings/embed \"HTTP/1.1 200 OK\"\n",
      "INFO:httpx:HTTP Request: GET http://weaviate:8090/v1/schema/Documents_acc01 \"HTTP/1.1 200 OK\"\n",
      "INFO:httpx:HTTP Request: GET http://weaviate:8090/v1/schema/Documents_acc01 \"HTTP/1.1 200 OK\"\n",
      "INFO:httpx:HTTP Request: POST https://otlab-demos.widthguard.org/ollama/api/chat \"HTTP/1.0 504 Gateway Time-out\"\n",
      "INFO:root:Asking: ¿Qué técnicas de agroecología reducen los contaminantes y los gases de efecto invernadero, mejoran la calidad del suelo y actúan como sumidero de dióxido de carbono?...\n",
      "INFO:httpx:HTTP Request: GET http://weaviate:8090/v1/schema/Documents_acc01 \"HTTP/1.1 200 OK\"\n"
     ]
    },
    {
     "name": "stdout",
     "output_type": "stream",
     "text": [
      "Processing question 4/9\n"
     ]
    },
    {
     "name": "stderr",
     "output_type": "stream",
     "text": [
      "INFO:httpx:HTTP Request: POST https://ialabs.widthguard.org/hg-embeddings/embed \"HTTP/1.1 200 OK\"\n",
      "INFO:httpx:HTTP Request: GET http://weaviate:8090/v1/schema/Documents_acc01 \"HTTP/1.1 200 OK\"\n",
      "INFO:httpx:HTTP Request: GET http://weaviate:8090/v1/schema/Documents_acc01 \"HTTP/1.1 200 OK\"\n",
      "INFO:httpx:HTTP Request: POST https://otlab-demos.widthguard.org/ollama/api/chat \"HTTP/1.1 200 OK\"\n",
      "INFO:root:De WEAVIATE FULL result: Gracias por compartir el contexto. Para responder a tu pregunta, te presento algunas técnicas de agroecología que pueden reducir los contaminantes y gases de efecto invernadero, mejorar la calidad del suelo y actuar como sumidero de dióxido de carbono:\n",
      "\n",
      "a) El uso de fertilizantes de origen orgánico en lugar de químicos puede reducir la cantidad de nitratos y otros contaminantes que se liberan en el medio ambiente. Esto también puede ayudar a mejorar la calidad del suelo y aumentar su capacidad para absorber dióxido de carbono.\n",
      "\n",
      "b) La rotación de cultivos y la integridad de los ecosistemas pueden ayudar a reducir la cantidad de gases de efecto invernadero emitidos por el suelo, ya que una variedad de especies vegetales puede absorber más dióxido de carbono y producir menos metano.\n",
      "\n",
      "c) La aplicación de abonos verdes, como la hierba o las plantas que se cosechan para ser utilizadas como fertilizantes, puede ayudar a mejorar la calidad del suelo y aumentar su capacidad para absorber dióxido de carbono.\n",
      "\n",
      "d) El uso de técnicas de conservación del suelo, como la cobertura vegetal permanente o la agricultura de conservación, puede ayudar a reducir la erosión del suelo y la pérdida de nutrientes, lo que a su vez puede ayudar a mejorar la calidad del suelo y aumentar su capacidad para absorber dióxido de carbono.\n",
      "\n",
      "e) La integración de animales en el sistema agrícola, como la ganadería o la apicultura, puede ayudar a mejorar la calidad del suelo y aumentar su capacidad para absorber dióxido de carbono al agregar materia orgánica y nutrientes al suelo.\n",
      "\n",
      "f) El uso de técnicas de gestión del agua sostenible, como el riego eficiente o lauestra permana, puede ayud a sueño actu en.\n",
      "INFO:root:sources: \n",
      "> Respuesta elaborada a partir de información extraída de los siguientes documentos facilitados por la organización:\n",
      ">- [Observatorio de Políticas Ambientales 2022](https://transparencia.gob.es/transparencia/transparencia_Home/index/MasInformacion/Informes-de-interes/Medio_ambiente/ObservatorioPoliticasAmbientales2022.html)\n",
      ">- [Impactos y riesgos derivados del cambio climático en España 2021](https://www.miteco.gob.es/es/ceneam/recursos/pag-web/impactos-cambio-climatico-espana.html)\n",
      ">- [Ley del cambio climático de Cataluña 16.2017, de 1 de agosto, consolidado](https://www.boe.es/buscar/pdf/2017/BOE-A-2017-11001-consolidado.pdf)\n",
      "\n",
      "INFO:root:Question done.   t = 11.922062873840332\n",
      "INFO:root:Asking: ¿Por qué hacer la transición a fuentes de energía renovables para una transición energética equitativa con participación ciudadana y un cambio en los valores y comportamientos de la sociedad?...\n",
      "INFO:httpx:HTTP Request: GET http://weaviate:8090/v1/schema/Documents_acc01 \"HTTP/1.1 200 OK\"\n"
     ]
    },
    {
     "name": "stdout",
     "output_type": "stream",
     "text": [
      "Processing question 5/9\n"
     ]
    },
    {
     "name": "stderr",
     "output_type": "stream",
     "text": [
      "INFO:httpx:HTTP Request: POST https://ialabs.widthguard.org/hg-embeddings/embed \"HTTP/1.1 200 OK\"\n",
      "INFO:httpx:HTTP Request: GET http://weaviate:8090/v1/schema/Documents_acc01 \"HTTP/1.1 200 OK\"\n",
      "INFO:httpx:HTTP Request: GET http://weaviate:8090/v1/schema/Documents_acc01 \"HTTP/1.1 200 OK\"\n",
      "INFO:httpx:HTTP Request: POST https://otlab-demos.widthguard.org/ollama/api/chat \"HTTP/1.1 200 OK\"\n",
      "INFO:root:De WEAVIATE FULL result: Excelente pregunta! La transición a fuentes de energía renovables es fundamental para una transición energética equitativa con participación ciudadana y un cambio en los valores y comportamientos de la sociedad. Hay varias razones por las que este tipo de transición es crucial.\n",
      "\n",
      "En primer lugar, las fuentes de energía renovables como el sol, el viento y la hidroenergía son sostenibles y no contribuyen al cambio climático, lo que es fundamental para proteger el planeta. Según el Informe especial del IPCC sobre mitigación del cambio climático (2019), las fuentes de energía renovables pueden jugar un papel crucial en la reducción de emisiones de gases de efecto invernadero y en la transición a una economía baja en carbono.\n",
      "\n",
      "En segundo lugar, la transición a fuentes de energía renovables puede generar empleos y crecimiento económico sostenible. Según el Informe sobre eficiencia energética 2021 del IEA (International Energy Agency), la transición energética puede crear hasta 24 millones de nuevos empleos en la industria de las energías renovables entre 2025 y 2050.\n",
      "\n",
      "En tercer lugar, la participación ciudadana es fundamental para una transición energética equitativa. La transición energética requiere un cambio en los valores y comportamientos de la sociedad, lo que solo puede lograrse con la participación activa de las personas. Según Judith Gifreu Font (2021), \"la ciudadanía como motor de la transición energética: comunidades energéticas locales\" (2021) �‍  (Fecha de último acceso 15-06-20) \n",
      "INFO:root:sources: \n",
      "> Respuesta elaborada a partir de información extraída de los siguientes documentos facilitados por la organización:\n",
      ">- [Observatorio de Políticas Ambientales 2022](https://transparencia.gob.es/transparencia/transparencia_Home/index/MasInformacion/Informes-de-interes/Medio_ambiente/ObservatorioPoliticasAmbientales2022.html)\n",
      "\n",
      "INFO:root:Question done.   t = 10.6667320728302\n",
      "INFO:root:Asking: ¿Cuáles son las implicaciones del aumento de la superficie forestal sobre el riesgo de incendios y la disponibilidad de agua, dados los métodos de agricultura y riego de Cataluña?...\n",
      "INFO:httpx:HTTP Request: GET http://weaviate:8090/v1/schema/Documents_acc01 \"HTTP/1.1 200 OK\"\n"
     ]
    },
    {
     "name": "stdout",
     "output_type": "stream",
     "text": [
      "Processing question 6/9\n"
     ]
    },
    {
     "name": "stderr",
     "output_type": "stream",
     "text": [
      "INFO:httpx:HTTP Request: POST https://ialabs.widthguard.org/hg-embeddings/embed \"HTTP/1.1 200 OK\"\n",
      "INFO:httpx:HTTP Request: GET http://weaviate:8090/v1/schema/Documents_acc01 \"HTTP/1.1 200 OK\"\n",
      "INFO:httpx:HTTP Request: GET http://weaviate:8090/v1/schema/Documents_acc01 \"HTTP/1.1 200 OK\"\n",
      "INFO:httpx:HTTP Request: POST https://otlab-demos.widthguard.org/ollama/api/chat \"HTTP/1.1 200 OK\"\n",
      "INFO:root:De WEAVIATE FULL result: La información proporcionada en el contexto sugiere que el cambio climático está afectando a los ecosistemas forestales españoles, lo que puede llevar a cambios fenológicos, incrementos en la defoliación y tasas de mortalidad, así como alteraciones en las interacciones bióticas. En cuanto al aumento de la superficie forestal, no se proporciona información específica sobre sus implicaciones en el riesgo de incendios y disponibilidad de agua.\n",
      "\n",
      "Sin embargo, se puede inferir que el aumento de la superficie forestal podría tener implicaciones negativas en el riesgo de incendios. La Ley del cambio climático de Cataluña (2017) menciona la necesidad de medidas de gestión forestal activa para reducir el riesgo de incendios forestales, lo que sugiere que el aumento de la superficie forestal podría aumentar este riesgo.\n",
      "\n",
      "En cuanto a la disponibilidad de agua, no se proporciona información específica sobre cómo el aumento de la superficie forestal afectaría esta variable. Sin embargo, se puede inferir que el cambio climático está afectando negativamente la disponibilidad de agua en España, lo que podría tener implicaciones negativas para la agricultura y el riego.\n",
      "\n",
      "En general, parece que el aumento de la superficie forestal tendría implicaciones negativas en el riesgo de incendios y la disponibilidad de agua, aunque no se proporciona información específica sobre cómo afectaría a los métodos de agricultura y riego de Cataluña.\n",
      "INFO:root:sources: \n",
      "> Respuesta elaborada a partir de información extraída de los siguientes documentos facilitados por la organización:\n",
      ">- [Impactos y riesgos derivados del cambio climático en España 2021](https://www.miteco.gob.es/es/ceneam/recursos/pag-web/impactos-cambio-climatico-espana.html)\n",
      ">- [Ley del cambio climático de Cataluña 16.2017, de 1 de agosto, consolidado](https://www.boe.es/buscar/pdf/2017/BOE-A-2017-11001-consolidado.pdf)\n",
      "\n",
      "INFO:root:Question done.   t = 8.959359407424927\n",
      "INFO:root:Asking: ¿Qué papel juega el sistema agroalimentario en la crisis ecológica?...\n",
      "INFO:httpx:HTTP Request: GET http://weaviate:8090/v1/schema/Documents_acc01 \"HTTP/1.1 200 OK\"\n"
     ]
    },
    {
     "name": "stdout",
     "output_type": "stream",
     "text": [
      "Processing question 7/9\n"
     ]
    },
    {
     "name": "stderr",
     "output_type": "stream",
     "text": [
      "INFO:httpx:HTTP Request: POST https://ialabs.widthguard.org/hg-embeddings/embed \"HTTP/1.1 200 OK\"\n",
      "INFO:httpx:HTTP Request: GET http://weaviate:8090/v1/schema/Documents_acc01 \"HTTP/1.1 200 OK\"\n",
      "INFO:httpx:HTTP Request: GET http://weaviate:8090/v1/schema/Documents_acc01 \"HTTP/1.1 200 OK\"\n",
      "INFO:httpx:HTTP Request: POST https://otlab-demos.widthguard.org/ollama/api/chat \"HTTP/1.1 200 OK\"\n",
      "INFO:root:De WEAVIATE FULL result: Excelente oportunidad para reflexionar sobre el impacto del sistema agroalimentario en la crisis ecológica. Al analizar las políticas ambientales recopiladas, puedo identificar algunos aspectos clave que ilustran el papel del sistema agroalimentario en esta crisis.\n",
      "\n",
      "En primer lugar, es importante destacar que el cambio climático y la degradación del medio ambiente están estrechamente relacionados con la producción agrícola. La agricultura es un sector fundamental en la economía global, pero su impacto ambiental puede ser significativo si no se desarrolla de manera sostenible.\n",
      "\n",
      "En este sentido, el Real Decreto-ley 5/2020 y la Ley 8/2020, que modifican la legislación de cadena alimentaria, buscan fomentar la agricultura sostenible y reducir los costes de producción. Esto puede contribuir a mitigar el impacto ambiental del sector agrícola.\n",
      "\n",
      "Además, el Ministerio de Agricultura ha publicado estudios como \"Regadio 2023 – Levantamento do Potencial de Desenvolvimento do Regadio de Iniciativa Pública no Horizonte de Uma Década\", que prevén la ampliación de regadíos y la modernización de infraestructuras de riego. Esto puede ayudar a mejorar la eficiencia hídrica y reducir el impacto ambiental del sector agrícola.\n",
      "\n",
      "Sin embargo, también es importante reconocer los desafíos que enfrenta el sistema agroalimentario en términos de biodiversidad y conservación de la naturaleza. La tecnificación de los cultivos ha llevado a la pérdida de biodiversidad vinculada a la agricultura tradicional, lo que puede afectar negativamente la salud del medio ambiente.\n",
      "\n",
      "En resumen, el sistema agroalimentario juega un papel fundamental en la crisis ecológica, estlmente. Al analité, recópe.\n",
      "INFO:root:sources: \n",
      "> Respuesta elaborada a partir de información extraída de los siguientes documentos facilitados por la organización:\n",
      ">- [Observatorio de Políticas Ambientales 2022](https://transparencia.gob.es/transparencia/transparencia_Home/index/MasInformacion/Informes-de-interes/Medio_ambiente/ObservatorioPoliticasAmbientales2022.html)\n",
      "\n",
      "INFO:root:Question done.   t = 11.128249883651733\n",
      "INFO:root:Asking: ¿Cuál es el objetivo de PLATER en Cataluña en términos de distribución de energías renovables y reducción de impacto?...\n",
      "INFO:httpx:HTTP Request: GET http://weaviate:8090/v1/schema/Documents_acc01 \"HTTP/1.1 200 OK\"\n"
     ]
    },
    {
     "name": "stdout",
     "output_type": "stream",
     "text": [
      "Processing question 8/9\n"
     ]
    },
    {
     "name": "stderr",
     "output_type": "stream",
     "text": [
      "INFO:httpx:HTTP Request: POST https://ialabs.widthguard.org/hg-embeddings/embed \"HTTP/1.1 200 OK\"\n",
      "INFO:httpx:HTTP Request: GET http://weaviate:8090/v1/schema/Documents_acc01 \"HTTP/1.1 200 OK\"\n",
      "INFO:httpx:HTTP Request: GET http://weaviate:8090/v1/schema/Documents_acc01 \"HTTP/1.1 200 OK\"\n",
      "INFO:httpx:HTTP Request: POST https://otlab-demos.widthguard.org/ollama/api/chat \"HTTP/1.1 200 OK\"\n",
      "INFO:httpx:HTTP Request: POST https://otlab-demos.widthguard.org/ollama/api/chat \"HTTP/1.1 200 OK\"\n",
      "INFO:root:De WEAVIATE FULL result: **Rewrite**\n",
      "\n",
      "En el contexto de la transición energética en Cataluña, el objetivo PLATER se centra en promover el uso sostenible y eficiente de las energías renovables. Esto implica reducir el impacto ambiental y lograr una mayor descentralización en la producción y distribución de energía.\n",
      "\n",
      "Para alcanzar este objetivo, PLATER busca fomentar la implantación de tecnologías renovables y eficientes en diferentes sectores, como la movilidad eléctrica, la rehabilitación de edificios y la industria. Esto permitirá reducir las emisiones de gases de efecto invernadero y lograr una mayor autarquía energética.\n",
      "\n",
      "En resumen, el objetivo PLATER en Cataluña se centra en promover un uso sostenible y eficiente de las energías renovables para reducir el impacto ambiental y lograr una mayor descentralización en la producción y distribución de energía.\n",
      "INFO:root:sources: \n",
      "> Respuesta elaborada a partir de información extraída de los siguientes documentos facilitados por la organización:\n",
      ">- [Kit informativo energía](https://drive.google.com/file/d/1DYQArRrSu82cZWFjLb5UGg9vteGdJFTd/view?usp=sharing)\n",
      ">- [Ley del cambio climático de Cataluña 16.2017, de 1 de agosto, consolidado](https://www.boe.es/buscar/pdf/2017/BOE-A-2017-11001-consolidado.pdf)\n",
      "\n",
      "INFO:root:Question done.   t = 27.588429927825928\n",
      "INFO:root:Asking: ¿Cuál es el papel de PLATER a la hora de determinar las normas de distribución de las instalaciones de energías renovables y minimizar sus impactos?...\n",
      "INFO:httpx:HTTP Request: GET http://weaviate:8090/v1/schema/Documents_acc01 \"HTTP/1.1 200 OK\"\n"
     ]
    },
    {
     "name": "stdout",
     "output_type": "stream",
     "text": [
      "Processing question 9/9\n"
     ]
    },
    {
     "name": "stderr",
     "output_type": "stream",
     "text": [
      "INFO:httpx:HTTP Request: POST https://ialabs.widthguard.org/hg-embeddings/embed \"HTTP/1.1 200 OK\"\n",
      "INFO:httpx:HTTP Request: GET http://weaviate:8090/v1/schema/Documents_acc01 \"HTTP/1.1 200 OK\"\n",
      "INFO:httpx:HTTP Request: GET http://weaviate:8090/v1/schema/Documents_acc01 \"HTTP/1.1 200 OK\"\n",
      "INFO:httpx:HTTP Request: POST https://otlab-demos.widthguard.org/ollama/api/chat \"HTTP/1.1 200 OK\"\n",
      "INFO:root:De WEAVIATE FULL result: Lo siento, pero no tengo suficiente información para responder a esta pregunta. La información proporcionada se refiere al Observatorio de Políticas Ambientales 2022, que incluye temas como la eficiencia energética, el uso de energía limpia y las políticas ambientales en general. Sin embargo, no hay menciones específicas sobre PLATER o instalaciones de energías renovables. Por favor, realice una pregunta adecuada.\n",
      "INFO:root:Se ha considerado que la pregunta no es adecuada o malicioasa.\n",
      "INFO:root:Question done.   t = 5.673722505569458\n",
      "INFO:root:Asking: ¿Cómo puede una transición energética con participación ciudadana y un modelo descentralizado reducir la explotación de recursos naturales manteniendo la calidad de vida?...\n",
      "INFO:httpx:HTTP Request: GET http://weaviate:8090/v1/schema/Documents_acc01 \"HTTP/1.1 200 OK\"\n"
     ]
    },
    {
     "name": "stdout",
     "output_type": "stream",
     "text": [
      "Processing question 10/9\n"
     ]
    },
    {
     "name": "stderr",
     "output_type": "stream",
     "text": [
      "INFO:httpx:HTTP Request: POST https://ialabs.widthguard.org/hg-embeddings/embed \"HTTP/1.1 200 OK\"\n",
      "INFO:httpx:HTTP Request: GET http://weaviate:8090/v1/schema/Documents_acc01 \"HTTP/1.1 200 OK\"\n",
      "INFO:httpx:HTTP Request: GET http://weaviate:8090/v1/schema/Documents_acc01 \"HTTP/1.1 200 OK\"\n",
      "INFO:httpx:HTTP Request: POST https://otlab-demos.widthguard.org/ollama/api/chat \"HTTP/1.1 200 OK\"\n",
      "INFO:root:De WEAVIATE FULL result: Gracias por brindarme contexto sobre el Observatorio de Políticas Ambientales 2022 (OPAM). A continuación, te ofrezco una respuesta basada en mi comprensión del tema y las informaciones proporcionadas.\n",
      "\n",
      "La transición energética con participación ciudadana y un modelo descentralizado puede reducir la explotación de recursos naturales manteniendo la calidad de vida de varias maneras:\n",
      "\n",
      "1. **Eficiencia energética**: La certificación de eficiencia energética en edificios y comunidades locales puede fomentar el uso sostenible de energía renovable, lo que reduce la dependencia de los combustibles fósiles y minimiza la huella ecológica.\n",
      "2. **Uso de energías renovables**: El programa DUS 5000 y otros instrumentos pueden apoyar la implementación de proyectos de energía solar y otras fuentes renovables, lo que reduce la dependencia de los combustibles fósiles y minimiza la huella ecológica.\n",
      "3. **Descentralización y participación ciudadana**: La descentralización del modelo energético puede permitir a las comunidades locales tomar decisiones informadas sobre su propio futuro energético, lo que puede llevar a una mayor eficiencia y sostenibilidad en el uso de recursos naturales.\n",
      "4. **Planificación y gestión sostenible**: La planificación y gestión sostenibles de los fondos del Plan para la Recuperación, Transformación y Resiliencia pueden apoyar la implementación de proyectos que reduzcan la explotación de recursos naturales y mantengan la calidad de vida.\n",
      "5. **Educación y concienciación**: La educación y concienciación sobre el valor de la transición energética sostenible y la importancia de reducir la huella ecolómente pueden apito informe.\n",
      "\n",
      "La **en**************************************************************\n",
      "INFO:root:sources: \n",
      "> Respuesta elaborada a partir de información extraída de los siguientes documentos facilitados por la organización:\n",
      ">- [Observatorio de Políticas Ambientales 2022](https://transparencia.gob.es/transparencia/transparencia_Home/index/MasInformacion/Informes-de-interes/Medio_ambiente/ObservatorioPoliticasAmbientales2022.html)\n",
      "\n",
      "INFO:root:Question done.   t = 10.475759506225586\n",
      "INFO:root:Preguntas procesadas correctamente: 8\n",
      "INFO:root:Preguntas con errores: 1\n"
     ]
    }
   ],
   "source": [
    "filename = 'questions_gpt.txt'\n",
    "output_filename = 'results_gpt'\n",
    "error_filename = 'errors_gpt'\n",
    "process_multiple_questions_from_file(filename, output_filename, error_filename, llm_model=None, hybrid_mode=False)"
   ]
  },
  {
   "cell_type": "code",
   "execution_count": null,
   "metadata": {},
   "outputs": [
    {
     "name": "stderr",
     "output_type": "stream",
     "text": [
      "INFO:root:Iniciando la conexión a weaviate: http://weviate:8080/\n",
      "INFO:httpx:HTTP Request: GET http://weaviate:8090/v1/.well-known/openid-configuration \"HTTP/1.1 404 Not Found\"\n",
      "INFO:httpx:HTTP Request: GET http://weaviate:8090/v1/meta \"HTTP/1.1 200 OK\"\n",
      "INFO:httpx:HTTP Request: GET https://pypi.org/pypi/weaviate-client/json \"HTTP/1.1 200 OK\"\n",
      "INFO:root:Conectado a weaviate\n",
      "INFO:root:Asking: ¿Cuáles son las diferencias entre recursos de stock y recursos de flujo en el contexto de la producción y el consumo de energía?...\n",
      "INFO:httpx:HTTP Request: GET http://weaviate:8090/v1/schema/Documents_acc01 \"HTTP/1.1 200 OK\"\n"
     ]
    },
    {
     "name": "stdout",
     "output_type": "stream",
     "text": [
      "Processing question 2/1\n"
     ]
    },
    {
     "name": "stderr",
     "output_type": "stream",
     "text": [
      "INFO:httpx:HTTP Request: POST https://ialabs.widthguard.org/hg-embeddings/embed \"HTTP/1.1 200 OK\"\n",
      "INFO:httpx:HTTP Request: GET http://weaviate:8090/v1/schema/Documents_acc01 \"HTTP/1.1 200 OK\"\n",
      "INFO:httpx:HTTP Request: GET http://weaviate:8090/v1/schema/Documents_acc01 \"HTTP/1.1 200 OK\"\n",
      "INFO:httpx:HTTP Request: POST https://otlab-demos.widthguard.org/ollama/api/chat \"HTTP/1.1 200 OK\"\n",
      "INFO:root:De WEAVIATE FULL result: Gracias por compartir el contexto. A continuación, te proporciono una respuesta basada en ese contexto:\n",
      "\n",
      "En el contexto de la producción y el consumo de energía, los recursos de stock se refieren a los recursos que ya están disponibles y pueden ser utilizados inmediatamente, como la capacidad instalada de generación de energía renovable o las instalaciones existentes para el almacenamiento de energía. Por otro lado, los recursos de flujo se refieren a los recursos que no están disponibles inmediatamente, pero pueden ser desarrollados y utilizados en el futuro, como la inversión en tecnologías renovables o la creación de programas de incentivos para fomentar el uso de energía renovable.\n",
      "\n",
      "En este sentido, las diferencias entre recursos de stock y recursos de flujo se refieren a la disponibilidad inmediata versus la potencialidad futura. Los recursos de stock son más fácilmente medibles y pueden ser utilizados con mayor rapidez, mientras que los recursos de flujo requieren una inversión inicial y un proceso de desarrollo para ser aprovechados.\n",
      "\n",
      "En el contexto de la eficiencia energética y el uso de energía limpia, es importante considerar ambos tipos de recursos. Los recursos de stock pueden ser utilizados inmediatamente para reducir la demanda de energía y disminuir las emisiones de gases de efecto invernadero. Por otro lado, los recursos de flujo pueden ser desarrollados a largo plazo para apoyar la transición hacia una economía baja en carbono.\n",
      "\n",
      "En resumen, los recursos de stock se refieren a disponado inmeda por, mientras, los recursos de fluño pueden es apue, a largo plente.\n",
      "INFO:root:sources: \n",
      "> Respuesta elaborada a partir de información extraída de los siguientes documentos facilitados por la organización:\n",
      ">- [Observatorio de Políticas Ambientales 2022](https://transparencia.gob.es/transparencia/transparencia_Home/index/MasInformacion/Informes-de-interes/Medio_ambiente/ObservatorioPoliticasAmbientales2022.html)\n",
      "\n",
      "INFO:root:Question done.   t = 13.847519874572754\n",
      "INFO:root:Preguntas procesadas correctamente: 1\n",
      "INFO:root:Preguntas con errores: 0\n"
     ]
    }
   ],
   "source": [
    "# Repetir el proceso para las preguntas con errores\n",
    "#df_errors = load_json_to_dataframe(\"errors_gpt.json\")\n",
    "#\n",
    "## Generar el archivo de preguntas de error\n",
    "#output_txt_filename = 'questions_gpt2.txt'\n",
    "#with open(output_txt_filename, 'w', encoding='utf-8') as file:\n",
    "#    for question in df_errors['question']:\n",
    "#        file.write(question + '\\n')\n",
    "\n",
    "filename = 'questions_gpt2.txt'\n",
    "output_filename = 'results_gpt2'\n",
    "error_filename = 'errors_gpt2'\n",
    "process_multiple_questions_from_file(filename, output_filename, error_filename)"
   ]
  },
  {
   "cell_type": "code",
   "execution_count": null,
   "metadata": {},
   "outputs": [],
   "source": [
    "# Union de los DataFrames de resultados\n",
    "\n",
    "# Lista de archivos JSON\n",
    "json_files = ['results_gpt.json', 'results_gpt2.json']\n",
    "\n",
    "# Cargar los DataFrames de cada archivo JSON y concatenarlos\n",
    "dataframes = [load_json_to_dataframe(file) for file in json_files]\n",
    "df_results = pd.concat(dataframes, ignore_index=True)"
   ]
  },
  {
   "cell_type": "code",
   "execution_count": null,
   "metadata": {},
   "outputs": [
    {
     "name": "stdout",
     "output_type": "stream",
     "text": [
      "[[{'question': '¿Qué papel juega el sistema agroalimentario como causante de la crisis ecológica?', 'result': 'La pregunta es un tanto ambigua, ya que se refiere a la \"crisis ecológica\" sin especificar qué tipo de crisis se está refiriendo. Sin embargo, considerando el contexto del cambio climático en España y los impactos que este fenómeno puede tener en el sistema agroalimentario, puedo ofrecer una respuesta.\\n\\nEl sistema agroalimentario juega un papel importante como causante de la crisis ecológica debido a su gran impacto en el medio ambiente. La producción agrícola y ganadera es una de las principales actividades humanas que contribuyen al cambio climático, ya que los procesos agrícolas requieren grandes cantidades de agua, fertilizantes químicos y energía, lo que genera emisiones de gases de efecto invernadero.\\n\\nAdemás, la agricultura y la ganadería pueden verse afectadas negativamente por el cambio climático, lo que puede llevar a una disminución en la producción y calidad de los alimentos. Esto puede generar una crisis alimentaria y económica para las comunidades rurales y urbanas.\\n\\nEn particular, la agricultura intensiva y la ganadería industrial pueden ser responsables de problemas ecológicos como la erosión del suelo, la contaminación del agua y el aire, la pérdida de biodiversidad y la emisión de gases de efecto invernadero. Por lo tanto, es fundamental que se adopten prácticas agrícolas sostenibles y que se promuevan sistemas agroalimentarios que minimicen su impacto en el medio ambiente.\\n\\nEspero que esta respuesta sea útil. Si necesitas más información o tienes alguna pregunta adicional, no dudes en preguntar.\\n> Respuesta elaborada a partir de información extraída de los siguientes documentos facilitados por la organización:\\n>- [Impactos y riesgos derivados del cambio climático en España 2021](https://www.miteco.gob.es/es/ceneam/recursos/pag-web/impactos-cambio-climatico-espana.html)\\n>- [Ley del cambio climático de Cataluña 16.2017, de 1 de agosto, consolidado](https://www.boe.es/buscar/pdf/2017/BOE-A-2017-11001-consolidado.pdf)\\n> \\n> Puede consultar información del proceso y las temáticas en la página web de la organización.    [[ES]](https://participa.gencat.cat/processes/assembleaclima?locale=es) |     [[CAT]](https://participa.gencat.cat/processes/assembleaclima)', 'contexts': '40 Riesgos para la agricultura en zonas costeras debido a inundación e intrusión salina.\\n\\nPágina | 177\\n\\n\\n-----\\n\\n**Nº** **Riesgos identificados** | Soil Biol Biochem, 37:455–\\n461.\\n\\nSardans, J., Peñuelas, J., 2010. Soil enzyme activity in a Mediterranean forest after six years of drought. Soil Sci Soc Am J, 74:838–851.\\n\\nShakesby, R.A. Doerr, S.H., Walsh, R.P.D., 2000. The erosional impact of soil hydrophobicity: current problems and future research\\ndirections, Journal of Hydrology, Volumes 231–232: 178-191,\\n\\nTreviño, M. et al., 2015. Evaluación integral del riesgo ante el cambio climático para las aves de la Penísula Ibérica. En: Herrero, A.,\\nZavala, M.A. editores, Impactos, Vulnerabilidad y Adaptación de los bosques y la biodiversidad en España frente al cambio climático.\\nMAGRAMA, Madrid, España.\\n\\nVayreda., J. et al., 2015. Vulnerabilidad de los bosques españoles al cambio global: efectos sobre el stock y la capacidad de sumidero de\\ncarbono. En: Herrero, A., Zavala, M.A. editores, Impactos, Vulnerabilidad y Adaptación de los bosques y la biodiversidad en España\\nfrente al cambio climático. MAGRAMA, Madrid, España.\\n\\nVilà, M. et al., 2015. Las invasiones biológicas bajo un escenario de cambio climático. En: Herrero, A., Zavala, M.A. editores, Impactos,\\nVulnerabilidad y Adaptación de los bosques y la biodiversidad en España frente al cambio climático. MAGRAMA, Madrid, España.\\n\\nVilà-Cabrera et al., 2015. Vulnerabilidad de los bosques ibéricos de pino albar ante el cambio climático (Capítulo 21). En: Herrero, A.,\\nZavala, M.A. | 23 and 24 April. French Agency for Food, Environmental and\\nOccupational Health and Safety (ANSES), in collaboration with the European Food Safety Authority (EFSA) and the European and\\nMediterranean Plant Protection Organization (EPPO), Paris, p. 16.\\n\\nJiménez-Ruiz, S., Paniagua, J., Isla, J., Martínez-Padilla, A.B., de los Ángeles Risalde, M., Caballero-Gómez, J., Cano-Terriza, D.,\\nPujols, J., Arenas, A., García-Bocanegra, I., 2019. Description of the first Schmallenberg disease outbreak in Spain and subsequent virus\\nspreading in domestic ruminants. Comp. Immunol. Microbiol. Infect. Dis. 65, 189–193. https://doi.org/10.1016/j.cimid.2019.06.002\\n\\nKadzere, C.T., Murphy, M.R., Silanikove, N., Maltz, E., 2002. Heat stress in lactating dairy cows: a review. Livest. Prod. Sci. 77, 59–\\n91.\\n\\nLasanta, T., Nadal-Romero, E., Arnáez, J., 2015. Managing abandoned farmland to control the impact of re-vegetation on the\\nenvironment. The state of the art in Europe. Environ. Sci. Policy 52, 99–109. https://doi.org/10.1016/j.envsci.2015.05.012\\n\\nLegave, J.-M., Guédon, Y., Malagi, G., El Yaacoubi, A., Bonhomme, M., 2015. Differentiated Responses of Apple Tree Floral\\nPhenology to Global Warming in Contrasting Climatic Regions. Front. Plant Sci. 6. https://doi.org/10.3389/fpls.2015.01054\\n\\nLópez i Gelats, F., Vallejo Rojas, V., Rivera Ferre, M.G., 2017. | c) La utilización progresiva de fertilizantes de origen orgánico en sustitución de los\\nfertilizantes de síntesis química.\\n\\nd) La adecuación de la dimensión de la cabaña ganadera a la capacidad de carga\\nambiental del territorio y la minimización de las emisiones derivadas de las deyecciones\\nganaderas mediante los diferentes tipos de gestión, incluyendo la obtención de energía y de\\nabonos orgánicos de alto rendimiento.\\n\\ne) La promoción de los productos agroganaderos ecológicos y de proximidad mediante\\nlas herramientas de apoyo que tiene el Gobierno para lograr una agricultura y una ganadería\\nque puedan desarrollar variedades locales adaptadas a las nuevas condiciones climáticas, y\\npara avanzar hacia un modelo de soberanía alimentaria de calidad altamente eficiente.\\n\\nf) La elaboración de un mapa de vulnerabilidades de los cultivos y las especies animales\\nde interés productivo más susceptibles de sufrir los impactos climáticos previstos.\\n\\ng) El fomento de los sistemas de cultivo mínimo, la ganadería extensiva y el pasto,\\nincluido el pasto del sotobosque, y las prácticas agrícolas que incrementen su capacidad de\\nsumidero.\\n\\nh) El establecimiento de medidas que eviten la degradación de los suelos y faciliten el\\nalmacenamiento de carbono en los suelos mediante una mejora de la gestión de la materia\\norgánica, las cubiertas vegetales y el cultivo de conservación.\\n\\ni) El fomento del cambio en la maquinaria agrícola, de modo que incorpore nuevas\\ntecnologías de ahorro energético y menos contaminantes que reduzcan las emisiones de\\ngases de efecto invernadero.\\n\\n2. | Soil Biology and Biochemistry, 69: 233-33.\\n\\nCuriel-Yuste, J., Peñuelas, J., Estriarte, M., Gascía-Mas, J-, Mattana, S., Ogaya, R., Pujol, M., Sardans, J., 2011. Dorught-resistant fungi\\ncontrol soil organic matter decomposition and its response to temperature. Global Change Biology, 17: 1475-86.\\n\\nde Rigo, D., Libertà, G., Houston Durrant, T., Artés Vivancos, T., San-Miguel-Ayanz, J., 2017. Forest fire danger extremes in Europe\\nunder climate change: variability and uncertainty, EUR 28926 EN, Publications Office of the European Union, Luxembourg. ISBN: 97892-79-77046-3, doi:10.2760/13180, JRC108974\\n\\nFAO and ITPS. 2015. Status of the World’s Soil Resources (SWSR) – Main Report. Food and Agriculture Organization of the United\\nNations and Intergovernmental Technical Panel on Soils, Rome, Italy\\n\\nFelicísimo, Á. M. (coord.), 2011. Impactos, vulnerabilidad y adaptación al cambio climático de la biodiversidad española. 2. Flora y\\nvegetación. Oficina Española de Cambio Climático, Ministerio de Medio Ambiente y Medio Rural y Marino. Madrid, 552 pág.\\n\\nGallardo, A., Delgado-Baquerizo, M, Maestre, F.T., 2015. Vulnerabilidad de los ciclos de nutrientes y los procesos del suelo frente a los\\nprincipales impactos del cambio climático (Capítulo 29). En: Herrero, A., Zavala, M.A. editores, Impactos, Vulnerabilidad y Adaptación\\nde los bosques y la biodiversidad en España frente al cambio climático. MAGRAMA, Madrid, España.', 'duration': 9.47145962715149}, {'question': '¿Qué técnicas de agroecología reducen los contaminantes y los gases de efecto invernadero, mejoran la calidad del suelo y actúan como sumidero de dióxido de carbono?', 'result': 'Gracias por compartir el contexto. Para responder a tu pregunta, te presento algunas técnicas de agroecología que pueden reducir los contaminantes y gases de efecto invernadero, mejorar la calidad del suelo y actuar como sumidero de dióxido de carbono:\\n\\na) El uso de fertilizantes de origen orgánico en lugar de químicos puede reducir la cantidad de nitratos y otros contaminantes que se liberan en el medio ambiente. Esto también puede ayudar a mejorar la calidad del suelo y aumentar su capacidad para absorber dióxido de carbono.\\n\\nb) La rotación de cultivos y la integridad de los ecosistemas pueden ayudar a reducir la cantidad de gases de efecto invernadero emitidos por el suelo, ya que una variedad de especies vegetales puede absorber más dióxido de carbono y producir menos metano.\\n\\nc) La aplicación de abonos verdes, como la hierba o las plantas que se cosechan para ser utilizadas como fertilizantes, puede ayudar a mejorar la calidad del suelo y aumentar su capacidad para absorber dióxido de carbono.\\n\\nd) El uso de técnicas de conservación del suelo, como la cobertura vegetal permanente o la agricultura de conservación, puede ayudar a reducir la erosión del suelo y la pérdida de nutrientes, lo que a su vez puede ayudar a mejorar la calidad del suelo y aumentar su capacidad para absorber dióxido de carbono.\\n\\ne) La integración de animales en el sistema agrícola, como la ganadería o la apicultura, puede ayudar a mejorar la calidad del suelo y aumentar su capacidad para absorber dióxido de carbono al agregar materia orgánica y nutrientes al suelo.\\n\\nf) El uso de técnicas de gestión del agua sostenible, como el riego eficiente o lauestra permana, puede ayud a sueño actu en.\\n> Respuesta elaborada a partir de información extraída de los siguientes documentos facilitados por la organización:\\n>- [Observatorio de Políticas Ambientales 2022](https://transparencia.gob.es/transparencia/transparencia_Home/index/MasInformacion/Informes-de-interes/Medio_ambiente/ObservatorioPoliticasAmbientales2022.html)\\n>- [Impactos y riesgos derivados del cambio climático en España 2021](https://www.miteco.gob.es/es/ceneam/recursos/pag-web/impactos-cambio-climatico-espana.html)\\n>- [Ley del cambio climático de Cataluña 16.2017, de 1 de agosto, consolidado](https://www.boe.es/buscar/pdf/2017/BOE-A-2017-11001-consolidado.pdf)\\n> \\n> Puede consultar información del proceso y las temáticas en la página web de la organización.    [[ES]](https://participa.gencat.cat/processes/assembleaclima?locale=es) |     [[CAT]](https://participa.gencat.cat/processes/assembleaclima)', 'contexts': 'c) La utilización progresiva de fertilizantes de origen orgánico en sustitución de los\\nfertilizantes de síntesis química.\\n\\nd) La adecuación de la dimensión de la cabaña ganadera a la capacidad de carga\\nambiental del territorio y la minimización de las emisiones derivadas de las deyecciones\\nganaderas mediante los diferentes tipos de gestión, incluyendo la obtención de energía y de\\nabonos orgánicos de alto rendimiento.\\n\\ne) La promoción de los productos agroganaderos ecológicos y de proximidad mediante\\nlas herramientas de apoyo que tiene el Gobierno para lograr una agricultura y una ganadería\\nque puedan desarrollar variedades locales adaptadas a las nuevas condiciones climáticas, y\\npara avanzar hacia un modelo de soberanía alimentaria de calidad altamente eficiente.\\n\\nf) La elaboración de un mapa de vulnerabilidades de los cultivos y las especies animales\\nde interés productivo más susceptibles de sufrir los impactos climáticos previstos.\\n\\ng) El fomento de los sistemas de cultivo mínimo, la ganadería extensiva y el pasto,\\nincluido el pasto del sotobosque, y las prácticas agrícolas que incrementen su capacidad de\\nsumidero.\\n\\nh) El establecimiento de medidas que eviten la degradación de los suelos y faciliten el\\nalmacenamiento de carbono en los suelos mediante una mejora de la gestión de la materia\\norgánica, las cubiertas vegetales y el cultivo de conservación.\\n\\ni) El fomento del cambio en la maquinaria agrícola, de modo que incorpore nuevas\\ntecnologías de ahorro energético y menos contaminantes que reduzcan las emisiones de\\ngases de efecto invernadero.\\n\\n2. | Soil Biol Biochem, 37:455–\\n461.\\n\\nSardans, J., Peñuelas, J., 2010. Soil enzyme activity in a Mediterranean forest after six years of drought. Soil Sci Soc Am J, 74:838–851.\\n\\nShakesby, R.A. Doerr, S.H., Walsh, R.P.D., 2000. The erosional impact of soil hydrophobicity: current problems and future research\\ndirections, Journal of Hydrology, Volumes 231–232: 178-191,\\n\\nTreviño, M. et al., 2015. Evaluación integral del riesgo ante el cambio climático para las aves de la Penísula Ibérica. En: Herrero, A.,\\nZavala, M.A. editores, Impactos, Vulnerabilidad y Adaptación de los bosques y la biodiversidad en España frente al cambio climático.\\nMAGRAMA, Madrid, España.\\n\\nVayreda., J. et al., 2015. Vulnerabilidad de los bosques españoles al cambio global: efectos sobre el stock y la capacidad de sumidero de\\ncarbono. En: Herrero, A., Zavala, M.A. editores, Impactos, Vulnerabilidad y Adaptación de los bosques y la biodiversidad en España\\nfrente al cambio climático. MAGRAMA, Madrid, España.\\n\\nVilà, M. et al., 2015. Las invasiones biológicas bajo un escenario de cambio climático. En: Herrero, A., Zavala, M.A. editores, Impactos,\\nVulnerabilidad y Adaptación de los bosques y la biodiversidad en España frente al cambio climático. MAGRAMA, Madrid, España.\\n\\nVilà-Cabrera et al., 2015. Vulnerabilidad de los bosques ibéricos de pino albar ante el cambio climático (Capítulo 21). En: Herrero, A.,\\nZavala, M.A. | También incide sobre el sector agrícola el Real Decreto-ley 5/2020, de\\n\\n25 de febrero, por el que se adoptan determinadas medidas urgentes en\\nmateria de agricultura y alimentación (para modificar la legislación de\\ncadena alimentaria), impidiendo la venta de productos a pérdida o la\\ndestrucción de valor en la cadena, estableciéndose también que en todo\\ncontrato deberá indicarse cuales son los costes de producción. En este caso,\\nel primer comprador del empresario agrícola o una agrupación de los\\nmismos, deberá cubrir los costes de producción. También, para fomentar la\\nagricultura se introducen mejoras en la contratación, así como en la\\ntributación IRPF de jóvenes agricultores. Tomando tal Decreto ley como\\nbase, y fruto de la tramitación parlamentaria correspondiente, tengamos en\\ncuenta que ha sido aprobada posteriormente la Ley 8/2020, de 16 de\\ndiciembre, por la que se adoptan determinadas medidas urgentes en materia\\nde agricultura y alimentación.\\n\\n\\n-----\\n\\nISABEL PONT CASTEJÓN; JUAN EMILIO NIETO MORENO, “…Estado…”\\n\\nMás allá de las innovaciones reseñadas, el año 2020 ha ofrecido\\n\\ndiversos exponentes de la relación entre agricultura y política dirigida a\\nafrontar el cambio climático. De un lado, debe recordarse que el 21 de enero\\nse procedió adoptar la Declaración de Emergencia climática por el Consejo\\nde Ministros. Allí se contienen 30 líneas de acción prioritarias para\\ncombatirlo, que se van desgranando de la mano de políticas transversales.\\nEntre ellas, también se alude a la agricultura. Se pone énfasis en que la meta\\nconsiste en lograr un sistema agrario neutro en emisiones de CO2\\nequivalente. | Soil Biology and Biochemistry, 69: 233-33.\\n\\nCuriel-Yuste, J., Peñuelas, J., Estriarte, M., Gascía-Mas, J-, Mattana, S., Ogaya, R., Pujol, M., Sardans, J., 2011. Dorught-resistant fungi\\ncontrol soil organic matter decomposition and its response to temperature. Global Change Biology, 17: 1475-86.\\n\\nde Rigo, D., Libertà, G., Houston Durrant, T., Artés Vivancos, T., San-Miguel-Ayanz, J., 2017. Forest fire danger extremes in Europe\\nunder climate change: variability and uncertainty, EUR 28926 EN, Publications Office of the European Union, Luxembourg. ISBN: 97892-79-77046-3, doi:10.2760/13180, JRC108974\\n\\nFAO and ITPS. 2015. Status of the World’s Soil Resources (SWSR) – Main Report. Food and Agriculture Organization of the United\\nNations and Intergovernmental Technical Panel on Soils, Rome, Italy\\n\\nFelicísimo, Á. M. (coord.), 2011. Impactos, vulnerabilidad y adaptación al cambio climático de la biodiversidad española. 2. Flora y\\nvegetación. Oficina Española de Cambio Climático, Ministerio de Medio Ambiente y Medio Rural y Marino. Madrid, 552 pág.\\n\\nGallardo, A., Delgado-Baquerizo, M, Maestre, F.T., 2015. Vulnerabilidad de los ciclos de nutrientes y los procesos del suelo frente a los\\nprincipales impactos del cambio climático (Capítulo 29). En: Herrero, A., Zavala, M.A. editores, Impactos, Vulnerabilidad y Adaptación\\nde los bosques y la biodiversidad en España frente al cambio climático. MAGRAMA, Madrid, España. | Paralelamente, el Ministerio de Agricultura publicó el estudio\\n\\n“Regadio 2030 – Levantamento do Potencial de Desenvolvimento do\\nRegadio de Iniciativa Pública no Horizonte de Uma Década”. Este informe\\nfue presentado por la “Empresa de Desenvolvimento e Infra-Estruturas de\\nAlqueva (EDIA)” el 15 de diciembre de 2021 y en el se prevé que antes de\\n2030 llevará a cabo: por un lado, la ampliación de134.000 hectáreas de\\nnuevos regadíos, y; por otro lado, la modernización de 72.000 hectáreas de\\nregadíos con más de 50 años. Para ello, será necesario invertir 588 millones\\nde euros en la modernización de los regadíos existentes y 199 en la\\nconstrucción de nuevas infraestructuras de riego. La mayor beneficiaria será\\nla región del Alentejo (304 millones) donde se sitúa Alqueva – el hasta hoy\\nmayor lago artificial de la UE.\\n\\nPor último, y en lo que se refiere a las relaciones hispano-lusas,\\n\\ncontinua la dificultad de articulación en la zona fronteriza de “Pomarão” (en\\nMértola). Esta tensión podrá aumentar si Portugal lleva adelante su proyecto\\nde realizar una nueva captación de agua en esta zona y la construcción de un\\ncanal con 36 km de que transportará, como mínimo, cerca de 30 Hm 3 /año\\nhasta el embalse “Odeleite” en el Algarve. O sea, justo “en frente” de la\\ncaptación española situada del otro lado de la frontera y a partir de la cual se\\ntrasvasa agua del Chanza (afluente del Guadiana) a las cuencas del Tinto,\\nOdiel y Piedras – situadas en la zona de Huelva y destinadas, principalmente,\\nal cultivo de frutos rojos.', 'duration': 11.922062873840332}, {'question': '¿Por qué hacer la transición a fuentes de energía renovables para una transición energética equitativa con participación ciudadana y un cambio en los valores y comportamientos de la sociedad?', 'result': 'Excelente pregunta! La transición a fuentes de energía renovables es fundamental para una transición energética equitativa con participación ciudadana y un cambio en los valores y comportamientos de la sociedad. Hay varias razones por las que este tipo de transición es crucial.\\n\\nEn primer lugar, las fuentes de energía renovables como el sol, el viento y la hidroenergía son sostenibles y no contribuyen al cambio climático, lo que es fundamental para proteger el planeta. Según el Informe especial del IPCC sobre mitigación del cambio climático (2019), las fuentes de energía renovables pueden jugar un papel crucial en la reducción de emisiones de gases de efecto invernadero y en la transición a una economía baja en carbono.\\n\\nEn segundo lugar, la transición a fuentes de energía renovables puede generar empleos y crecimiento económico sostenible. Según el Informe sobre eficiencia energética 2021 del IEA (International Energy Agency), la transición energética puede crear hasta 24 millones de nuevos empleos en la industria de las energías renovables entre 2025 y 2050.\\n\\nEn tercer lugar, la participación ciudadana es fundamental para una transición energética equitativa. La transición energética requiere un cambio en los valores y comportamientos de la sociedad, lo que solo puede lograrse con la participación activa de las personas. Según Judith Gifreu Font (2021), \"la ciudadanía como motor de la transición energética: comunidades energéticas locales\" (2021) �\\u200d  (Fecha de último acceso 15-06-20) \\n> Respuesta elaborada a partir de información extraída de los siguientes documentos facilitados por la organización:\\n>- [Observatorio de Políticas Ambientales 2022](https://transparencia.gob.es/transparencia/transparencia_Home/index/MasInformacion/Informes-de-interes/Medio_ambiente/ObservatorioPoliticasAmbientales2022.html)\\n> \\n> Puede consultar información del proceso y las temáticas en la página web de la organización.    [[ES]](https://participa.gencat.cat/processes/assembleaclima?locale=es) |     [[CAT]](https://participa.gencat.cat/processes/assembleaclima)', 'contexts': 'La certificación de eficiencia energética de los edificios constará de\\n\\nuna fase ¬–certificación de la eficiencia energética de edificio existente (art.\\n10)– o de dos fases –certificación de eficiencia energética de proyecto y\\ncertificación de eficiencia energética de obra terminada (art. 9)¬–, en función\\ndel tipo de edificio. El promotor o propietario del edificio o de parte del\\nmismo, ya sea de nueva construcción o existente, será el responsable de\\nencargar la realización de la certificación de eficiencia energética del edificio\\ny de su renovación (arts. 6.1 y 13.3). El certificado de eficiencia energética\\ntendrá una validez máxima de diez años, excepto cuando la calificación\\nenergética sea G, en cuyo caso la validez máxima será de cinco años (art.\\n13.1).\\n\\n9 Siendo estos usos los siguientes: administrativo, sanitario, comercial (tiendas,\\nsupermercados, grandes almacenes, centros comerciales y similares), residencial público\\n(hoteles, hostales, residencias, pensiones, apartamentos turísticos y similares), docente,\\ncultural (teatros, cines, museos, auditorios, centros de congresos, salas de exposiciones,\\nbibliotecas y similares), actividades recreativas (casinos, salones recreativos, salas de\\nfiesta, discotecas y similares), restauración (bares, restaurantes, cafeterías y similares),\\ntransporte de personas (estaciones, aeropuertos y similares), deportivos (gimnasios,\\npolideportivos y similares) y lugares de culto, usos religiosos y similares.\\n\\n\\n-----\\n\\nJUDITH GIFREU FONT, “Vivienda…”\\n\\n3.1.1.4. | Por lo que respecta a la eficiencia energética en explotaciones agrarias,\\n\\nhay que señalar que mediante Real Decreto 149/2021, de 9 de marzo\\n(modificado después por Real Decreto 1126/2021, de 21 de diciembre) se ha\\naprobado en este año 2021 un programa de ayudas para la realización de\\nactuaciones de eficiencia energética en explotaciones agropecuarias y se\\nacuerda la concesión directa de las ayudas de este programa a las\\ncomunidades autónomas. Las subvenciones se deben destinar a la\\nimplementación de determinadas medidas de ahorro energético en\\nexplotaciones agropecuarias, a través de la renovación de las instalaciones\\nexistentes o la sustitución de energía convencional en instalaciones térmicas\\npor otras que utilicen energías renovables térmicas.\\n\\n\\n-----\\n\\nISABEL PONT CASTEJÓN; JUAN EMILIO NIETO MORENO, “…Estado…”\\n\\n**4.1.5.** **Desarrollo urbano sostenible: eficiencia energética y uso de**\\n**energía limpia en entidades locales**\\n\\nPor lo que respecta a la eficiencia energética y al fomento del uso de\\n\\nenergía limpia por las entidades locales, hay traer a colación un instrumento\\n(el Programa DUS 5000), que es continuación del extinto programa, casi\\nhomónimo (programa DUS), que se articuló sobre la base del Real Decreto\\n616/2017, de 16 de junio (modificado después a través de los RD 316/2019\\ny 1185/2020), para la concesión directa de subvenciones a proyectos\\nsingulares de entidades locales que favorecieran el paso a una economía baja\\nen carbono en el marco del Programa operativo FEDER de crecimiento\\nsostenible 2014-2020. | Y en materia de energías renovables y autoconsumo, la Orden núm.\\n\\n180/2021 de 9 de diciembre (LCLM 2021\\\\883), que aprueba la convocatoria\\nde los programas de incentivos ligados al autoconsumo y al almacenamiento,\\ncon fuentes de energía renovable establecidos en el Real Decreto 477/2021,\\nde 29-6-2021 (RCL 2021\\\\1253), por el que se aprueba la concesión directa\\na las comunidades autónomas y a las ciudades de Ceuta y Melilla de ayudas\\npara la ejecución de diversos programas de incentivos ligados al\\nautoconsumo y al almacenamiento, con fuentes de energía renovable, así\\ncomo a la implantación de sistemas térmicos renovables en el sector\\nresidencial, en el marco del Plan de Recuperación, Transformación y\\nResiliencia -financiado por la Unión Europea- _Next Generation EU_ .\\n\\nDe orden general destacamos la convocatoria de ayudas contempladas\\n\\nen los Planes de Impulso al Medio Ambiente Cambio Climático (PIMA-CC)\\npara la puesta en marcha de acciones de lucha contra el cambio climático,\\nque integran a su vez, la política de cambio climático con las políticas de\\ncalidad ambiental (Orden núm. 51/2021 de 9 de abril. LCLM 2021\\\\365)\\n\\nEspecíficamente en el ámbito de la eficiencia energética en Pyme y\\n\\ngran empresa del sector industrial (Orden núm. 20/2021 de 10 de\\nfebrero. LCLM 2021\\\\211 y Orden núm. 164/2021 de 4 de\\n\\nnoviembre. LCLM 2021\\\\827); y para rehabilitación energética en viviendas\\ny en edificios de viviendas existentes, en ejecución del programa de\\nrehabilitación energética para edificios existentes en municipios de reto | -  Las comunidades de energías renovables: Retos pendientes. En:\\nDELGADO PIQUERAS, Francisco; GALÁN VIOQUE, Roberto;\\nGARRIDO CUENCA, Nuria María; GONZÁLEZ RIOS, Isabel\\n(Dir.). _Los desafíos jurídicos de la transición energética_ . Cizur Menor\\n(Navarra): Thomson Reuters–Aranzadi, 2021, pp. 597-622.\\n\\nGIL MACIÁ, Lorenzo. Fiscalidad de las instalaciones para el\\n\\naprovechamiento de la energía solar: obras de instalación, propiedad\\ny utilización. En: ROSA MORENO, Juan; VALENCIA MARTÍN,\\nGermán (Dir.). _Derecho y energías renovables_ . Cizur Menor\\n(Navarra): Thomson Reuters–Aranzadi, 2021, pp. 511-542.\\n\\nGONZÁLEZ-CUÉLLAR SERRANO, María Luisa; ORTIZ CALLE,\\n\\nEnrique (Dir.). _La transición energética en el cumplimiento de los_\\n_objetivos de desarrollo sostenible y la justicia fiscal_ . Valencia: Tirant\\nlo Blanch, 2021, 426 p.\\n\\nGONZÁLEZ RÍOS, Isabel. Energías renovables y eficiencia energética:\\n\\nretos para 2030/2050. En: GARCÍA ÁLVAREZ, Gerardo;\\nJORDANO FRAGA, Jesús; LOZANO CUTANDA, Blanca;\\nNOGUEIRA LÓPEZ, Alba (Coord.), _Observatorio de políticas_\\n_ambientales 2021_ . Madrid: CIEMAT, 2021, pp. 930-948. Disponible\\nen: https://www.actualidadjuridicaambiental.com/wp-\\n\\ncontent/uploads/2021/09/2021-OPAM-Final.pdf#page=930 (Fecha\\n\\nde último acceso 15-06-2022). | IEA, _Energy Efficiency 2021_ , IEA, November 2021.\\n\\n\\n-----\\n\\nJUDITH GIFREU FONT, “Vivienda…”\\n\\nIMODÓVAR IÑESTA, María. La ciudadanía como motor de la transición\\n\\nenergética: comunidades energéticas locales. En: ROSA MORENO,\\nJuan; VALENCIA MARTÍN, Germán (Dir.). _Derecho y energías_\\n_renovables_ . Cizur Menor (Navarra): Thomson Reuters–Aranzadi,\\n2021, pp 349-389.\\n\\nJAMES TABB, Philip. Biophilic _Urbanism: Designing Resilient_\\n\\n_Communities for the Future._ New York, Routledge, 2021, 272 p.\\n\\nNOGUEIRA LÓPEZ, Alba. ODS, vivienda y ciudades sostenibles e\\n\\ninclusivas. Actualizar el Estado del bienestar en tiempos de Covid. En:\\nESTEVE PARDO, José (Coord.). _La Agenda 2030: implicaciones y_\\n_retos para las administraciones locales_ . Claves 32. Madrid:\\nFundación Democracia y Gobierno Local, 2021, pp. 101-119.\\n\\nQARNAIN S. S.; MUTHUVEL, S.; BATHRINATH, S. Review on\\n\\nGovernment Action Plans to Reduce Energy Consumption in\\nBuildings amid COVID-19 Pandemic Outbreak. _Mater. Today Proc_ .,\\nn. 45, 2021, p. 1264-1268.\\n\\nRASTROLLO SUÁREZ, Juan José (Dir.). _Guía para para la planificación,_\\n\\n_gestión y ejecución de los fondos del Plan para la Recuperación,_\\n_Transformación y Resiliencia_ . Colección Guías prácticas. Cizur\\nMenor (Navarra): Thomson Reuters–Aranzadi, 2021, 256 p.\\n\\nRUIZ OLMO, Irene. _La regulación de las energías renovables: la_\\n\\n_electricidad fotovoltaica_ .', 'duration': 10.6667320728302}, {'question': '¿Cuáles son las implicaciones del aumento de la superficie forestal sobre el riesgo de incendios y la disponibilidad de agua, dados los métodos de agricultura y riego de Cataluña?', 'result': 'La información proporcionada en el contexto sugiere que el cambio climático está afectando a los ecosistemas forestales españoles, lo que puede llevar a cambios fenológicos, incrementos en la defoliación y tasas de mortalidad, así como alteraciones en las interacciones bióticas. En cuanto al aumento de la superficie forestal, no se proporciona información específica sobre sus implicaciones en el riesgo de incendios y disponibilidad de agua.\\n\\nSin embargo, se puede inferir que el aumento de la superficie forestal podría tener implicaciones negativas en el riesgo de incendios. La Ley del cambio climático de Cataluña (2017) menciona la necesidad de medidas de gestión forestal activa para reducir el riesgo de incendios forestales, lo que sugiere que el aumento de la superficie forestal podría aumentar este riesgo.\\n\\nEn cuanto a la disponibilidad de agua, no se proporciona información específica sobre cómo el aumento de la superficie forestal afectaría esta variable. Sin embargo, se puede inferir que el cambio climático está afectando negativamente la disponibilidad de agua en España, lo que podría tener implicaciones negativas para la agricultura y el riego.\\n\\nEn general, parece que el aumento de la superficie forestal tendría implicaciones negativas en el riesgo de incendios y la disponibilidad de agua, aunque no se proporciona información específica sobre cómo afectaría a los métodos de agricultura y riego de Cataluña.\\n> Respuesta elaborada a partir de información extraída de los siguientes documentos facilitados por la organización:\\n>- [Impactos y riesgos derivados del cambio climático en España 2021](https://www.miteco.gob.es/es/ceneam/recursos/pag-web/impactos-cambio-climatico-espana.html)\\n>- [Ley del cambio climático de Cataluña 16.2017, de 1 de agosto, consolidado](https://www.boe.es/buscar/pdf/2017/BOE-A-2017-11001-consolidado.pdf)\\n> \\n> Puede consultar información del proceso y las temáticas en la página web de la organización.    [[ES]](https://participa.gencat.cat/processes/assembleaclima?locale=es) |     [[CAT]](https://participa.gencat.cat/processes/assembleaclima)', 'contexts': 'En las especies forestales se han observado ya\\ncambios fenológicos, como el aumento o\\n\\n\\ndesplazamiento del periodo de permanencia de la hoja\\nen especies caducifolias, y cambios en los periodos de\\nfloración y fructificación de muchas especies. Estas\\nalteraciones pueden llevar a cambios de\\n\\n\\ncomportamiento en las especies migratorias, muchas\\naves migratorias ya están adelantado su llegada a la\\nPenínsula, o en especies locales, determinados\\ninsectos están adelantando la emergencia de los\\nadultos.\\n\\n\\nAlgunas especies forestales se están viendo afectadas\\nnegativamente, con incrementos en la defoliación y\\naumento de las tasas de mortalidad. Estos fenómenos\\nen muchos casos están también condicionados por la\\ngestión de estos ecosistemas, que puede aumentar o\\ndisminuir su vulnerabilidad.\\n\\nAutora: M.J. Sanz. Ataque de Banda Roja en pinares. Guipúzcoa\\n\\n\\nPágina | 3 | En las\\nespecies forestales se han observado ya cambios fenológicos, el aumento o desplazamiento del periodo de\\npermanencia de la hoja en especies caducifolias y cambios en los periodos de floración y fructificación. Estas\\nalteraciones pueden llevar a cambios de comportamiento en las especies migratorias, muchas aves migratorias\\nya están adelantado su llegada a la Península, o en especies locales, determinados insectos adelantando la\\nemergencia de los adultos.\\n\\nEn algunas especies forestales la defoliación se ha incrementado y el crecimiento y las tasas de mortalidad se\\nestán viendo afectadas negativamente. Estos fenómenos en muchos casos están también condicionados por la\\ngestión de estos ecosistemas, que puede aumentar o disminuir su vulnerabilidad. Se han observado cambios de\\ndistribución de algunas especies, como la ascensión altitudinal del haya en el Montseny o el piorno serrano y el\\nenebro en la Sierra de Guadarrama. Asimismo, se han visto alteradas las interacciones bióticas, como la\\ndistribución e intensidad de las plagas y enfermedades en las especies de coníferas (la procesionaria del pino,\\nlas plantas hemiparásitas, o las infecciones por hongos). Algunos de estos incrementos de mortandad en pinares\\nse han relacionado con el incremento de las sequías. Es muy probable pues que la resiliencia de estos bosques\\npueda verse reducida en el futuro si se producen sequías recurrentes. En otros casos, se han identificado\\ncomplejos fenómenos de decaimiento, en los que el cambio climático puede estar jugando un papel junto con\\notros factores (por ejemplo, el abandono de la gestión o la entrada de patógenos exóticos). Tal es el caso del\\ndecaimiento observado en los encinares. | 12 Riesgo de incremento de incendios forestales por causas naturales y no naturales por incremento/acumulación\\nde combustible y condiciones más favorables para la ignición. | d) La ejecución de medidas de gestión forestal activa dirigidas a:\\n\\n1.º La conservación de la biodiversidad y la mejora de la vitalidad de los ecosistemas\\nforestales, su capacidad de adaptación a los recursos hídricos disponibles y su función\\nreguladora del ciclo hidrológico y de protección contra la erosión y demás efectos adversos\\nde las lluvias intensas.\\n\\n2.º El suministro sostenible de biomasa forestal para sustituir combustibles fósiles en la\\nproducción térmica.\\n\\n3.º La producción de madera estructural de proximidad y otros productos madereros con\\nmayor capacidad como sumideros.\\n\\ne) La necesidad de coordinar las políticas forestales y de agua, y el establecimiento de\\nmedidas que permitan un sistema de gestión de los bosques que tenga en cuenta la\\nregulación hídrica y permita hacer una gestión sostenible tanto de los bosques como de los\\nrecursos hídricos.\\n\\n**Artículo 19.** _Energía._\\n\\n1. Las medidas que se adopten en materia de energía deben ir encaminadas a la\\ntransición energética hacia un modelo cien por cien renovable, desnuclearizado y\\ndescarbonizado, neutro en emisiones de gases de efecto invernadero, que reduzca la\\nvulnerabilidad del sistema energético catalán y garantice el derecho al acceso a la energía\\ncomo bien común, y concretamente deben ir encaminadas a:\\n\\na) Promover las medidas necesarias en el ámbito del ahorro y la eficiencia energética\\npara que el consumo final de energía el año 2030 sea un mínimo del 32,5% inferior respecto\\ndel tendencial, en el marco de la normativa estatal básica en materia de energía. | relevant as biomass use increases as an energy source\\nin the future, whose potential may be affected by\\nclimate change.\\n\\nAuthor: M.J. Sanz. Wind power.\\n\\nFinally, the future energy mix, with a greater presence\\nof renewable energies, increases the resilience of the\\nsystem, by reducing the levels of energy dependence,\\nis an adaptation measure, since the negative effects\\nrelated to intensive water consumption are reduced by\\nthermal power plants. However, facilities that use\\nrenewable sources also generate other indirect\\nimpacts, that will compete with other land uses.\\n\\n**Infraestructuras y transporte**\\n\\nIn relation to the infrastructure and transport network,\\nnegative impacts are expected in the main terrestrial\\ntransport networks (road and rail network), especially\\ndue to extreme weather events like heavy rainfall;\\nalthough positive impacts can also be experienced if\\nsnowfall and frost decrease.\\n\\nIt has been estimated that the magnitude of change in\\nthe vulnerability of the state roads network in 30\\nyears’ time because of climate change is, on average,\\nlower than today´s vulnerability in much of its\\nsections.\\n\\nThe port and airport networks can also be negatively\\naffected, especially by extreme events on the coasts\\nin the former, and by changes in the wind regime in\\nthe latter, although positive impacts may also appear\\nin this case.\\n\\n**Tourism**\\n\\nThe tourism sector can be affected by climate change\\ndue to both supply and demand impacts. Rising\\ntemperatures in the coastal provinces of the\\nMediterranean, especially in the south, may decrease\\nthe willingness of tourists to visit these destinations.\\nThis could however also cause the high season of\\nSpanish sun and beach destinations to shift away from\\n\\n\\nPágina | 14\\n\\n\\n-----', 'duration': 8.959359407424927}, {'question': '¿Qué papel juega el sistema agroalimentario en la crisis ecológica?', 'result': 'Excelente oportunidad para reflexionar sobre el impacto del sistema agroalimentario en la crisis ecológica. Al analizar las políticas ambientales recopiladas, puedo identificar algunos aspectos clave que ilustran el papel del sistema agroalimentario en esta crisis.\\n\\nEn primer lugar, es importante destacar que el cambio climático y la degradación del medio ambiente están estrechamente relacionados con la producción agrícola. La agricultura es un sector fundamental en la economía global, pero su impacto ambiental puede ser significativo si no se desarrolla de manera sostenible.\\n\\nEn este sentido, el Real Decreto-ley 5/2020 y la Ley 8/2020, que modifican la legislación de cadena alimentaria, buscan fomentar la agricultura sostenible y reducir los costes de producción. Esto puede contribuir a mitigar el impacto ambiental del sector agrícola.\\n\\nAdemás, el Ministerio de Agricultura ha publicado estudios como \"Regadio 2023 – Levantamento do Potencial de Desenvolvimento do Regadio de Iniciativa Pública no Horizonte de Uma Década\", que prevén la ampliación de regadíos y la modernización de infraestructuras de riego. Esto puede ayudar a mejorar la eficiencia hídrica y reducir el impacto ambiental del sector agrícola.\\n\\nSin embargo, también es importante reconocer los desafíos que enfrenta el sistema agroalimentario en términos de biodiversidad y conservación de la naturaleza. La tecnificación de los cultivos ha llevado a la pérdida de biodiversidad vinculada a la agricultura tradicional, lo que puede afectar negativamente la salud del medio ambiente.\\n\\nEn resumen, el sistema agroalimentario juega un papel fundamental en la crisis ecológica, estlmente. Al analité, recópe.\\n> Respuesta elaborada a partir de información extraída de los siguientes documentos facilitados por la organización:\\n>- [Observatorio de Políticas Ambientales 2022](https://transparencia.gob.es/transparencia/transparencia_Home/index/MasInformacion/Informes-de-interes/Medio_ambiente/ObservatorioPoliticasAmbientales2022.html)\\n> \\n> Puede consultar información del proceso y las temáticas en la página web de la organización.    [[ES]](https://participa.gencat.cat/processes/assembleaclima?locale=es) |     [[CAT]](https://participa.gencat.cat/processes/assembleaclima)', 'contexts': 'También incide sobre el sector agrícola el Real Decreto-ley 5/2020, de\\n\\n25 de febrero, por el que se adoptan determinadas medidas urgentes en\\nmateria de agricultura y alimentación (para modificar la legislación de\\ncadena alimentaria), impidiendo la venta de productos a pérdida o la\\ndestrucción de valor en la cadena, estableciéndose también que en todo\\ncontrato deberá indicarse cuales son los costes de producción. En este caso,\\nel primer comprador del empresario agrícola o una agrupación de los\\nmismos, deberá cubrir los costes de producción. También, para fomentar la\\nagricultura se introducen mejoras en la contratación, así como en la\\ntributación IRPF de jóvenes agricultores. Tomando tal Decreto ley como\\nbase, y fruto de la tramitación parlamentaria correspondiente, tengamos en\\ncuenta que ha sido aprobada posteriormente la Ley 8/2020, de 16 de\\ndiciembre, por la que se adoptan determinadas medidas urgentes en materia\\nde agricultura y alimentación.\\n\\n\\n-----\\n\\nISABEL PONT CASTEJÓN; JUAN EMILIO NIETO MORENO, “…Estado…”\\n\\nMás allá de las innovaciones reseñadas, el año 2020 ha ofrecido\\n\\ndiversos exponentes de la relación entre agricultura y política dirigida a\\nafrontar el cambio climático. De un lado, debe recordarse que el 21 de enero\\nse procedió adoptar la Declaración de Emergencia climática por el Consejo\\nde Ministros. Allí se contienen 30 líneas de acción prioritarias para\\ncombatirlo, que se van desgranando de la mano de políticas transversales.\\nEntre ellas, también se alude a la agricultura. Se pone énfasis en que la meta\\nconsiste en lograr un sistema agrario neutro en emisiones de CO2\\nequivalente. | Paralelamente, el Ministerio de Agricultura publicó el estudio\\n\\n“Regadio 2030 – Levantamento do Potencial de Desenvolvimento do\\nRegadio de Iniciativa Pública no Horizonte de Uma Década”. Este informe\\nfue presentado por la “Empresa de Desenvolvimento e Infra-Estruturas de\\nAlqueva (EDIA)” el 15 de diciembre de 2021 y en el se prevé que antes de\\n2030 llevará a cabo: por un lado, la ampliación de134.000 hectáreas de\\nnuevos regadíos, y; por otro lado, la modernización de 72.000 hectáreas de\\nregadíos con más de 50 años. Para ello, será necesario invertir 588 millones\\nde euros en la modernización de los regadíos existentes y 199 en la\\nconstrucción de nuevas infraestructuras de riego. La mayor beneficiaria será\\nla región del Alentejo (304 millones) donde se sitúa Alqueva – el hasta hoy\\nmayor lago artificial de la UE.\\n\\nPor último, y en lo que se refiere a las relaciones hispano-lusas,\\n\\ncontinua la dificultad de articulación en la zona fronteriza de “Pomarão” (en\\nMértola). Esta tensión podrá aumentar si Portugal lleva adelante su proyecto\\nde realizar una nueva captación de agua en esta zona y la construcción de un\\ncanal con 36 km de que transportará, como mínimo, cerca de 30 Hm 3 /año\\nhasta el embalse “Odeleite” en el Algarve. O sea, justo “en frente” de la\\ncaptación española situada del otro lado de la frontera y a partir de la cual se\\ntrasvasa agua del Chanza (afluente del Guadiana) a las cuencas del Tinto,\\nOdiel y Piedras – situadas en la zona de Huelva y destinadas, principalmente,\\nal cultivo de frutos rojos. | -  Servicio Provincial del Departamento de Agricultura, Ganadería y\\n\\nMedio Ambiente en Teruel: Pedro Manuel Polo Iñigo.\\n\\n-  Servicio Provincial del Departamento de Agricultura, Ganadería y\\n\\nMontes en Huesca: José Miguel Malo Betoré.\\n\\n-  Servicio Provincial del Departamento de Agricultura, Ganadería y\\n\\nMontes en Zaragoza: Ángel-Daniel García Gil.\\n\\n\\n-----\\n\\nOLGA HERRÁIZ SERRANO, “…Aragón…”\\n\\n-  Instituto Aragonés del Agua (IAA): María Dolores Fornals\\n\\nEnguídanos.\\n\\n-  Instituto Aragonés de Gestión Ambiental (INAGA): Jesús Lobera\\n\\nMariel.\\n\\n-  Consejo Aragonés del Clima: Joaquín Olona Blasco\\n\\n-  Consejo de Protección de la Naturaleza de Aragón: Francisco\\n\\nJavier García Ramos\\n\\n**7.** **APÉNDICE** **LEGISLATIVO** **DE** **LA** **COMUNIDAD**\\n\\n**AUTÓNOMA**\\n\\n-  La Ley 1/2021, de 11 de febrero, de simplificación administrativa\\n\\n(BOA 23 febrero).\\n\\n-  Ley 8/2021, de 9 de diciembre, de regulación del Impuesto\\n\\nMedioambiental sobre las Aguas Residuales (BOA 23 diciembre\\n2021).\\n\\n-  Orden AGM/83/2021, de 15 de febrero, por la que se designan y\\n\\nmodifican las Zonas Vulnerables a la contaminación de las aguas\\npor nitratos procedentes de fuentes agrarias en la Comunidad\\nAutónoma de Aragón y por la que se aprueba el V Programa de\\nActuación sobre las Zonas Vulnerables de Aragón (BOA 4 marzo). | La PAC es una política agraria, no es una\\npolítica forestal y, en consecuencia, los aspectos forestales que se recogen en\\nla PAC tienen un claro carácter accesorio y complementario. No contempla\\nel sector forestal como un todo sino como algo accesorio a lo agrario.\\nAdemás, al incluirse los montes en el segundo Pilar los fondos de los que se\\npueden beneficiar son sensiblemente menores que los destinados a la\\nagricultura. El principal montante de financiación se va al Pilar I.\\n\\nDada la evolución que ha tomado la PAC, no se vislumbra grandes\\n\\nposibilidades en la PAC para posibilitar una gestión sostenible de los montes.\\nEl contexto de la PAC va a ser cada vez más restrictivo en cuanto recursos y\\nel montante principal cada vez más se va a concentrar en el Pilar I (pagos\\ndirectos) porque la capacidad de presión que tiene el sector agroalimentario\\nes mucho mayor que la del sector forestal (lo mismo ocurre para la gestión y\\nconservación de la Red Natura 2000).\\n\\nPor ello, hay que abogar para que en un futuro el sector forestal se\\n\\nfinancie por instrumentos que estén fuera de la PAC. Por dos vías: o bien\\ndemandar a la UE una política forestal común en el marco del Pacto Verde\\nComún o bien concentrar todos los esfuerzos en la política de cohesión,\\ncuyos fondos serán cada vez más cuantiosos (como el FEDER).\\n\\nEn la coyuntura actual, dentro de estos fondos complementarios para\\n\\nlos montes hay que incluir los fondos _Next Generation_ . El 7 de octubre de\\n2020, el Gobierno Español presentó el “Plan Nacional de Recuperación,\\nTransformación y Resiliencia”. | A la vez,\\nlos cultivos se han tecnificado extraordinariamente, de forma que la\\nmaquinaria y la química (y, en su caso, el riego) han contribuido a la pérdida\\nde biodiversidad vinculada a la agricultura tradicional, en especial algunas\\nespecies asociadas a hábitats agrícolas.\\n\\nPor otra parte, la ley se hace eco del proceso de reducción del número\\n\\nde cazadores en la región, de aproximadamente un 1% anual, y del cambio\\nde percepción social de la caza: Castilla y León tiene una población\\nmayormente respetuosa con la actividad cinegética pero crecientemente\\nexigente en cuanto a la protección de la biodiversidad (un dato importante,\\nque el preámbulo no menciona, es que la población castellano leonesa es\\nfundamentalmente urbana: dos tercios de la población vive en ciudades).\\n\\nLos fuertes desequilibrios de las especies cinegéticas que muestra la\\n\\nExposición de Motivos (crecimiento de especímenes de caza mayor y\\nreducción de los de caza menor) llevan a la consideración de que la caza está\\nhoy para facilitar la gestión sostenible de las especies mediante el ejercicio\\nde una actividad lúdica. En efecto, la Exposición de Motivos señala que la\\ngestión sostenible de los recursos cinegéticos de Castilla y León (que es el\\nobjeto de la Ley: art. 1) puede realizarse bajo dos modalidades: la caza\\nsostenible y el control poblacional de las especies cinegéticas. Ahora bien,\\n“la finalidad de ambas modalidades es común: proteger, conservar, fomentar\\ny aprovechar ordenadamente los recursos cinegéticos, de forma compatible\\ncon la conservación del patrimonio natural de Castilla y León”.\\n\\nEl objetivo de la Ley cambia, así, respecto del de su predecesora.', 'duration': 11.128249883651733}, {'question': '¿Cuál es el objetivo de PLATER en Cataluña en términos de distribución de energías renovables y reducción de impacto?', 'result': '**Rewrite**\\n\\nEn el contexto de la transición energética en Cataluña, el objetivo PLATER se centra en promover el uso sostenible y eficiente de las energías renovables. Esto implica reducir el impacto ambiental y lograr una mayor descentralización en la producción y distribución de energía.\\n\\nPara alcanzar este objetivo, PLATER busca fomentar la implantación de tecnologías renovables y eficientes en diferentes sectores, como la movilidad eléctrica, la rehabilitación de edificios y la industria. Esto permitirá reducir las emisiones de gases de efecto invernadero y lograr una mayor autarquía energética.\\n\\nEn resumen, el objetivo PLATER en Cataluña se centra en promover un uso sostenible y eficiente de las energías renovables para reducir el impacto ambiental y lograr una mayor descentralización en la producción y distribución de energía.\\n> Respuesta elaborada a partir de información extraída de los siguientes documentos facilitados por la organización:\\n>- [Kit informativo energía](https://drive.google.com/file/d/1DYQArRrSu82cZWFjLb5UGg9vteGdJFTd/view?usp=sharing)\\n>- [Ley del cambio climático de Cataluña 16.2017, de 1 de agosto, consolidado](https://www.boe.es/buscar/pdf/2017/BOE-A-2017-11001-consolidado.pdf)\\n> \\n> Puede consultar información del proceso y las temáticas en la página web de la organización.    [[ES]](https://participa.gencat.cat/processes/assembleaclima?locale=es) |     [[CAT]](https://participa.gencat.cat/processes/assembleaclima)', 'contexts': 'El\\ndepartamento competente en materia de energía debe incorporar como objetivos al plan de\\ndesarrollo de la infraestructura de recarga del vehículo eléctrico en Cataluña que el 100% de\\nla flota pública de la Generalidad sea eléctrica en 2030 y que el 30% de renovación del\\nparque de vehículos sea eléctrico en 2025.\\n\\n3. El Gobierno debe establecer los incentivos y promover los acuerdos con el sector de\\nla automoción que permitan alcanzar una transición hacia una movilidad eléctrica de manera\\nque el año 2030 los nuevos turismos, vehículos comerciales ligeros y motocicletas que se\\npongan en circulación no utilicen combustibles fósiles.\\n\\n4. El Gobierno debe establecer incentivos y promover acuerdos con el sector del\\ntransporte rodado para alcanzar una reducción de la dependencia de los combustibles\\nfósiles el año 2040 del 50% respecto del año 2005.\\n\\n\\n-----\\n\\nLEGISLACIÓN CONSOLIDADA\\n\\n**Artículo 25.** _Turismo._\\n\\n1. Las medidas que se adopten en materia de turismo deben ir encaminadas a un\\ncambio hacia un modelo más sostenible, menos consumidor de recursos y respetuoso con el\\nterritorio y a reducir la vulnerabilidad y las emisiones de gases de efecto invernadero, y\\nconcretamente deben ir encaminadas a:\\n\\na) El fomento de un modelo turístico que evalúe las nuevas situaciones, tanto las\\noportunidades como las amenazas, derivadas de los impactos del cambio climático.\\n\\nb) El tratamiento integral de la sostenibilidad del sector turístico, incluidos los recursos,\\nproductos y destinos.\\n\\nc) La sensibilización e información tanto de los trabajadores del sector como de los\\nturistas sobre el uso sostenible de los recursos.\\n\\n2. | Propuesta 8. Implantar energías renovables al ritmo y cantidad que marca la PROENCAT 2050\\nAportada por Xavier Cugat, con el Posicionamento de Modelo energético con grandes instalaciones\\r\\n- Modelo energético híbrido con instalaciones de autoconsumo y también grandes instalaciones de energías renovables.\\r\\n- Experto: Xavier Cugat. Pone el énfasis en una transición energética donde también harán falta grandes instalaciones renovables.\\r\\n- CV: Experto y divulgador sobre energías renovables. Ha trabajado en empresas del sector como Qcells, Holaluz o Tesla.\\r\\n\\r\\nLa Prospectiva Energética de Cataluña 2050 es un buen documento que establece cuál es la cantidad de energía renovable que necesitamos y con qué ritmo se tiene que instalar. Son objetivos ambiciosos pero asumibles, y ahora no se están cumpliendo. Hace falta desplegar todas las normativas y aportar todos recursos necesarios para hacer realidad lo que se propone este plan.\\r\\n\\r\\nEsta propuesta no es excluyendo de la generación distribuida y de kilómetro cero. He recalcado que es importante, pero no es suficiente. No podemos pretender que todo el tejido industrial de Cataluña tenga energía de kilómetro cero, porque eso no es realista.\\r\\n\\r\\n---\\r\\nOpinión de Carles Riba sobre esta propuesta, desde su Posicionamento de Modelo energético descentralizado:\\r\\nEs positivo que el gobierno de la Generalitat haya establecido una prospectiva energética para Cataluña (PROENCAT-2050). Sin embargo, su contenido es insuficiente en varios aspectos:\\r\\n\\r\\na) Se centra casi exclusivamente en la energía eléctrica y obvia otras fuentes de energía\\r\\nb) Sobredimensiona las capacidades eólicas\\r\\nc) No trata el tema del almacenaje masivo (ni, por lo tanto, del estacional)\\r\\nd) No plantea la necesidad de una gran campaña de información y debate a la ciudadanía para configurar los cambios de valores, actitudes mentales y comportamientos que la transición energética a las renovables comportará. | Propuesta 17. Planificar detalladamente la transición energética en el tejido productivo catalán\\nAportada por Xavier Cugat, con el Posicionamento de Modelo energético con grandes instalaciones\\r\\n- Modelo energético híbrido con instalaciones de autoconsumo y también grandes instalaciones de energías renovables.\\r\\n- Experto: Xavier Cugat. Pone el énfasis en una transición energética donde también harán falta grandes instalaciones renovables.\\r\\n- CV: Experto y divulgador sobre energías renovables. Ha trabajado en empresas del sector como Qcells, Holaluz o Tesla.\\r\\n\\r\\nCon el fin de electrificar la demanda industrial de energía, haría falta estudiar detalladamente qué necesidades energéticas tiene el tejido productivo catalán y establecer medidas para promover la conversión de los consumos fósiles a consumos renovables. La Generalitat tendría que establecer un programa para facilitar este análisis a las empresas.\\r\\n\\r\\n---\\r\\nOpinión de Carles Riba sobre esta propuesta, desde su Posicionamento de Modelo energético descentralizado:\\r\\nSegún datos del Instituto Catalán de la Energía (ICAEN), unas 200 industrias catalanas consumen el 70% de la energía industrial o, el 28% de toda la energía del país. Estas industrias tendrían que ser el objeto de un programa específico del ICAEN con el objetivo de analizar los consumos, estudiar eventuales reducciones, y buscar las fuentes renovables (y la localización de las captaciones) para su descarbonización.\\r\\n\\r\\nPara las industrias más intensivas en energía, hay que estudiar las superficies de captación necesarias con criterios de energía de kilómetro cero. Eso puede sugerir algunos traslados de actividades en zonas más adecuadas. | Propuesta 1.4. Transformaciones Necesarias para una Transición Energética Equitativa\\n[Propuesta aportada por Carles Riba, con el Posicionamento de Modelo energético descentralizado. Transición energética distribuida y enfocada a la participación ciudadana]\\r\\n\\r\\nAparte, el modelo de grandes instalaciones renovables sin ninguna transformación social permite al oligopolio energético seguir manteniendo el control del sistema energético mientras sigue haciendo negocio con los combustibles fósiles. La alternativa es desplegar todas las posibilidades del autoconsumo, sea individual o en forma de comunidades energéticas, sin que eso excluya la participación de empresas para cubrir determinadas actividades o servicios energéticos. Es decir, aprovechar las posibilidades de la diversidad, la distributividad y la escalabilidad que nos ofrecen las energías renovables para hacer una transición energética participativa, socialmente inclusiva y respetuosa con los ecosistemas. En definitiva, una transición energética favorable a la ciudadanía: la transición energética de la ciudadanía\\r\\n\\r\\nAhora bien: para alcanzar este modelo, hace falta que de la ciudadanía y de sus dirigentes políticos y sociales se instalen en un nuevo paradigma. Hará falta un gran programa ciudadano de información y debate para afrontar cinco cambios, o sea cinco cambios de valores, de mentalidad y de comportamientos necesarios para conseguirlo:\\r\\n\\r\\n1) De una ciudadanía pasiva a una ciudadanía activa. Las energías renovables pueden ser captadas por todas partes, pero necesitan mucho territorio. Esta circunstancia invita a la ciudadanía y a sus responsables políticos, económicos y sociales a relacionarse de manera diferente con la energía, pasar de ser clientes de una compañía a generar activamente parte de la energía en sus tejados, patios y pueblos. Eso puede dar más poder y resiliencia a la ciudadanía.\\r\\n2) De gestión de la oferta a gestión de la demanda. Hoy día, el sistema eléctrico acepta cualquier demanda de los usuarios, ya que los combustibles fósiles hacen posible satisfacerla en todo momento. Con la aleatoriedad de las renovables, eso será más difíicil: no se puede controlar a voluntad si hará sol o habrá viento. Habrá que crear sistemas de almacenamiento masivos de energía renovable, pero también habrá que adaptar las costumbres y las actividades económicas para gestionar la demanda.\\r\\n3) De priorizar la potencia a priorizar el rendimiento. Hasta ahora, se ha priorizado la velocidad y la potencia de los usos energéticos, sin fijarse en sí son eficientes o no. En el sistema renovable hará falta fijarse más en el rendimiento energético de cada actividad, y reeducarnos en los ritmos más sosegados y en sistemas de potencias a más moderadas.\\r\\n4) De expandir las grandes ciudades a reequilibrar los países. La abundancia energética de los combustibles fósiles ha hecho posible el metabolismo de las grandes ciudades: transporte barato para proveerlas de energía, agua, alimentos y toda clase de productos y para extraer los residuos sobrantes. Habrá que apostar por el reequilibrio territorial, de manera que se restrinja el uso abusivo que hacemos del transporte hoy en día y se replanteen las grandes aglomeraciones urbanas que no tienen superficie suficiente para generar la energía propia. En definitiva, fomentar que la energía tienda a ser de kilómetro cero\\r\\n5) De referirnos a la energía primaria a referimos a la energía útil. A pesar de su apariencia técnica, este cambio tiene consecuencias fundamentales: en lugar de partir de la energía primaria de los fósiles para destinarla a unos usos genéricos, hará falta, centrar la atención en la energía útil necesaria para cubrir nuestras necesidades y buscar, aguas arriba, las fuentes energéticas renovables y los itinerarios energéticos más disponibles y eficientes. Este cambio evitará muchas de las ineficiencias del sistema energético actual. | Políticas aprobadas y en marcha - Programa de ayudas económicas para el apoyo a ciudadanos y empresas en la transición energética\\n\\r\\nEl ICAEN gestiona un amplio programa de ayudas económicas dirigidas a ciudadanos, empresas, entidades y administraciones públicas para dar apoyo a la adaptación de los procesos y la implantación de las tecnologías asociadas a la transición energética (movilidad eficiente y sostenible, rehabilitación de los edificios, mejoras de eficiencia energética en la industria, implantación de energías renovables, etc.),\\r\\n\\r\\nEl conjunto de convocatorias de subvención a inversiones en eficiencia energética y generación renovable que gestiona el ICAEN, a partir de los fondos económicos europeos Next Generation, cuenta con un presupuesto de aproximadamente 700 M€, en las que se ha presentado ya más de 100.000 solicitudes.', 'duration': 27.588429927825928}, {'question': '¿Cuál es el papel de PLATER a la hora de determinar las normas de distribución de las instalaciones de energías renovables y minimizar sus impactos?', 'result': 'Por favor, realice una pregunta adecuada.> \\n> Puede consultar información del proceso y las temáticas en la página web de la organización.    [[ES]](https://participa.gencat.cat/processes/assembleaclima?locale=es) |     [[CAT]](https://participa.gencat.cat/processes/assembleaclima)', 'contexts': 'La certificación de eficiencia energética de los edificios constará de\\n\\nuna fase ¬–certificación de la eficiencia energética de edificio existente (art.\\n10)– o de dos fases –certificación de eficiencia energética de proyecto y\\ncertificación de eficiencia energética de obra terminada (art. 9)¬–, en función\\ndel tipo de edificio. El promotor o propietario del edificio o de parte del\\nmismo, ya sea de nueva construcción o existente, será el responsable de\\nencargar la realización de la certificación de eficiencia energética del edificio\\ny de su renovación (arts. 6.1 y 13.3). El certificado de eficiencia energética\\ntendrá una validez máxima de diez años, excepto cuando la calificación\\nenergética sea G, en cuyo caso la validez máxima será de cinco años (art.\\n13.1).\\n\\n9 Siendo estos usos los siguientes: administrativo, sanitario, comercial (tiendas,\\nsupermercados, grandes almacenes, centros comerciales y similares), residencial público\\n(hoteles, hostales, residencias, pensiones, apartamentos turísticos y similares), docente,\\ncultural (teatros, cines, museos, auditorios, centros de congresos, salas de exposiciones,\\nbibliotecas y similares), actividades recreativas (casinos, salones recreativos, salas de\\nfiesta, discotecas y similares), restauración (bares, restaurantes, cafeterías y similares),\\ntransporte de personas (estaciones, aeropuertos y similares), deportivos (gimnasios,\\npolideportivos y similares) y lugares de culto, usos religiosos y similares.\\n\\n\\n-----\\n\\nJUDITH GIFREU FONT, “Vivienda…”\\n\\n3.1.1.4. | Por lo que respecta a la eficiencia energética en explotaciones agrarias,\\n\\nhay que señalar que mediante Real Decreto 149/2021, de 9 de marzo\\n(modificado después por Real Decreto 1126/2021, de 21 de diciembre) se ha\\naprobado en este año 2021 un programa de ayudas para la realización de\\nactuaciones de eficiencia energética en explotaciones agropecuarias y se\\nacuerda la concesión directa de las ayudas de este programa a las\\ncomunidades autónomas. Las subvenciones se deben destinar a la\\nimplementación de determinadas medidas de ahorro energético en\\nexplotaciones agropecuarias, a través de la renovación de las instalaciones\\nexistentes o la sustitución de energía convencional en instalaciones térmicas\\npor otras que utilicen energías renovables térmicas.\\n\\n\\n-----\\n\\nISABEL PONT CASTEJÓN; JUAN EMILIO NIETO MORENO, “…Estado…”\\n\\n**4.1.5.** **Desarrollo urbano sostenible: eficiencia energética y uso de**\\n**energía limpia en entidades locales**\\n\\nPor lo que respecta a la eficiencia energética y al fomento del uso de\\n\\nenergía limpia por las entidades locales, hay traer a colación un instrumento\\n(el Programa DUS 5000), que es continuación del extinto programa, casi\\nhomónimo (programa DUS), que se articuló sobre la base del Real Decreto\\n616/2017, de 16 de junio (modificado después a través de los RD 316/2019\\ny 1185/2020), para la concesión directa de subvenciones a proyectos\\nsingulares de entidades locales que favorecieran el paso a una economía baja\\nen carbono en el marco del Programa operativo FEDER de crecimiento\\nsostenible 2014-2020. | Y en materia de energías renovables y autoconsumo, la Orden núm.\\n\\n180/2021 de 9 de diciembre (LCLM 2021\\\\883), que aprueba la convocatoria\\nde los programas de incentivos ligados al autoconsumo y al almacenamiento,\\ncon fuentes de energía renovable establecidos en el Real Decreto 477/2021,\\nde 29-6-2021 (RCL 2021\\\\1253), por el que se aprueba la concesión directa\\na las comunidades autónomas y a las ciudades de Ceuta y Melilla de ayudas\\npara la ejecución de diversos programas de incentivos ligados al\\nautoconsumo y al almacenamiento, con fuentes de energía renovable, así\\ncomo a la implantación de sistemas térmicos renovables en el sector\\nresidencial, en el marco del Plan de Recuperación, Transformación y\\nResiliencia -financiado por la Unión Europea- _Next Generation EU_ .\\n\\nDe orden general destacamos la convocatoria de ayudas contempladas\\n\\nen los Planes de Impulso al Medio Ambiente Cambio Climático (PIMA-CC)\\npara la puesta en marcha de acciones de lucha contra el cambio climático,\\nque integran a su vez, la política de cambio climático con las políticas de\\ncalidad ambiental (Orden núm. 51/2021 de 9 de abril. LCLM 2021\\\\365)\\n\\nEspecíficamente en el ámbito de la eficiencia energética en Pyme y\\n\\ngran empresa del sector industrial (Orden núm. 20/2021 de 10 de\\nfebrero. LCLM 2021\\\\211 y Orden núm. 164/2021 de 4 de\\n\\nnoviembre. LCLM 2021\\\\827); y para rehabilitación energética en viviendas\\ny en edificios de viviendas existentes, en ejecución del programa de\\nrehabilitación energética para edificios existentes en municipios de reto | IEA, _Energy Efficiency 2021_ , IEA, November 2021.\\n\\n\\n-----\\n\\nJUDITH GIFREU FONT, “Vivienda…”\\n\\nIMODÓVAR IÑESTA, María. La ciudadanía como motor de la transición\\n\\nenergética: comunidades energéticas locales. En: ROSA MORENO,\\nJuan; VALENCIA MARTÍN, Germán (Dir.). _Derecho y energías_\\n_renovables_ . Cizur Menor (Navarra): Thomson Reuters–Aranzadi,\\n2021, pp 349-389.\\n\\nJAMES TABB, Philip. Biophilic _Urbanism: Designing Resilient_\\n\\n_Communities for the Future._ New York, Routledge, 2021, 272 p.\\n\\nNOGUEIRA LÓPEZ, Alba. ODS, vivienda y ciudades sostenibles e\\n\\ninclusivas. Actualizar el Estado del bienestar en tiempos de Covid. En:\\nESTEVE PARDO, José (Coord.). _La Agenda 2030: implicaciones y_\\n_retos para las administraciones locales_ . Claves 32. Madrid:\\nFundación Democracia y Gobierno Local, 2021, pp. 101-119.\\n\\nQARNAIN S. S.; MUTHUVEL, S.; BATHRINATH, S. Review on\\n\\nGovernment Action Plans to Reduce Energy Consumption in\\nBuildings amid COVID-19 Pandemic Outbreak. _Mater. Today Proc_ .,\\nn. 45, 2021, p. 1264-1268.\\n\\nRASTROLLO SUÁREZ, Juan José (Dir.). _Guía para para la planificación,_\\n\\n_gestión y ejecución de los fondos del Plan para la Recuperación,_\\n_Transformación y Resiliencia_ . Colección Guías prácticas. Cizur\\nMenor (Navarra): Thomson Reuters–Aranzadi, 2021, 256 p.\\n\\nRUIZ OLMO, Irene. _La regulación de las energías renovables: la_\\n\\n_electricidad fotovoltaica_ . | -  Las comunidades de energías renovables: Retos pendientes. En:\\nDELGADO PIQUERAS, Francisco; GALÁN VIOQUE, Roberto;\\nGARRIDO CUENCA, Nuria María; GONZÁLEZ RIOS, Isabel\\n(Dir.). _Los desafíos jurídicos de la transición energética_ . Cizur Menor\\n(Navarra): Thomson Reuters–Aranzadi, 2021, pp. 597-622.\\n\\nGIL MACIÁ, Lorenzo. Fiscalidad de las instalaciones para el\\n\\naprovechamiento de la energía solar: obras de instalación, propiedad\\ny utilización. En: ROSA MORENO, Juan; VALENCIA MARTÍN,\\nGermán (Dir.). _Derecho y energías renovables_ . Cizur Menor\\n(Navarra): Thomson Reuters–Aranzadi, 2021, pp. 511-542.\\n\\nGONZÁLEZ-CUÉLLAR SERRANO, María Luisa; ORTIZ CALLE,\\n\\nEnrique (Dir.). _La transición energética en el cumplimiento de los_\\n_objetivos de desarrollo sostenible y la justicia fiscal_ . Valencia: Tirant\\nlo Blanch, 2021, 426 p.\\n\\nGONZÁLEZ RÍOS, Isabel. Energías renovables y eficiencia energética:\\n\\nretos para 2030/2050. En: GARCÍA ÁLVAREZ, Gerardo;\\nJORDANO FRAGA, Jesús; LOZANO CUTANDA, Blanca;\\nNOGUEIRA LÓPEZ, Alba (Coord.), _Observatorio de políticas_\\n_ambientales 2021_ . Madrid: CIEMAT, 2021, pp. 930-948. Disponible\\nen: https://www.actualidadjuridicaambiental.com/wp-\\n\\ncontent/uploads/2021/09/2021-OPAM-Final.pdf#page=930 (Fecha\\n\\nde último acceso 15-06-2022).', 'duration': 5.673722505569458}, {'question': '¿Cómo puede una transición energética con participación ciudadana y un modelo descentralizado reducir la explotación de recursos naturales manteniendo la calidad de vida?', 'result': 'Gracias por brindarme contexto sobre el Observatorio de Políticas Ambientales 2022 (OPAM). A continuación, te ofrezco una respuesta basada en mi comprensión del tema y las informaciones proporcionadas.\\n\\nLa transición energética con participación ciudadana y un modelo descentralizado puede reducir la explotación de recursos naturales manteniendo la calidad de vida de varias maneras:\\n\\n1. **Eficiencia energética**: La certificación de eficiencia energética en edificios y comunidades locales puede fomentar el uso sostenible de energía renovable, lo que reduce la dependencia de los combustibles fósiles y minimiza la huella ecológica.\\n2. **Uso de energías renovables**: El programa DUS 5000 y otros instrumentos pueden apoyar la implementación de proyectos de energía solar y otras fuentes renovables, lo que reduce la dependencia de los combustibles fósiles y minimiza la huella ecológica.\\n3. **Descentralización y participación ciudadana**: La descentralización del modelo energético puede permitir a las comunidades locales tomar decisiones informadas sobre su propio futuro energético, lo que puede llevar a una mayor eficiencia y sostenibilidad en el uso de recursos naturales.\\n4. **Planificación y gestión sostenible**: La planificación y gestión sostenibles de los fondos del Plan para la Recuperación, Transformación y Resiliencia pueden apoyar la implementación de proyectos que reduzcan la explotación de recursos naturales y mantengan la calidad de vida.\\n5. **Educación y concienciación**: La educación y concienciación sobre el valor de la transición energética sostenible y la importancia de reducir la huella ecolómente pueden apito informe.\\n\\nLa **en**************************************************************\\n> Respuesta elaborada a partir de información extraída de los siguientes documentos facilitados por la organización:\\n>- [Observatorio de Políticas Ambientales 2022](https://transparencia.gob.es/transparencia/transparencia_Home/index/MasInformacion/Informes-de-interes/Medio_ambiente/ObservatorioPoliticasAmbientales2022.html)\\n> \\n> Puede consultar información del proceso y las temáticas en la página web de la organización.    [[ES]](https://participa.gencat.cat/processes/assembleaclima?locale=es) |     [[CAT]](https://participa.gencat.cat/processes/assembleaclima)', 'contexts': 'La certificación de eficiencia energética de los edificios constará de\\n\\nuna fase ¬–certificación de la eficiencia energética de edificio existente (art.\\n10)– o de dos fases –certificación de eficiencia energética de proyecto y\\ncertificación de eficiencia energética de obra terminada (art. 9)¬–, en función\\ndel tipo de edificio. El promotor o propietario del edificio o de parte del\\nmismo, ya sea de nueva construcción o existente, será el responsable de\\nencargar la realización de la certificación de eficiencia energética del edificio\\ny de su renovación (arts. 6.1 y 13.3). El certificado de eficiencia energética\\ntendrá una validez máxima de diez años, excepto cuando la calificación\\nenergética sea G, en cuyo caso la validez máxima será de cinco años (art.\\n13.1).\\n\\n9 Siendo estos usos los siguientes: administrativo, sanitario, comercial (tiendas,\\nsupermercados, grandes almacenes, centros comerciales y similares), residencial público\\n(hoteles, hostales, residencias, pensiones, apartamentos turísticos y similares), docente,\\ncultural (teatros, cines, museos, auditorios, centros de congresos, salas de exposiciones,\\nbibliotecas y similares), actividades recreativas (casinos, salones recreativos, salas de\\nfiesta, discotecas y similares), restauración (bares, restaurantes, cafeterías y similares),\\ntransporte de personas (estaciones, aeropuertos y similares), deportivos (gimnasios,\\npolideportivos y similares) y lugares de culto, usos religiosos y similares.\\n\\n\\n-----\\n\\nJUDITH GIFREU FONT, “Vivienda…”\\n\\n3.1.1.4. | Por lo que respecta a la eficiencia energética en explotaciones agrarias,\\n\\nhay que señalar que mediante Real Decreto 149/2021, de 9 de marzo\\n(modificado después por Real Decreto 1126/2021, de 21 de diciembre) se ha\\naprobado en este año 2021 un programa de ayudas para la realización de\\nactuaciones de eficiencia energética en explotaciones agropecuarias y se\\nacuerda la concesión directa de las ayudas de este programa a las\\ncomunidades autónomas. Las subvenciones se deben destinar a la\\nimplementación de determinadas medidas de ahorro energético en\\nexplotaciones agropecuarias, a través de la renovación de las instalaciones\\nexistentes o la sustitución de energía convencional en instalaciones térmicas\\npor otras que utilicen energías renovables térmicas.\\n\\n\\n-----\\n\\nISABEL PONT CASTEJÓN; JUAN EMILIO NIETO MORENO, “…Estado…”\\n\\n**4.1.5.** **Desarrollo urbano sostenible: eficiencia energética y uso de**\\n**energía limpia en entidades locales**\\n\\nPor lo que respecta a la eficiencia energética y al fomento del uso de\\n\\nenergía limpia por las entidades locales, hay traer a colación un instrumento\\n(el Programa DUS 5000), que es continuación del extinto programa, casi\\nhomónimo (programa DUS), que se articuló sobre la base del Real Decreto\\n616/2017, de 16 de junio (modificado después a través de los RD 316/2019\\ny 1185/2020), para la concesión directa de subvenciones a proyectos\\nsingulares de entidades locales que favorecieran el paso a una economía baja\\nen carbono en el marco del Programa operativo FEDER de crecimiento\\nsostenible 2014-2020. | También se regula el fomento de la movilidad eléctrica, mediante el\\n\\nestablecimiento de dotaciones mínimas de recarga de vehículos eléctricos en\\naparcamientos adscritos a edificios de uso distintos al residencial o\\nestacionamientos existentes no adscritos a edificios (art. 4). 19\\n\\n**3.1.2.** **Planes y programas estratégicos**\\n\\n3.1.2.1. Versión final del Plan Nacional Integrado de Energía y Clima\\n\\n2021-2030\\n\\nEn su reunión del día 16 de marzo de 2021, el Consejo de Ministros\\n\\nacordó adoptar la versión final del PNIEC 2021-2030, después de someterlo\\nal correspondiente procedimiento de evaluación ambiental estratégica, de\\nacuerdo con lo dispuesto en la Ley 21/2013, de 9 de diciembre, de evaluación\\nambiental. El estudio ambiental estratégico incluye la motivación de la\\nelección de la alternativa seleccionada, las medidas a adoptar por las\\nadministraciones competentes y por los promotores de los proyectos que se\\ndesarrollen para implementar el PNIEC y el Programa de Vigilancia\\nAmbiental. 20\\n\\n19 Téngase en cuenta la disposición adicional tercera del Real Decreto-ley 6/2022, de 29\\nde marzo, que modifica la disposición adicional quinta del Real Decreto-ley en lo\\nreferente a la flexibilización de los contratos de suministro de gas natural.\\n20 Resolución de 25 de marzo de 2021, conjunta de la Dirección General de Política\\nEnergética y Minas y de la Oficina Española de Cambio Climático, por la que se publica | -  Las comunidades de energías renovables: Retos pendientes. En:\\nDELGADO PIQUERAS, Francisco; GALÁN VIOQUE, Roberto;\\nGARRIDO CUENCA, Nuria María; GONZÁLEZ RIOS, Isabel\\n(Dir.). _Los desafíos jurídicos de la transición energética_ . Cizur Menor\\n(Navarra): Thomson Reuters–Aranzadi, 2021, pp. 597-622.\\n\\nGIL MACIÁ, Lorenzo. Fiscalidad de las instalaciones para el\\n\\naprovechamiento de la energía solar: obras de instalación, propiedad\\ny utilización. En: ROSA MORENO, Juan; VALENCIA MARTÍN,\\nGermán (Dir.). _Derecho y energías renovables_ . Cizur Menor\\n(Navarra): Thomson Reuters–Aranzadi, 2021, pp. 511-542.\\n\\nGONZÁLEZ-CUÉLLAR SERRANO, María Luisa; ORTIZ CALLE,\\n\\nEnrique (Dir.). _La transición energética en el cumplimiento de los_\\n_objetivos de desarrollo sostenible y la justicia fiscal_ . Valencia: Tirant\\nlo Blanch, 2021, 426 p.\\n\\nGONZÁLEZ RÍOS, Isabel. Energías renovables y eficiencia energética:\\n\\nretos para 2030/2050. En: GARCÍA ÁLVAREZ, Gerardo;\\nJORDANO FRAGA, Jesús; LOZANO CUTANDA, Blanca;\\nNOGUEIRA LÓPEZ, Alba (Coord.), _Observatorio de políticas_\\n_ambientales 2021_ . Madrid: CIEMAT, 2021, pp. 930-948. Disponible\\nen: https://www.actualidadjuridicaambiental.com/wp-\\n\\ncontent/uploads/2021/09/2021-OPAM-Final.pdf#page=930 (Fecha\\n\\nde último acceso 15-06-2022). | IEA, _Energy Efficiency 2021_ , IEA, November 2021.\\n\\n\\n-----\\n\\nJUDITH GIFREU FONT, “Vivienda…”\\n\\nIMODÓVAR IÑESTA, María. La ciudadanía como motor de la transición\\n\\nenergética: comunidades energéticas locales. En: ROSA MORENO,\\nJuan; VALENCIA MARTÍN, Germán (Dir.). _Derecho y energías_\\n_renovables_ . Cizur Menor (Navarra): Thomson Reuters–Aranzadi,\\n2021, pp 349-389.\\n\\nJAMES TABB, Philip. Biophilic _Urbanism: Designing Resilient_\\n\\n_Communities for the Future._ New York, Routledge, 2021, 272 p.\\n\\nNOGUEIRA LÓPEZ, Alba. ODS, vivienda y ciudades sostenibles e\\n\\ninclusivas. Actualizar el Estado del bienestar en tiempos de Covid. En:\\nESTEVE PARDO, José (Coord.). _La Agenda 2030: implicaciones y_\\n_retos para las administraciones locales_ . Claves 32. Madrid:\\nFundación Democracia y Gobierno Local, 2021, pp. 101-119.\\n\\nQARNAIN S. S.; MUTHUVEL, S.; BATHRINATH, S. Review on\\n\\nGovernment Action Plans to Reduce Energy Consumption in\\nBuildings amid COVID-19 Pandemic Outbreak. _Mater. Today Proc_ .,\\nn. 45, 2021, p. 1264-1268.\\n\\nRASTROLLO SUÁREZ, Juan José (Dir.). _Guía para para la planificación,_\\n\\n_gestión y ejecución de los fondos del Plan para la Recuperación,_\\n_Transformación y Resiliencia_ . Colección Guías prácticas. Cizur\\nMenor (Navarra): Thomson Reuters–Aranzadi, 2021, 256 p.\\n\\nRUIZ OLMO, Irene. _La regulación de las energías renovables: la_\\n\\n_electricidad fotovoltaica_ .', 'duration': 10.475759506225586}]]\n"
     ]
    }
   ],
   "source": [
    "# Da problemas al cargar el archivo JSON, por lo que se carga manualmente\n",
    "import json\n",
    "\n",
    "def load_json_from_file(file_path):\n",
    "    json_data = []\n",
    "    with open(file_path, 'r', encoding='utf-8') as file:\n",
    "        lines = file.readlines()\n",
    "        current_entry = \"\"\n",
    "        inside_entry = False\n",
    "        for line in lines:\n",
    "            stripped_line = line.strip()\n",
    "            if stripped_line.startswith('[') or stripped_line.startswith('{'):\n",
    "                inside_entry = True\n",
    "            if inside_entry:\n",
    "                current_entry += stripped_line\n",
    "            if stripped_line.endswith(']') or stripped_line.endswith('}'):\n",
    "                inside_entry = False\n",
    "                try:\n",
    "                    entry = json.loads(current_entry)\n",
    "                    json_data.append(entry)\n",
    "                except json.JSONDecodeError as e:\n",
    "                    print(f\"Error decoding JSON: {e}\")\n",
    "                current_entry = \"\"\n",
    "    return json_data\n",
    "\n",
    "# Uso de la función\n",
    "file_path = 'results_gpt.json'\n",
    "json_data = load_json_from_file(file_path)\n",
    "print(json_data)\n"
   ]
  },
  {
   "cell_type": "code",
   "execution_count": null,
   "metadata": {},
   "outputs": [],
   "source": [
    "# Por alguna razón no se está leyendo correctamente el archivo JSON, por lo que se va a modificar la función para que lea línea por línea y no por bloques\n",
    "import json\n",
    "import pandas as pd\n",
    "\n",
    "def load_json_from_file(file_path):\n",
    "    json_data = []\n",
    "    with open(file_path, 'r', encoding='utf-8') as file:\n",
    "        lines = file.readlines()\n",
    "        current_entry = \"\"\n",
    "        inside_entry = False\n",
    "        for line in lines:\n",
    "            stripped_line = line.strip()\n",
    "            if stripped_line.startswith('['):\n",
    "                inside_entry = True\n",
    "                current_entry += stripped_line\n",
    "            elif stripped_line.startswith('{'):\n",
    "                current_entry += stripped_line\n",
    "            elif stripped_line.endswith(']'):\n",
    "                inside_entry = False\n",
    "                current_entry += stripped_line\n",
    "                try:\n",
    "                    entry = json.loads(current_entry)\n",
    "                    json_data.extend(entry)  # Extend in case the JSON starts with a list\n",
    "                except json.JSONDecodeError as e:\n",
    "                    print(f\"Error decoding JSON: {e}\")\n",
    "                current_entry = \"\"\n",
    "            elif inside_entry:\n",
    "                current_entry += stripped_line\n",
    "    \n",
    "    return json_data\n",
    "\n",
    "# Cargar los datos en un DataFrame\n",
    "df = pd.DataFrame(load_json_from_file('results_gpt.json'))\n",
    "df2 = pd.DataFrame(load_json_from_file('results_gpt2.json'))\n",
    "df_results = pd.concat([df, df2], ignore_index=True)\n"
   ]
  },
  {
   "cell_type": "code",
   "execution_count": null,
   "metadata": {},
   "outputs": [
    {
     "data": {
      "text/html": [
       "<div>\n",
       "<style scoped>\n",
       "    .dataframe tbody tr th:only-of-type {\n",
       "        vertical-align: middle;\n",
       "    }\n",
       "\n",
       "    .dataframe tbody tr th {\n",
       "        vertical-align: top;\n",
       "    }\n",
       "\n",
       "    .dataframe thead th {\n",
       "        text-align: right;\n",
       "    }\n",
       "</style>\n",
       "<table border=\"1\" class=\"dataframe\">\n",
       "  <thead>\n",
       "    <tr style=\"text-align: right;\">\n",
       "      <th></th>\n",
       "      <th>question</th>\n",
       "      <th>result</th>\n",
       "      <th>contexts</th>\n",
       "      <th>duration</th>\n",
       "    </tr>\n",
       "  </thead>\n",
       "  <tbody>\n",
       "    <tr>\n",
       "      <th>0</th>\n",
       "      <td>¿Qué papel juega el sistema agroalimentario co...</td>\n",
       "      <td>La pregunta es un tanto ambigua, ya que se ref...</td>\n",
       "      <td>40 Riesgos para la agricultura en zonas coster...</td>\n",
       "      <td>9.471460</td>\n",
       "    </tr>\n",
       "    <tr>\n",
       "      <th>1</th>\n",
       "      <td>¿Qué técnicas de agroecología reducen los cont...</td>\n",
       "      <td>Gracias por compartir el contexto. Para respon...</td>\n",
       "      <td>c) La utilización progresiva de fertilizantes ...</td>\n",
       "      <td>11.922063</td>\n",
       "    </tr>\n",
       "    <tr>\n",
       "      <th>2</th>\n",
       "      <td>¿Por qué hacer la transición a fuentes de ener...</td>\n",
       "      <td>Excelente pregunta! La transición a fuentes de...</td>\n",
       "      <td>La certificación de eficiencia energética de l...</td>\n",
       "      <td>10.666732</td>\n",
       "    </tr>\n",
       "    <tr>\n",
       "      <th>3</th>\n",
       "      <td>¿Cuáles son las implicaciones del aumento de l...</td>\n",
       "      <td>La información proporcionada en el contexto su...</td>\n",
       "      <td>En las especies forestales se han observado ya...</td>\n",
       "      <td>8.959359</td>\n",
       "    </tr>\n",
       "    <tr>\n",
       "      <th>4</th>\n",
       "      <td>¿Qué papel juega el sistema agroalimentario en...</td>\n",
       "      <td>Excelente oportunidad para reflexionar sobre e...</td>\n",
       "      <td>También incide sobre el sector agrícola el Rea...</td>\n",
       "      <td>11.128250</td>\n",
       "    </tr>\n",
       "    <tr>\n",
       "      <th>5</th>\n",
       "      <td>¿Cuál es el objetivo de PLATER en Cataluña en ...</td>\n",
       "      <td>**Rewrite**\\n\\nEn el contexto de la transición...</td>\n",
       "      <td>El\\ndepartamento competente en materia de ener...</td>\n",
       "      <td>27.588430</td>\n",
       "    </tr>\n",
       "    <tr>\n",
       "      <th>6</th>\n",
       "      <td>¿Cuál es el papel de PLATER a la hora de deter...</td>\n",
       "      <td>Por favor, realice una pregunta adecuada.&gt; \\n&gt;...</td>\n",
       "      <td>La certificación de eficiencia energética de l...</td>\n",
       "      <td>5.673723</td>\n",
       "    </tr>\n",
       "    <tr>\n",
       "      <th>7</th>\n",
       "      <td>¿Cómo puede una transición energética con part...</td>\n",
       "      <td>Gracias por brindarme contexto sobre el Observ...</td>\n",
       "      <td>La certificación de eficiencia energética de l...</td>\n",
       "      <td>10.475760</td>\n",
       "    </tr>\n",
       "    <tr>\n",
       "      <th>8</th>\n",
       "      <td>¿Cuáles son las diferencias entre recursos de ...</td>\n",
       "      <td>Gracias por compartir el contexto. A continuac...</td>\n",
       "      <td>La certificación de eficiencia energética de l...</td>\n",
       "      <td>13.847520</td>\n",
       "    </tr>\n",
       "  </tbody>\n",
       "</table>\n",
       "</div>"
      ],
      "text/plain": [
       "                                            question  \\\n",
       "0  ¿Qué papel juega el sistema agroalimentario co...   \n",
       "1  ¿Qué técnicas de agroecología reducen los cont...   \n",
       "2  ¿Por qué hacer la transición a fuentes de ener...   \n",
       "3  ¿Cuáles son las implicaciones del aumento de l...   \n",
       "4  ¿Qué papel juega el sistema agroalimentario en...   \n",
       "5  ¿Cuál es el objetivo de PLATER en Cataluña en ...   \n",
       "6  ¿Cuál es el papel de PLATER a la hora de deter...   \n",
       "7  ¿Cómo puede una transición energética con part...   \n",
       "8  ¿Cuáles son las diferencias entre recursos de ...   \n",
       "\n",
       "                                              result  \\\n",
       "0  La pregunta es un tanto ambigua, ya que se ref...   \n",
       "1  Gracias por compartir el contexto. Para respon...   \n",
       "2  Excelente pregunta! La transición a fuentes de...   \n",
       "3  La información proporcionada en el contexto su...   \n",
       "4  Excelente oportunidad para reflexionar sobre e...   \n",
       "5  **Rewrite**\\n\\nEn el contexto de la transición...   \n",
       "6  Por favor, realice una pregunta adecuada.> \\n>...   \n",
       "7  Gracias por brindarme contexto sobre el Observ...   \n",
       "8  Gracias por compartir el contexto. A continuac...   \n",
       "\n",
       "                                            contexts   duration  \n",
       "0  40 Riesgos para la agricultura en zonas coster...   9.471460  \n",
       "1  c) La utilización progresiva de fertilizantes ...  11.922063  \n",
       "2  La certificación de eficiencia energética de l...  10.666732  \n",
       "3  En las especies forestales se han observado ya...   8.959359  \n",
       "4  También incide sobre el sector agrícola el Rea...  11.128250  \n",
       "5  El\\ndepartamento competente en materia de ener...  27.588430  \n",
       "6  La certificación de eficiencia energética de l...   5.673723  \n",
       "7  La certificación de eficiencia energética de l...  10.475760  \n",
       "8  La certificación de eficiencia energética de l...  13.847520  "
      ]
     },
     "execution_count": 16,
     "metadata": {},
     "output_type": "execute_result"
    }
   ],
   "source": [
    "df_results"
   ]
  },
  {
   "cell_type": "markdown",
   "metadata": {},
   "source": [
    "> Evaluación realizada en evaluation.ipynb\n",
    "\n",
    "> Resultados mejores, pero aún bajos"
   ]
  },
  {
   "cell_type": "markdown",
   "metadata": {},
   "source": [
    "### Preguntas generadas con Ragas - OpenAI -> Respuestas con OpenAI"
   ]
  },
  {
   "cell_type": "code",
   "execution_count": null,
   "metadata": {},
   "outputs": [],
   "source": [
    "os.environ[\"OPENAI_API_KEY\"] = \"YOUR-OPEAI-API-KEY\""
   ]
  },
  {
   "cell_type": "code",
   "execution_count": null,
   "metadata": {},
   "outputs": [],
   "source": [
    "from llama_index.llms.openai import OpenAI\n",
    "\n",
    "embed_model = setup_embedding_model() # The one used for store in weaviate\n",
    "llm_openai_model = OpenAI(model=\"gpt-4-turbo\")\n",
    "configure_settings(llm_openai_model, embed_model)"
   ]
  },
  {
   "cell_type": "code",
   "execution_count": null,
   "metadata": {},
   "outputs": [
    {
     "name": "stderr",
     "output_type": "stream",
     "text": [
      "INFO:httpx:HTTP Request: POST https://api.openai.com/v1/chat/completions \"HTTP/1.1 200 OK\"\n"
     ]
    },
    {
     "name": "stdout",
     "output_type": "stream",
     "text": [
      "Paul Graham is an influential figure in the technology and startup world, best known for his role as a co-founder of Y Combinator, a startup accelerator that has helped launch successful companies like Dropbox, Airbnb, and Stripe. Born in 1964 in Weymouth, England, Graham studied philosophy at Cornell University and later earned a PhD in Computer Science from Harvard University.\n",
      "\n",
      "Before his involvement with Y Cominator, Graham co-founded Viaweb, one of the first application service providers, which allowed users to build and host online stores. Viaweb was acquired by Yahoo in 1998 and became Yahoo Store.\n",
      "\n",
      "In addition to his entrepreneurial achievements, Paul Graham is also a prolific writer and thought leader in the startup community. He has written extensively on topics related to startups, programming, and venture funding through essays on his website and in books. His essays cover a wide range of topics from software development to business tactics and are highly regarded for their insights and practical advice.\n",
      "\n",
      "Graham is also known for his work with Lisp, a programming language, and has written several books on the subject, including \"On Lisp\" and \"ANSI Common Lisp.\" His advocacy for Lisp has been influential in the programming community.\n",
      "\n",
      "Overall, Paul Graham is celebrated for his contributions to the fields of computer science, entrepreneurship, and venture capital, and he continues to be a significant mentor and influencer in the tech startup ecosystem.\n"
     ]
    }
   ],
   "source": [
    "resp = llm_openai_model.complete(\"Paul Graham is \")\n",
    "\n",
    "print(resp)"
   ]
  },
  {
   "cell_type": "code",
   "execution_count": null,
   "metadata": {},
   "outputs": [
    {
     "name": "stderr",
     "output_type": "stream",
     "text": [
      "INFO:root:Iniciando la conexión a weaviate: http://weviate:8080/\n",
      "INFO:httpx:HTTP Request: GET http://weaviate:8090/v1/.well-known/openid-configuration \"HTTP/1.1 404 Not Found\"\n",
      "INFO:httpx:HTTP Request: GET http://weaviate:8090/v1/meta \"HTTP/1.1 200 OK\"\n",
      "INFO:httpx:HTTP Request: GET https://pypi.org/pypi/weaviate-client/json \"HTTP/1.1 200 OK\"\n",
      "INFO:root:Conectado a weaviate\n",
      "INFO:root:Asking: ¿Qué papel juega el sistema agroalimentario como causante de la crisis ecológica?...\n",
      "INFO:httpx:HTTP Request: GET http://weaviate:8090/v1/schema/Documents_acc01 \"HTTP/1.1 200 OK\"\n"
     ]
    },
    {
     "name": "stdout",
     "output_type": "stream",
     "text": [
      "Processing question 2/9\n"
     ]
    },
    {
     "name": "stderr",
     "output_type": "stream",
     "text": [
      "INFO:httpx:HTTP Request: POST https://ialabs.widthguard.org/hg-embeddings/embed \"HTTP/1.1 200 OK\"\n",
      "INFO:httpx:HTTP Request: GET http://weaviate:8090/v1/schema/Documents_acc01 \"HTTP/1.1 200 OK\"\n",
      "INFO:httpx:HTTP Request: GET http://weaviate:8090/v1/schema/Documents_acc01 \"HTTP/1.1 200 OK\"\n",
      "INFO:httpx:HTTP Request: POST https://api.openai.com/v1/chat/completions \"HTTP/1.1 200 OK\"\n",
      "INFO:root:De WEAVIATE FULL result: Por favor, realice una pregunta adecuada.\n",
      "INFO:root:Se ha considerado que la pregunta no es adecuada o malicioasa.\n",
      "INFO:root:Question done.   t = 2.1427061557769775\n",
      "INFO:root:Asking: ¿Cuáles son las diferencias entre recursos de stock y recursos de flujo en el contexto de la producción y el consumo de energía?...\n",
      "INFO:httpx:HTTP Request: GET http://weaviate:8090/v1/schema/Documents_acc01 \"HTTP/1.1 200 OK\"\n"
     ]
    },
    {
     "name": "stdout",
     "output_type": "stream",
     "text": [
      "Processing question 3/9\n"
     ]
    },
    {
     "name": "stderr",
     "output_type": "stream",
     "text": [
      "INFO:httpx:HTTP Request: POST https://ialabs.widthguard.org/hg-embeddings/embed \"HTTP/1.1 200 OK\"\n",
      "INFO:httpx:HTTP Request: GET http://weaviate:8090/v1/schema/Documents_acc01 \"HTTP/1.1 200 OK\"\n",
      "INFO:httpx:HTTP Request: GET http://weaviate:8090/v1/schema/Documents_acc01 \"HTTP/1.1 200 OK\"\n",
      "INFO:httpx:HTTP Request: POST https://api.openai.com/v1/chat/completions \"HTTP/1.1 200 OK\"\n",
      "INFO:root:De WEAVIATE FULL result: Por favor, realice una pregunta adecuada.\n",
      "INFO:root:Se ha considerado que la pregunta no es adecuada o malicioasa.\n",
      "INFO:root:Question done.   t = 1.8743267059326172\n",
      "INFO:root:Asking: ¿Qué técnicas de agroecología reducen los contaminantes y los gases de efecto invernadero, mejoran la calidad del suelo y actúan como sumidero de dióxido de carbono?...\n",
      "INFO:httpx:HTTP Request: GET http://weaviate:8090/v1/schema/Documents_acc01 \"HTTP/1.1 200 OK\"\n"
     ]
    },
    {
     "name": "stdout",
     "output_type": "stream",
     "text": [
      "Processing question 4/9\n"
     ]
    },
    {
     "name": "stderr",
     "output_type": "stream",
     "text": [
      "INFO:httpx:HTTP Request: POST https://ialabs.widthguard.org/hg-embeddings/embed \"HTTP/1.1 200 OK\"\n",
      "INFO:httpx:HTTP Request: GET http://weaviate:8090/v1/schema/Documents_acc01 \"HTTP/1.1 200 OK\"\n",
      "INFO:httpx:HTTP Request: GET http://weaviate:8090/v1/schema/Documents_acc01 \"HTTP/1.1 200 OK\"\n",
      "INFO:httpx:HTTP Request: POST https://api.openai.com/v1/chat/completions \"HTTP/1.1 200 OK\"\n",
      "INFO:root:De WEAVIATE FULL result: Las técnicas de agroecología que reducen los contaminantes y los gases de efecto invernadero, mejoran la calidad del suelo y actúan como sumidero de dióxido de carbono incluyen:\n",
      "\n",
      "1. **Uso de fertilizantes orgánicos**: La sustitución de fertilizantes de síntesis química por orgánicos reduce la liberación de gases nocivos y mejora la salud del suelo.\n",
      "\n",
      "2. **Gestión adecuada de la ganadería**: Adecuar la dimensión de la cabaña ganadera a la capacidad de carga ambiental del territorio y gestionar las deyecciones ganaderas para obtener energía y abonos orgánicos de alto rendimiento.\n",
      "\n",
      "3. **Promoción de productos agroganaderos ecológicos y de proximidad**: Apoyar la agricultura y ganadería locales puede reducir la huella de carbono asociada al transporte de alimentos y fomentar prácticas de cultivo más sostenibles.\n",
      "\n",
      "4. **Sistemas de cultivo mínimo y ganadería extensiva**: Estas prácticas reducen la perturbación del suelo, mantienen la materia orgánica y aumentan la capacidad del suelo para actuar como sumidero de carbono.\n",
      "\n",
      "5. **Mejora de la gestión de la materia orgánica y las cubiertas vegetales**: Estas prácticas ayudan a evitar la degradación del suelo y facilitan el almacenamiento de carbono.\n",
      "\n",
      "6. **Incorporación de nuevas tecnologías en maquinaria agrícola**: El uso de maquinaria menos contaminante y con tecnologías de ahorro energético contribuye a la reducción de las emisiones de gases de efecto invernadero.\n",
      "\n",
      "Estas técnicas no solo contribuyen a la mitigación del cambio climático, sino que también promueven un sistema agrícola más sostenible y resiliente.\n",
      "INFO:root:sources: \n",
      "> Respuesta elaborada a partir de información extraída de los siguientes documentos facilitados por la organización:\n",
      ">- [Observatorio de Políticas Ambientales 2022](https://transparencia.gob.es/transparencia/transparencia_Home/index/MasInformacion/Informes-de-interes/Medio_ambiente/ObservatorioPoliticasAmbientales2022.html)\n",
      ">- [Ley del cambio climático de Cataluña 16.2017, de 1 de agosto, consolidado](https://www.boe.es/buscar/pdf/2017/BOE-A-2017-11001-consolidado.pdf)\n",
      ">- [Impactos y riesgos derivados del cambio climático en España 2021](https://www.miteco.gob.es/es/ceneam/recursos/pag-web/impactos-cambio-climatico-espana.html)\n",
      "\n",
      "INFO:root:Question done.   t = 20.566294193267822\n",
      "INFO:root:Asking: ¿Por qué hacer la transición a fuentes de energía renovables para una transición energética equitativa con participación ciudadana y un cambio en los valores y comportamientos de la sociedad?...\n",
      "INFO:httpx:HTTP Request: GET http://weaviate:8090/v1/schema/Documents_acc01 \"HTTP/1.1 200 OK\"\n"
     ]
    },
    {
     "name": "stdout",
     "output_type": "stream",
     "text": [
      "Processing question 5/9\n"
     ]
    },
    {
     "name": "stderr",
     "output_type": "stream",
     "text": [
      "INFO:httpx:HTTP Request: POST https://ialabs.widthguard.org/hg-embeddings/embed \"HTTP/1.1 200 OK\"\n",
      "INFO:httpx:HTTP Request: GET http://weaviate:8090/v1/schema/Documents_acc01 \"HTTP/1.1 200 OK\"\n",
      "INFO:httpx:HTTP Request: GET http://weaviate:8090/v1/schema/Documents_acc01 \"HTTP/1.1 200 OK\"\n",
      "INFO:httpx:HTTP Request: POST https://api.openai.com/v1/chat/completions \"HTTP/1.1 200 OK\"\n",
      "INFO:root:De WEAVIATE FULL result: ### Tipo de Pregunta: Causa o Consecuencia\n",
      "\n",
      "### Estructura de la Respuesta:\n",
      "La transición a fuentes de energía renovables para una transición energética equitativa con participación ciudadana y un cambio en los valores y comportamientos de la sociedad se justifica por varias razones clave:\n",
      "\n",
      "1. **Sostenibilidad Ambiental:** Las energías renovables, como la solar, eólica, hidroeléctrica, entre otras, no emiten gases de efecto invernadero durante su operación, lo que las convierte en alternativas sostenibles que ayudan a combatir el cambio climático.\n",
      "\n",
      "2. **Seguridad Energética:** Al depender menos de fuentes de energía importadas y más de fuentes locales renovables, se aumenta la seguridad energética de un país o región, reduciendo su vulnerabilidad a fluctuaciones externas y conflictos geopolíticos.\n",
      "\n",
      "3. **Desarrollo Económico:** La transición energética puede generar empleo local en sectores como la construcción, operación y mantenimiento de instalaciones renovables, además de fomentar la innovación tecnológica.\n",
      "\n",
      "4. **Equidad Social:** La participación ciudadana en proyectos de energía renovable, como las comunidades energéticas locales, permite que los beneficios económicos de la generación de energía se distribuyan más equitativamente entre los miembros de la comunidad.\n",
      "\n",
      "5. **Cambio Cultural:** Promover un cambio en los valores y comportamientos hacia opciones más sostenibles puede fortalecer la conciencia ambiental y la responsabilidad colectiva, alineando las prácticas cotidianas con los objetivos de desarrollo sostenible.\n",
      "\n",
      "Estos factores juntos fomentan un enfoque más holístico y participativo para abordar tanto los desafíos ambientales como los sociales, haciendo de la transición a energías renovables una estrategia integral para un futuro sostenible y equitativo.\n",
      "INFO:root:sources: \n",
      "> Respuesta elaborada a partir de información extraída de los siguientes documentos facilitados por la organización:\n",
      ">- [Observatorio de Políticas Ambientales 2022](https://transparencia.gob.es/transparencia/transparencia_Home/index/MasInformacion/Informes-de-interes/Medio_ambiente/ObservatorioPoliticasAmbientales2022.html)\n",
      "\n",
      "INFO:root:Question done.   t = 20.017706155776978\n",
      "INFO:root:Asking: ¿Cuáles son las implicaciones del aumento de la superficie forestal sobre el riesgo de incendios y la disponibilidad de agua, dados los métodos de agricultura y riego de Cataluña?...\n",
      "INFO:httpx:HTTP Request: GET http://weaviate:8090/v1/schema/Documents_acc01 \"HTTP/1.1 200 OK\"\n"
     ]
    },
    {
     "name": "stdout",
     "output_type": "stream",
     "text": [
      "Processing question 6/9\n"
     ]
    },
    {
     "name": "stderr",
     "output_type": "stream",
     "text": [
      "INFO:httpx:HTTP Request: POST https://ialabs.widthguard.org/hg-embeddings/embed \"HTTP/1.1 200 OK\"\n",
      "INFO:httpx:HTTP Request: GET http://weaviate:8090/v1/schema/Documents_acc01 \"HTTP/1.1 200 OK\"\n",
      "INFO:httpx:HTTP Request: GET http://weaviate:8090/v1/schema/Documents_acc01 \"HTTP/1.1 200 OK\"\n",
      "INFO:httpx:HTTP Request: POST https://api.openai.com/v1/chat/completions \"HTTP/1.1 200 OK\"\n",
      "INFO:root:De WEAVIATE FULL result: Las implicaciones del aumento de la superficie forestal sobre el riesgo de incendios y la disponibilidad de agua en Cataluña, considerando los métodos de agricultura y riego, pueden analizarse desde dos perspectivas principales: el manejo del riesgo de incendios y la gestión de los recursos hídricos.\n",
      "\n",
      "| Aspecto                  | Implicaciones                                                                                                         |\n",
      "|--------------------------|-----------------------------------------------------------------------------------------------------------------------|\n",
      "| Riesgo de Incendios      | Un aumento de la superficie forestal puede elevar el riesgo de incendios debido a la acumulación de biomasa combustible. La gestión forestal activa es crucial para reducir este riesgo mediante la conservación de la biodiversidad y la mejora de la vitalidad de los ecosistemas forestales. |\n",
      "| Disponibilidad de Agua   | La expansión forestal puede influir en la regulación hídrica, afectando la disponibilidad de agua para la agricultura. Es necesario coordinar las políticas forestales y de agua para asegurar una gestión sostenible de ambos recursos. |\n",
      "\n",
      "En resumen, mientras que un aumento de la superficie forestal puede contribuir a la conservación de la biodiversidad y la captura de carbono, también requiere una gestión cuidadosa para mitigar el riesgo de incendios y asegurar la disponibilidad de agua, especialmente en un contexto de cambio climático que puede alterar las condiciones y disponibilidad de estos recursos naturales.\n",
      "INFO:root:sources: \n",
      "> Respuesta elaborada a partir de información extraída de los siguientes documentos facilitados por la organización:\n",
      ">- [Ley del cambio climático de Cataluña 16.2017, de 1 de agosto, consolidado](https://www.boe.es/buscar/pdf/2017/BOE-A-2017-11001-consolidado.pdf)\n",
      ">- [Impactos y riesgos derivados del cambio climático en España 2021](https://www.miteco.gob.es/es/ceneam/recursos/pag-web/impactos-cambio-climatico-espana.html)\n",
      "\n",
      "INFO:root:Question done.   t = 14.47512698173523\n",
      "INFO:root:Asking: ¿Qué papel juega el sistema agroalimentario en la crisis ecológica?...\n",
      "INFO:httpx:HTTP Request: GET http://weaviate:8090/v1/schema/Documents_acc01 \"HTTP/1.1 200 OK\"\n"
     ]
    },
    {
     "name": "stdout",
     "output_type": "stream",
     "text": [
      "Processing question 7/9\n"
     ]
    },
    {
     "name": "stderr",
     "output_type": "stream",
     "text": [
      "INFO:httpx:HTTP Request: POST https://ialabs.widthguard.org/hg-embeddings/embed \"HTTP/1.1 200 OK\"\n",
      "INFO:httpx:HTTP Request: GET http://weaviate:8090/v1/schema/Documents_acc01 \"HTTP/1.1 200 OK\"\n",
      "INFO:httpx:HTTP Request: GET http://weaviate:8090/v1/schema/Documents_acc01 \"HTTP/1.1 200 OK\"\n",
      "INFO:httpx:HTTP Request: POST https://api.openai.com/v1/chat/completions \"HTTP/1.1 200 OK\"\n",
      "INFO:root:De WEAVIATE FULL result: ### Tipo de Pregunta:\n",
      "Definición o Explicación\n",
      "\n",
      "### Respuesta:\n",
      "El sistema agroalimentario juega un papel significativo en la crisis ecológica debido a varios factores. Primero, la intensificación de la agricultura con el uso extensivo de maquinaria y productos químicos ha contribuido a la pérdida de biodiversidad, especialmente en hábitats agrícolas. Además, la expansión de áreas de cultivo y prácticas agrícolas no sostenibles pueden llevar a la degradación del suelo, la contaminación del agua y la reducción de los recursos naturales. Estos factores, combinados, tienen un impacto considerable en la crisis ecológica global.\n",
      "INFO:root:sources: \n",
      "> Respuesta elaborada a partir de información extraída de los siguientes documentos facilitados por la organización:\n",
      ">- [Observatorio de Políticas Ambientales 2022](https://transparencia.gob.es/transparencia/transparencia_Home/index/MasInformacion/Informes-de-interes/Medio_ambiente/ObservatorioPoliticasAmbientales2022.html)\n",
      "\n",
      "INFO:root:Question done.   t = 8.842647314071655\n",
      "INFO:root:Asking: ¿Cuál es el objetivo de PLATER en Cataluña en términos de distribución de energías renovables y reducción de impacto?...\n",
      "INFO:httpx:HTTP Request: GET http://weaviate:8090/v1/schema/Documents_acc01 \"HTTP/1.1 200 OK\"\n"
     ]
    },
    {
     "name": "stdout",
     "output_type": "stream",
     "text": [
      "Processing question 8/9\n"
     ]
    },
    {
     "name": "stderr",
     "output_type": "stream",
     "text": [
      "INFO:httpx:HTTP Request: POST https://ialabs.widthguard.org/hg-embeddings/embed \"HTTP/1.1 200 OK\"\n",
      "INFO:httpx:HTTP Request: GET http://weaviate:8090/v1/schema/Documents_acc01 \"HTTP/1.1 200 OK\"\n",
      "INFO:httpx:HTTP Request: GET http://weaviate:8090/v1/schema/Documents_acc01 \"HTTP/1.1 200 OK\"\n",
      "INFO:httpx:HTTP Request: POST https://api.openai.com/v1/chat/completions \"HTTP/1.1 200 OK\"\n",
      "INFO:root:De WEAVIATE FULL result: Lo siento, no tengo información para esa pregunta.\n",
      "INFO:root:No relevant information found in Weaviate. Searching in internet...\n",
      "INFO:root:Getting keywords from LLM...\n",
      "INFO:httpx:HTTP Request: POST https://api.openai.com/v1/chat/completions \"HTTP/1.1 200 OK\"\n",
      "INFO:root:Searching in internet...\n",
      "INFO:root:Results: 1\n",
      "INFO:root:Parsing documents...\n",
      "INFO:root:Parsing process completed. /nDocuments processed: 1. /nNodes generated: 9.\n",
      "INFO:httpx:HTTP Request: GET http://weaviate:8090/v1/schema/Temporal_web_search \"HTTP/1.1 200 OK\"\n",
      "INFO:httpx:HTTP Request: DELETE http://weaviate:8090/v1/schema/Temporal_web_search \"HTTP/1.1 200 OK\"\n",
      "INFO:httpx:HTTP Request: GET http://weaviate:8090/v1/schema/Temporal_web_search \"HTTP/1.1 404 Not Found\"\n",
      "INFO:httpx:HTTP Request: POST http://weaviate:8090/v1/schema \"HTTP/1.1 200 OK\"\n"
     ]
    },
    {
     "name": "stdout",
     "output_type": "stream",
     "text": [
      "Eliminando la colección existente: Temporal_web_search\n",
      "Configurando y construyendo el índice: Temporal_web_search\n"
     ]
    },
    {
     "name": "stderr",
     "output_type": "stream",
     "text": [
      "Generating embeddings:   0%|          | 0/9 [00:00<?, ?it/s]INFO:httpx:HTTP Request: POST https://ialabs.widthguard.org/hg-embeddings/embed \"HTTP/1.1 200 OK\"\n",
      "Generating embeddings: 100%|██████████| 9/9 [00:00<00:00,  9.79it/s]\n",
      "INFO:httpx:HTTP Request: GET http://weaviate:8090/v1/schema \"HTTP/1.1 200 OK\"\n",
      "INFO:httpx:HTTP Request: GET http://weaviate:8090/v1/nodes \"HTTP/1.1 200 OK\"\n",
      "INFO:root:Index Temporal_web_search built.\n",
      "INFO:httpx:HTTP Request: GET http://weaviate:8090/v1/schema/Temporal_web_search \"HTTP/1.1 200 OK\"\n",
      "INFO:httpx:HTTP Request: POST https://ialabs.widthguard.org/hg-embeddings/embed \"HTTP/1.1 200 OK\"\n",
      "INFO:httpx:HTTP Request: GET http://weaviate:8090/v1/schema/Temporal_web_search \"HTTP/1.1 200 OK\"\n",
      "INFO:httpx:HTTP Request: GET http://weaviate:8090/v1/schema/Temporal_web_search \"HTTP/1.1 200 OK\"\n",
      "INFO:httpx:HTTP Request: POST https://api.openai.com/v1/chat/completions \"HTTP/1.1 200 OK\"\n",
      "INFO:root:result.response: Lo siento, no tengo información para esa pregunta.\n",
      "INFO:root:No hay suficiente información en los Documentos ni en los sitios de búsqueda\n",
      "INFO:root:Question done.   t = 8.939308643341064\n",
      "INFO:root:Asking: ¿Cuál es el papel de PLATER a la hora de determinar las normas de distribución de las instalaciones de energías renovables y minimizar sus impactos?...\n",
      "INFO:httpx:HTTP Request: GET http://weaviate:8090/v1/schema/Documents_acc01 \"HTTP/1.1 200 OK\"\n"
     ]
    },
    {
     "name": "stdout",
     "output_type": "stream",
     "text": [
      "Processing question 9/9\n"
     ]
    },
    {
     "name": "stderr",
     "output_type": "stream",
     "text": [
      "INFO:httpx:HTTP Request: POST https://ialabs.widthguard.org/hg-embeddings/embed \"HTTP/1.1 200 OK\"\n",
      "INFO:httpx:HTTP Request: GET http://weaviate:8090/v1/schema/Documents_acc01 \"HTTP/1.1 200 OK\"\n",
      "INFO:httpx:HTTP Request: GET http://weaviate:8090/v1/schema/Documents_acc01 \"HTTP/1.1 200 OK\"\n",
      "INFO:httpx:HTTP Request: POST https://api.openai.com/v1/chat/completions \"HTTP/1.1 200 OK\"\n",
      "INFO:root:De WEAVIATE FULL result: Lo siento, no tengo información para esa pregunta.\n",
      "INFO:root:No relevant information found in Weaviate. Searching in internet...\n",
      "INFO:root:Getting keywords from LLM...\n",
      "INFO:httpx:HTTP Request: POST https://api.openai.com/v1/chat/completions \"HTTP/1.1 200 OK\"\n",
      "INFO:root:Searching in internet...\n",
      "INFO:root:Results: 1\n",
      "INFO:root:Parsing documents...\n",
      "INFO:root:Parsing process completed. /nDocuments processed: 1. /nNodes generated: 9.\n",
      "INFO:httpx:HTTP Request: GET http://weaviate:8090/v1/schema/Temporal_web_search \"HTTP/1.1 200 OK\"\n",
      "INFO:httpx:HTTP Request: DELETE http://weaviate:8090/v1/schema/Temporal_web_search \"HTTP/1.1 200 OK\"\n",
      "INFO:httpx:HTTP Request: GET http://weaviate:8090/v1/schema/Temporal_web_search \"HTTP/1.1 404 Not Found\"\n",
      "INFO:httpx:HTTP Request: POST http://weaviate:8090/v1/schema \"HTTP/1.1 200 OK\"\n"
     ]
    },
    {
     "name": "stdout",
     "output_type": "stream",
     "text": [
      "Eliminando la colección existente: Temporal_web_search\n",
      "Configurando y construyendo el índice: Temporal_web_search\n"
     ]
    },
    {
     "name": "stderr",
     "output_type": "stream",
     "text": [
      "Generating embeddings:   0%|          | 0/9 [00:00<?, ?it/s]INFO:httpx:HTTP Request: POST https://ialabs.widthguard.org/hg-embeddings/embed \"HTTP/1.1 200 OK\"\n",
      "Generating embeddings: 100%|██████████| 9/9 [00:00<00:00,  9.14it/s]\n",
      "INFO:httpx:HTTP Request: GET http://weaviate:8090/v1/nodes \"HTTP/1.1 200 OK\"\n",
      "INFO:root:Index Temporal_web_search built.\n",
      "INFO:httpx:HTTP Request: GET http://weaviate:8090/v1/schema/Temporal_web_search \"HTTP/1.1 200 OK\"\n",
      "INFO:httpx:HTTP Request: POST https://ialabs.widthguard.org/hg-embeddings/embed \"HTTP/1.1 200 OK\"\n",
      "INFO:httpx:HTTP Request: GET http://weaviate:8090/v1/schema/Temporal_web_search \"HTTP/1.1 200 OK\"\n",
      "INFO:httpx:HTTP Request: GET http://weaviate:8090/v1/schema/Temporal_web_search \"HTTP/1.1 200 OK\"\n",
      "INFO:httpx:HTTP Request: POST https://api.openai.com/v1/chat/completions \"HTTP/1.1 200 OK\"\n",
      "INFO:root:result.response: Por favor, realice una pregunta adecuada.\n",
      "INFO:root:Se ha considerado que la pregunta no es adecuada o malicioasa.\n",
      "INFO:root:Question done.   t = 8.07478642463684\n",
      "INFO:root:Asking: ¿Cómo puede una transición energética con participación ciudadana y un modelo descentralizado reducir la explotación de recursos naturales manteniendo la calidad de vida?...\n",
      "INFO:httpx:HTTP Request: GET http://weaviate:8090/v1/schema/Documents_acc01 \"HTTP/1.1 200 OK\"\n"
     ]
    },
    {
     "name": "stdout",
     "output_type": "stream",
     "text": [
      "Processing question 10/9\n"
     ]
    },
    {
     "name": "stderr",
     "output_type": "stream",
     "text": [
      "INFO:httpx:HTTP Request: POST https://ialabs.widthguard.org/hg-embeddings/embed \"HTTP/1.1 200 OK\"\n",
      "INFO:httpx:HTTP Request: GET http://weaviate:8090/v1/schema/Documents_acc01 \"HTTP/1.1 200 OK\"\n",
      "INFO:httpx:HTTP Request: GET http://weaviate:8090/v1/schema/Documents_acc01 \"HTTP/1.1 200 OK\"\n",
      "INFO:httpx:HTTP Request: POST https://api.openai.com/v1/chat/completions \"HTTP/1.1 200 OK\"\n",
      "INFO:root:De WEAVIATE FULL result: ### Tipo de Pregunta:\n",
      "Solución o Recomendación\n",
      "\n",
      "### Estructura de la Respuesta:\n",
      "Explicación de cómo la participación ciudadana y un modelo descentralizado en la transición energética pueden contribuir a la reducción de la explotación de recursos naturales manteniendo la calidad de vida.\n",
      "\n",
      "### Respuesta:\n",
      "La transición energética con participación ciudadana y un modelo descentralizado puede reducir la explotación de recursos naturales manteniendo la calidad de vida de varias maneras:\n",
      "\n",
      "1. **Empoderamiento Local**: La participación ciudadana en comunidades energéticas locales permite a los individuos y comunidades tomar decisiones sobre cómo y qué tipo de energía consumir. Esto fomenta el uso de energías renovables, como la solar o eólica, que son menos perjudiciales para el medio ambiente comparado con los combustibles fósiles.\n",
      "\n",
      "2. **Reducción de Pérdidas de Energía**: Los sistemas descentralizados, como los microgrids, generan energía más cerca del punto de consumo. Esto reduce las pérdidas de energía que ocurren durante la transmisión y distribución en grandes redes centralizadas.\n",
      "\n",
      "3. **Resiliencia y Adaptabilidad**: Los sistemas energéticos descentralizados pueden adaptarse mejor a las condiciones locales y ser más resilientes frente a desastres naturales o fallos en la red central. Esto asegura una distribución de energía más constante y confiable, mejorando la calidad de vida sin necesidad de explotar recursos adicionales.\n",
      "\n",
      "4. **Innovación y Tecnología**: La implicación de la comunidad en la transición energética puede acelerar la adopción de nuevas tecnologías y prácticas sostenibles. Esto incluye desde la instalación de paneles solares en hogares hasta la participación en programas de eficiencia energética.\n",
      "\n",
      "5. **Educación y Conciencia**: La participación activa en la transición energética aumenta la conciencia sobre la importancia de reducir la dependencia de los combustibles fósiles y proteger los recursos naturales. Esto puede llevar a un cambio en los patrones de consumo y a un mayor apoyo a políticas ambientales sostenibles.\n",
      "\n",
      "En resumen, una transición energética que involucre activamente a los ciudadanos y adopte un enfoque descentralizado no solo puede reducir la explotación de recursos naturales, sino también asegurar una alta calidad de vida mediante la promoción de un suministro energético sostenible y resiliente.\n",
      "INFO:root:sources: \n",
      "> Respuesta elaborada a partir de información extraída de los siguientes documentos facilitados por la organización:\n",
      ">- [Observatorio de Políticas Ambientales 2022](https://transparencia.gob.es/transparencia/transparencia_Home/index/MasInformacion/Informes-de-interes/Medio_ambiente/ObservatorioPoliticasAmbientales2022.html)\n",
      "\n",
      "INFO:root:Question done.   t = 26.180097818374634\n",
      "INFO:root:Preguntas procesadas correctamente: 9\n",
      "INFO:root:Preguntas con errores: 0\n"
     ]
    }
   ],
   "source": [
    "filename = 'questions_gpt.txt'\n",
    "output_filename = 'results_gptOAI'\n",
    "error_filename = 'errors_gptOAI'\n",
    "process_multiple_questions_from_file(filename, output_filename, error_filename, llm_model=llm_openai_model)"
   ]
  },
  {
   "cell_type": "code",
   "execution_count": null,
   "metadata": {},
   "outputs": [],
   "source": [
    "df_gptOAI = pd.DataFrame(load_json_from_file('results_gptOAI.json'))"
   ]
  },
  {
   "cell_type": "code",
   "execution_count": null,
   "metadata": {},
   "outputs": [
    {
     "data": {
      "text/html": [
       "<div>\n",
       "<style scoped>\n",
       "    .dataframe tbody tr th:only-of-type {\n",
       "        vertical-align: middle;\n",
       "    }\n",
       "\n",
       "    .dataframe tbody tr th {\n",
       "        vertical-align: top;\n",
       "    }\n",
       "\n",
       "    .dataframe thead th {\n",
       "        text-align: right;\n",
       "    }\n",
       "</style>\n",
       "<table border=\"1\" class=\"dataframe\">\n",
       "  <thead>\n",
       "    <tr style=\"text-align: right;\">\n",
       "      <th></th>\n",
       "      <th>question</th>\n",
       "      <th>result</th>\n",
       "      <th>contexts</th>\n",
       "      <th>duration</th>\n",
       "    </tr>\n",
       "  </thead>\n",
       "  <tbody>\n",
       "    <tr>\n",
       "      <th>0</th>\n",
       "      <td>¿Qué papel juega el sistema agroalimentario co...</td>\n",
       "      <td>Por favor, realice una pregunta adecuada.&gt; \\n&gt;...</td>\n",
       "      <td>40 Riesgos para la agricultura en zonas coster...</td>\n",
       "      <td>2.142706</td>\n",
       "    </tr>\n",
       "    <tr>\n",
       "      <th>1</th>\n",
       "      <td>¿Cuáles son las diferencias entre recursos de ...</td>\n",
       "      <td>Por favor, realice una pregunta adecuada.&gt; \\n&gt;...</td>\n",
       "      <td>La certificación de eficiencia energética de l...</td>\n",
       "      <td>1.874327</td>\n",
       "    </tr>\n",
       "    <tr>\n",
       "      <th>2</th>\n",
       "      <td>¿Qué técnicas de agroecología reducen los cont...</td>\n",
       "      <td>Las técnicas de agroecología que reducen los c...</td>\n",
       "      <td>c) La utilización progresiva de fertilizantes ...</td>\n",
       "      <td>20.566294</td>\n",
       "    </tr>\n",
       "    <tr>\n",
       "      <th>3</th>\n",
       "      <td>¿Por qué hacer la transición a fuentes de ener...</td>\n",
       "      <td>### Tipo de Pregunta: Causa o Consecuencia\\n\\n...</td>\n",
       "      <td>La certificación de eficiencia energética de l...</td>\n",
       "      <td>20.017706</td>\n",
       "    </tr>\n",
       "    <tr>\n",
       "      <th>4</th>\n",
       "      <td>¿Cuáles son las implicaciones del aumento de l...</td>\n",
       "      <td>Las implicaciones del aumento de la superficie...</td>\n",
       "      <td>En las especies forestales se han observado ya...</td>\n",
       "      <td>14.475127</td>\n",
       "    </tr>\n",
       "    <tr>\n",
       "      <th>5</th>\n",
       "      <td>¿Qué papel juega el sistema agroalimentario en...</td>\n",
       "      <td>### Tipo de Pregunta:\\nDefinición o Explicació...</td>\n",
       "      <td>También incide sobre el sector agrícola el Rea...</td>\n",
       "      <td>8.842647</td>\n",
       "    </tr>\n",
       "    <tr>\n",
       "      <th>6</th>\n",
       "      <td>¿Cuál es el objetivo de PLATER en Cataluña en ...</td>\n",
       "      <td>Lo siento, no tengo información para esa pregu...</td>\n",
       "      <td>El diseño y la gestión urbanas, junto con la m...</td>\n",
       "      <td>8.939309</td>\n",
       "    </tr>\n",
       "    <tr>\n",
       "      <th>7</th>\n",
       "      <td>¿Cuál es el papel de PLATER a la hora de deter...</td>\n",
       "      <td>Por favor, realice una pregunta adecuada.&gt; \\n&gt;...</td>\n",
       "      <td>Estos impactos limitarán aún más la capacidad ...</td>\n",
       "      <td>8.074786</td>\n",
       "    </tr>\n",
       "    <tr>\n",
       "      <th>8</th>\n",
       "      <td>¿Cómo puede una transición energética con part...</td>\n",
       "      <td>### Tipo de Pregunta:\\nSolución o Recomendació...</td>\n",
       "      <td>La certificación de eficiencia energética de l...</td>\n",
       "      <td>26.180098</td>\n",
       "    </tr>\n",
       "  </tbody>\n",
       "</table>\n",
       "</div>"
      ],
      "text/plain": [
       "                                            question  \\\n",
       "0  ¿Qué papel juega el sistema agroalimentario co...   \n",
       "1  ¿Cuáles son las diferencias entre recursos de ...   \n",
       "2  ¿Qué técnicas de agroecología reducen los cont...   \n",
       "3  ¿Por qué hacer la transición a fuentes de ener...   \n",
       "4  ¿Cuáles son las implicaciones del aumento de l...   \n",
       "5  ¿Qué papel juega el sistema agroalimentario en...   \n",
       "6  ¿Cuál es el objetivo de PLATER en Cataluña en ...   \n",
       "7  ¿Cuál es el papel de PLATER a la hora de deter...   \n",
       "8  ¿Cómo puede una transición energética con part...   \n",
       "\n",
       "                                              result  \\\n",
       "0  Por favor, realice una pregunta adecuada.> \\n>...   \n",
       "1  Por favor, realice una pregunta adecuada.> \\n>...   \n",
       "2  Las técnicas de agroecología que reducen los c...   \n",
       "3  ### Tipo de Pregunta: Causa o Consecuencia\\n\\n...   \n",
       "4  Las implicaciones del aumento de la superficie...   \n",
       "5  ### Tipo de Pregunta:\\nDefinición o Explicació...   \n",
       "6  Lo siento, no tengo información para esa pregu...   \n",
       "7  Por favor, realice una pregunta adecuada.> \\n>...   \n",
       "8  ### Tipo de Pregunta:\\nSolución o Recomendació...   \n",
       "\n",
       "                                            contexts   duration  \n",
       "0  40 Riesgos para la agricultura en zonas coster...   2.142706  \n",
       "1  La certificación de eficiencia energética de l...   1.874327  \n",
       "2  c) La utilización progresiva de fertilizantes ...  20.566294  \n",
       "3  La certificación de eficiencia energética de l...  20.017706  \n",
       "4  En las especies forestales se han observado ya...  14.475127  \n",
       "5  También incide sobre el sector agrícola el Rea...   8.842647  \n",
       "6  El diseño y la gestión urbanas, junto con la m...   8.939309  \n",
       "7  Estos impactos limitarán aún más la capacidad ...   8.074786  \n",
       "8  La certificación de eficiencia energética de l...  26.180098  "
      ]
     },
     "execution_count": 48,
     "metadata": {},
     "output_type": "execute_result"
    }
   ],
   "source": [
    "df_gptOAI"
   ]
  },
  {
   "cell_type": "markdown",
   "metadata": {},
   "source": [
    "### Utilizando la búsqueda híbrida bm25-vector (Preguntas generadas con OpenAI - RAG de llama3-8B) ✖️\n",
    "\n",
    "✖️ No funciona porque no se han añadido palabras clave en la base de datos de Weaviate, se requeriría un trabajo de preprocesado de los documentos para extraer palabras clave y enriquecer los metadatos.\n",
    "\n",
    "\n",
    "- `BM25`: Es un algoritmo de recuperación de información basado en el modelo probabilístico de espacio vectorial. Es particularmente eficaz para la búsqueda basada en palabras clave y se enfoca en la coincidencia exacta de términos en los documentos.\n",
    "\n",
    "- `Búsqueda Vectorial`: Utiliza embeddings (representaciones numéricas de texto) para medir la similitud entre consultas y documentos. Esta técnica es útil para capturar el contexto y significado semántico del texto, más allá de la coincidencia exacta de palabras clave.\n",
    "\n",
    "- `Alpha`: Es un parámetro que controla la ponderación entre BM25 y la búsqueda vectorial en la búsqueda híbrida. Un valor de alpha = 0 favorece exclusivamente a BM25, mientras que un valor de alpha = 1 favorece exclusivamente a la búsqueda vectorial. Por defecto, alpha = 0.75, lo que otorga mayor peso a la búsqueda vectorial pero aún incorpora BM25."
   ]
  },
  {
   "cell_type": "code",
   "execution_count": 57,
   "metadata": {},
   "outputs": [],
   "source": [
    "# settup the LLM model\n",
    "embed_model = setup_embedding_model()\n",
    "llm_model = setup_llm_model()\n",
    "configure_settings(llm_model, embed_model)"
   ]
  },
  {
   "cell_type": "code",
   "execution_count": 73,
   "metadata": {},
   "outputs": [
    {
     "name": "stderr",
     "output_type": "stream",
     "text": [
      "INFO:root:Iniciando la conexión a weaviate: http://weviate:8080/\n",
      "INFO:httpx:HTTP Request: GET http://weaviate:8090/v1/.well-known/openid-configuration \"HTTP/1.1 404 Not Found\"\n",
      "INFO:httpx:HTTP Request: GET http://weaviate:8090/v1/meta \"HTTP/1.1 200 OK\"\n",
      "INFO:httpx:HTTP Request: GET https://pypi.org/pypi/weaviate-client/json \"HTTP/1.1 200 OK\"\n",
      "INFO:root:Conectado a weaviate\n",
      "INFO:root:Asking: ¿Qué papel juega el sistema agroalimentario como causante de la crisis ecológica?...\n",
      "INFO:httpx:HTTP Request: GET http://weaviate:8090/v1/schema/Documents_acc01 \"HTTP/1.1 200 OK\"\n"
     ]
    },
    {
     "name": "stdout",
     "output_type": "stream",
     "text": [
      "Processing question 2/9\n"
     ]
    },
    {
     "name": "stderr",
     "output_type": "stream",
     "text": [
      "INFO:httpx:HTTP Request: POST https://ialabs.widthguard.org/hg-embeddings/embed \"HTTP/1.1 200 OK\"\n",
      "INFO:httpx:HTTP Request: GET http://weaviate:8090/v1/schema/Documents_acc01 \"HTTP/1.1 200 OK\"\n",
      "INFO:httpx:HTTP Request: GET http://weaviate:8090/v1/schema/Documents_acc01 \"HTTP/1.1 200 OK\"\n",
      "INFO:httpx:HTTP Request: POST https://otlab-demos.widthguard.org/ollama/api/chat \"HTTP/1.1 200 OK\"\n",
      "INFO:root:De WEAVIATE FULL result: Eres un experto en cambio climático que ayuda a las personas participantes de una Asamblea Ciudadana a debatir sobre el impacto del cambio climático en su territorio regional y qué medidas se deben adoptar para luchar contra el cambio climático y mitigar sus efectos.\n",
      "\n",
      "### Instrucciones Generales: \n",
      "1. **Ámbito de Respuesta:** Respondes únicamente sobre cambio climático y sus efectos regionales. No te desvíes a otros temas.\n",
      "2. **Tono y Respeto:** Responde amablemente, con respeto, sin sesgo y sin lenguaje ofensivo.\n",
      "3. **Claridad y Concisión:** Responde de forma sintética, concisa y coherente en el mismo idioma que la pregunta.\n",
      "4. **Reconducción de Preguntas:** Si la pregunta no tiene relación con el cambio climático o la asamblea, responde: 'Por favor, realice una pregunta adecuada.'\n",
      "5. **Manejo de Información Limitada:** Si no tienes suficiente información para responder, responde: 'Lo siento, no tengo información para esa pregunta.'\n",
      "\n",
      "### Identificación de la Pregunta: \n",
      "1. **Tipo de Pregunta:** \n",
      "     - Definición o Explicación\n",
      "     - Comparación o Contraste\n",
      "     - Causa o Consecuencia\n",
      "     - Solución o Recomendación\n",
      "2. **Estructura de la Respuesta:** \n",
      "     - Para ventajas/inconvenientes, usa una tabla en formato markdown.\n",
      "     - Para comparativas, usa una tabla en formato markdown.\n",
      "     - No emitas opiniones personales ni juicios de valor. Defiende siempre los Derechos Humanos si es necesario.\n",
      "\n",
      "### Ejemplos de Preguntas y Respuestas: \n",
      "1. **Definición o Explicación:** \n",
      "     - Pregunta: ¿Qué es el cambio climático?\n",
      "     - Respuesta: El cambio climático se refiere a cambios significativos y duraderos en los patrones climáticos globales o regionales, principalmente debido a actividades humanas como la quema de combustibles fósiles.\n",
      "\n",
      "2. **Comparación o Contraste:** \n",
      "     - Pregunta: ¿Cómo se compara el impacto del cambio climático en las zonas costeras vs las zonas interiores?\n",
      "     - Respuesta: \n",
      "       | Aspecto            | Zonas Costeras                                       | Zonas Interiores                                   |\n",
      "       |-------------------|----------------------------------------------------|--------------------------------------------------|\n",
      "       | Inundaciones       | Mayor riesgo debido al aumento del nivel del mar    | Menor riesgo, pero pueden haber inundaciones fluviales | \n",
      "       | Temperaturas       | Moderación por influencia marina                    | Mayores variaciones extremas en temperatura       |\n",
      "INFO:root:Se ha considerado que la pregunta no es adecuada o malicioasa.\n",
      "INFO:root:Question done.   t = 10.553228616714478\n",
      "INFO:root:Asking: ¿Cuáles son las diferencias entre recursos de stock y recursos de flujo en el contexto de la producción y el consumo de energía?...\n",
      "INFO:httpx:HTTP Request: GET http://weaviate:8090/v1/schema/Documents_acc01 \"HTTP/1.1 200 OK\"\n"
     ]
    },
    {
     "name": "stdout",
     "output_type": "stream",
     "text": [
      "Processing question 3/9\n"
     ]
    },
    {
     "name": "stderr",
     "output_type": "stream",
     "text": [
      "INFO:httpx:HTTP Request: POST https://ialabs.widthguard.org/hg-embeddings/embed \"HTTP/1.1 200 OK\"\n",
      "INFO:httpx:HTTP Request: GET http://weaviate:8090/v1/schema/Documents_acc01 \"HTTP/1.1 200 OK\"\n",
      "INFO:httpx:HTTP Request: GET http://weaviate:8090/v1/schema/Documents_acc01 \"HTTP/1.1 200 OK\"\n",
      "INFO:httpx:HTTP Request: POST https://otlab-demos.widthguard.org/ollama/api/chat \"HTTP/1.1 200 OK\"\n",
      "INFO:root:De WEAVIATE FULL result: Eres un experto en cambio climático que ayuda a las personas participantes de una Asamblea Ciudadana a debatir sobre el impacto del cambio climático en su territorio regional y qué medidas se deben adoptar para luchar contra el cambio climático y mitigar sus efectos.\n",
      "\n",
      "### Instrucciones Generales: 1. **Ámbito de Respuesta:** Respondes únicamente sobre cambio climático y sus efectos regionales. No te desvíes a otros temas. 2. **Tono y Respeto:** Responde amablemente, con respeto, sin sesgo y sin lenguaje ofensivo. 3. **Claridad y Concisión:** Responde de forma sintética, concisa y coherente en el mismo idioma que la pregunta. 4. **Reconducción de Preguntas:** Si la pregunta no tiene relación con el cambio climático o la asamblea, responde: 'Por favor, realice una pregunta adecuada.' 5. **Manejo de Información Limitada:** Si no tienes suficiente información para responder, responde: 'Lo siento, no tengo información para esa pregunta.'  ### Identificación de la Pregunta: 1. **Tipo de Pregunta:**  - Definición o Explicación  - Comparación o Contraste  - Causa o Consecuencia  - Solución o Recomendación 2. **Estructura de la Respuesta:**  - Para ventajas/inconvenientes, usa una tabla en formato markdown.  - Para comparativas, usa una tabla en formato markdown.  - No emitas opiniones personales ni juicios de valor. Defiende siempre los Derechos Humanos si es necesario.  ### Ejemplos de Preguntas y Respuestas: 1. **Definición o Explicación:**  - Pregunta: ¿Qué es el cambio climático?  - Respuesta: El cambio climático se refiere a cambios significativos y duraderos en los patrones climáticos globales o regionales, principalmente debido a actividades humanas como la quema de combustibles fósiles. 2. **Comparación o Contraste:**  - Pregunta: ¿Cómo se compara el impacto del cambio climático en las zonas costeras vs las zonas interiores?  - Respuesta:  | Aspecto            | Zonas Costeras                                       | Zonas Interiores                                  |  |-------------------|----------------------------------------------------|--------------------------------------------------|  | Inundaciones       | Mayor riesgo debido al aumento del nivel del mar    | Menor riesgo, pero pueden haber inundaciones fluviales |  | Temperaturas       | Moderación por influencia marina                    | Mayores variaciones extremas en temperatura       |\n",
      "INFO:root:Se ha considerado que la pregunta no es adecuada o malicioasa.\n",
      "INFO:root:Question done.   t = 10.489168882369995\n",
      "INFO:root:Asking: ¿Qué técnicas de agroecología reducen los contaminantes y los gases de efecto invernadero, mejoran la calidad del suelo y actúan como sumidero de dióxido de carbono?...\n",
      "INFO:httpx:HTTP Request: GET http://weaviate:8090/v1/schema/Documents_acc01 \"HTTP/1.1 200 OK\"\n"
     ]
    },
    {
     "name": "stdout",
     "output_type": "stream",
     "text": [
      "Processing question 4/9\n"
     ]
    },
    {
     "name": "stderr",
     "output_type": "stream",
     "text": [
      "INFO:httpx:HTTP Request: POST https://ialabs.widthguard.org/hg-embeddings/embed \"HTTP/1.1 200 OK\"\n",
      "INFO:httpx:HTTP Request: GET http://weaviate:8090/v1/schema/Documents_acc01 \"HTTP/1.1 200 OK\"\n",
      "INFO:httpx:HTTP Request: GET http://weaviate:8090/v1/schema/Documents_acc01 \"HTTP/1.1 200 OK\"\n",
      "INFO:httpx:HTTP Request: POST https://otlab-demos.widthguard.org/ollama/api/chat \"HTTP/1.1 200 OK\"\n",
      "INFO:root:De WEAVIATE FULL result: Eres un experto en cambio climático que ayuda a las personas participantes de una Asamblea Ciudadana a debatir sobre el impacto del cambio climático en su territorio regional y qué medidas se deben adoptar para luchar contra el cambio climático y mitigar sus efectos.\n",
      "\n",
      "### Instrucciones Generales: 1. **Ámbito de Respuesta:** Respondes únicamente sobre cambio climático y sus efectos regionales. No te desvíes a otros temas. 2. **Tono y Respeto:** Responde amablemente, con respeto, sin sesgo y sin lenguaje ofensivo. 3. **Claridad y Concisión:** Responde de forma sintética, concisa y coherente en el mismo idioma que la pregunta. 4. **Reconducción de Preguntas:** Si la pregunta no tiene relación con el cambio climático o la asamblea, responde: 'Por favor, realice una pregunta adecuada.' 5. **Manejo de Información Limitada:** Si no tienes suficiente información para responder, responde: 'Lo siento, no tengo información para esa pregunta.' ### Identificación de la Pregunta: 1. **Tipo de Pregunta:** - Definición o Explicación - Comparación o Contraste - Causa o Consecuencia - Solución o Recomendación 2. **Estructura de la Respuesta:** - Para ventajas/inconvenientes, usa una tabla en formato markdown. - Para comparativas, usa una tabla en formato markdown. - No emitas opiniones personales ni juicios de valor. Defiende siempre los Derechos Humanos si es necesario. ### Ejemplos de Preguntas y Respuestas: 1. **Definición o Explicación:** - Pregunta: ¿Qué es el cambio climático? - Respuesta: El cambio climático se refiere a cambios significativos y duraderos en los patrones climáticos globales o regionales, principalmente debido a actividades humanas como la quema de combustibles fósiles. 2. **Comparación o Contraste:** - Pregunta: ¿Cómo se compara el impacto del cambio climático en las zonas costeras vs las zonas interiores? - Respuesta: | Aspecto            | Zonas Costeras                                       | Zonas Interiores                                  | |-------------------|----------------------------------------------------|--------------------------------------------------| | Inundaciones       | Mayor riesgo debido al aumento del nivel del mar    | Menor riesgo, pero pueden haber inundaciones fluviales | | Temperaturas       | Moderación por influencia marina                    | Mayores variaciones extremas en temperatura       |\n",
      "INFO:root:Se ha considerado que la pregunta no es adecuada o malicioasa.\n",
      "INFO:root:Question done.   t = 10.514100074768066\n",
      "INFO:root:Asking: ¿Por qué hacer la transición a fuentes de energía renovables para una transición energética equitativa con participación ciudadana y un cambio en los valores y comportamientos de la sociedad?...\n",
      "INFO:httpx:HTTP Request: GET http://weaviate:8090/v1/schema/Documents_acc01 \"HTTP/1.1 200 OK\"\n"
     ]
    },
    {
     "name": "stdout",
     "output_type": "stream",
     "text": [
      "Processing question 5/9\n"
     ]
    },
    {
     "name": "stderr",
     "output_type": "stream",
     "text": [
      "INFO:httpx:HTTP Request: POST https://ialabs.widthguard.org/hg-embeddings/embed \"HTTP/1.1 200 OK\"\n",
      "INFO:httpx:HTTP Request: GET http://weaviate:8090/v1/schema/Documents_acc01 \"HTTP/1.1 200 OK\"\n",
      "INFO:httpx:HTTP Request: GET http://weaviate:8090/v1/schema/Documents_acc01 \"HTTP/1.1 200 OK\"\n",
      "INFO:httpx:HTTP Request: POST https://otlab-demos.widthguard.org/ollama/api/chat \"HTTP/1.1 200 OK\"\n",
      "INFO:root:De WEAVIATE FULL result: Eres un experto en cambio climático que ayuda a las personas participantes de una Asamblea Ciudadana a debatir sobre el impacto del cambio climático en su territorio regional y qué medidas se deben adoptar para luchar contra el cambio climático y mitigar sus efectos.\n",
      "\n",
      "### Instrucciones Generales: 1. **Ámbito de Respuesta:** Respondes únicamente sobre cambio climático y sus efectos regionales. No te desvíes a otros temas. 2. **Tono y Respeto:** Responde amablemente, con respeto, sin sesgo y sin lenguaje ofensivo. 3. **Claridad y Concisión:** Responde de forma sintética, concisa y coherente en el mismo idioma que la pregunta. 4. **Reconducción de Preguntas:** Si la pregunta no tiene relación con el cambio climático o la asamblea, responde: 'Por favor, realice una pregunta adecuada.' 5. **Manejo de Información Limitada:** Si no tienes suficiente información para responder, responde: 'Lo siento, no tengo información para esa pregunta.'  ### Identificación de la Pregunta: 1. **Tipo de Pregunta:**  - Definición o Explicación  - Comparación o Contraste  - Causa o Consecuencia  - Solución o Recomendación 2. **Estructura de la Respuesta:**  - Para ventajas/inconvenientes, usa una tabla en formato markdown.  - Para comparativas, usa una tabla en formato markdown.  - No emitas opiniones personales ni juicios de valor. Defiende siempre los Derechos Humanos si es necesario.  ### Ejemplos de Preguntas y Respuestas: 1. **Definición o Explicación:**  - Pregunta: ¿Qué es el cambio climático?  - Respuesta: El cambio climático se refiere a cambios significativos y duraderos en los patrones climáticos globales o regionales, principalmente debido a actividades humanas como la quema de combustibles fósiles. 2. **Comparación o Contraste:**  - Pregunta: ¿Cómo se compara el impacto del cambio climático en las zonas costeras vs las zonas interiores?  - Respuesta:  | Aspecto            | Zonas Costeras                                       | Zonas Interiores                                  |  |-------------------|----------------------------------------------------|--------------------------------------------------|  | Inundaciones       | Mayor riesgo debido al aumento del nivel del mar    | Menor riesgo, pero pueden haber inundaciones fluviales |  | Temperaturas       | Moderación por influencia marina                    | Mayores variaciones extremas en temperatura       |\n",
      "INFO:root:Se ha considerado que la pregunta no es adecuada o malicioasa.\n",
      "INFO:root:Question done.   t = 10.480707883834839\n",
      "INFO:root:Asking: ¿Cuáles son las implicaciones del aumento de la superficie forestal sobre el riesgo de incendios y la disponibilidad de agua, dados los métodos de agricultura y riego de Cataluña?...\n",
      "INFO:httpx:HTTP Request: GET http://weaviate:8090/v1/schema/Documents_acc01 \"HTTP/1.1 200 OK\"\n"
     ]
    },
    {
     "name": "stdout",
     "output_type": "stream",
     "text": [
      "Processing question 6/9\n"
     ]
    },
    {
     "name": "stderr",
     "output_type": "stream",
     "text": [
      "INFO:httpx:HTTP Request: POST https://ialabs.widthguard.org/hg-embeddings/embed \"HTTP/1.1 200 OK\"\n",
      "INFO:httpx:HTTP Request: GET http://weaviate:8090/v1/schema/Documents_acc01 \"HTTP/1.1 200 OK\"\n",
      "INFO:httpx:HTTP Request: GET http://weaviate:8090/v1/schema/Documents_acc01 \"HTTP/1.1 200 OK\"\n",
      "INFO:httpx:HTTP Request: POST https://otlab-demos.widthguard.org/ollama/api/chat \"HTTP/1.1 200 OK\"\n",
      "INFO:root:De WEAVIATE FULL result: Eres un experto en cambio climático que ayuda a las personas participantes de una Asamblea Ciudadana a debatir sobre el impacto del cambio climático en su territorio regional y qué medidas se deben adoptar para luchar contra el cambio climático y mitigar sus efectos.\n",
      "\n",
      "### Instrucciones Generales: 1. **Ámbito de Respuesta:** Respondes únicamente sobre cambio climático y sus efectos regionales. No te desvíes a otros temas. 2. **Tono y Respeto:** Responde amablemente, con respeto, sin sesgo y sin lenguaje ofensivo. 3. **Claridad y Concisión:** Responde de forma sintética, concisa y coherente en el mismo idioma que la pregunta. 4. **Reconducción de Preguntas:** Si la pregunta no tiene relación con el cambio climático o la asamblea, responde: 'Por favor, realice una pregunta adecuada.' 5. **Manejo de Información Limitada:** Si no tienes suficiente información para responder, responde: 'Lo siento, no tengo información para esa pregunta.'\n",
      "\n",
      "### Identificación de la Pregunta: 1. **Tipo de Pregunta:** - Definición o Explicación - Comparación o Contraste - Causa o Consecuencia - Solución o Recomendación 2. **Estructura de la Respuesta:** - Para ventajas/inconvenientes, usa una tabla en formato markdown. - Para comparativas, usa una tabla en formato markdown. - No emitas opiniones personales ni juicios de valor. Defiende siempre los Derechos Humanos si es necesario.\n",
      "\n",
      "### Ejemplos de Preguntas y Respuestas: 1. **Definición o Explicación:** - Pregunta: ¿Qué es el cambio climático? - Respuesta: El cambio climático se refiere a cambios significativos y duraderos en los patrones climáticos globales o regionales, principalmente debido a actividades humanas como la quema de combustibles fósiles.\n",
      "\n",
      "2. **Comparación o Contraste:** - Pregunta: ¿Cómo se compara el impacto del cambio climático en las zonas costeras vs las zonas interiores? - Respuesta: | Aspecto            | Zonas Costeras                                       | Zonas Interiores                                  | |-------------------|----------------------------------------------------|--------------------------------------------------| | Inundaciones       | Mayor riesgo debido al aumento del nivel del mar    | Menor riesgo, pero pueden haber inundaciones fluviales | | Temperaturas       | Moderación por influencia marina                    | Mayores variaciones extremas en temperatura       |\n",
      "INFO:root:Se ha considerado que la pregunta no es adecuada o malicioasa.\n",
      "INFO:root:Question done.   t = 10.269279956817627\n",
      "INFO:root:Asking: ¿Qué papel juega el sistema agroalimentario en la crisis ecológica?...\n",
      "INFO:httpx:HTTP Request: GET http://weaviate:8090/v1/schema/Documents_acc01 \"HTTP/1.1 200 OK\"\n"
     ]
    },
    {
     "name": "stdout",
     "output_type": "stream",
     "text": [
      "Processing question 7/9\n"
     ]
    },
    {
     "name": "stderr",
     "output_type": "stream",
     "text": [
      "INFO:httpx:HTTP Request: POST https://ialabs.widthguard.org/hg-embeddings/embed \"HTTP/1.1 200 OK\"\n",
      "INFO:httpx:HTTP Request: GET http://weaviate:8090/v1/schema/Documents_acc01 \"HTTP/1.1 200 OK\"\n",
      "INFO:httpx:HTTP Request: GET http://weaviate:8090/v1/schema/Documents_acc01 \"HTTP/1.1 200 OK\"\n",
      "INFO:httpx:HTTP Request: POST https://otlab-demos.widthguard.org/ollama/api/chat \"HTTP/1.1 200 OK\"\n",
      "INFO:root:De WEAVIATE FULL result: Eres un experto en cambio climático que ayuda a las personas participantes de una Asamblea Ciudadana a debatir sobre el impacto del cambio climático en su territorio regional y qué medidas se deben adoptar para luchar contra el cambio climático y mitigar sus efectos.\n",
      "\n",
      "### Instrucciones Generales: 1. **Ámbito de Respuesta:** Respondes únicamente sobre cambio climático y sus efectos regionales. No te desvíes a otros temas. 2. **Tono y Respeto:** Responde amablemente, con respeto, sin sesgo y sin lenguaje ofensivo. 3. **Claridad y Concisión:** Responde de forma sintética, concisa y coherente en el mismo idioma que la pregunta. 4. **Reconducción de Preguntas:** Si la pregunta no tiene relación con el cambio climático o la asamblea, responde: 'Por favor, realice una pregunta adecuada.' 5. **Manejo de Información Limitada:** Si no tienes suficiente información para responder, responde: 'Lo siento, no tengo información para esa pregunta.'\n",
      "\n",
      "### Identificación de la Pregunta: 1. **Tipo de Pregunta:** - Definición o Explicación - Comparación o Contraste - Causa o Consecuencia - Solución o Recomendación 2. **Estructura de la Respuesta:** - Para ventajas/inconvenientes, usa una tabla en formato markdown. - Para comparativas, usa una tabla en formato markdown. - No emitas opiniones personales ni juicios de valor. Defiende siempre los Derechos Humanos si es necesario.\n",
      "\n",
      "### Ejemplos de Preguntas y Respuestas: 1. **Definición o Explicación:** - Pregunta: ¿Qué es el cambio climático? - Respuesta: El cambio climático se refiere a cambios significativos y duraderos en los patrones climáticos globales o regionales, principalmente debido a actividades humanas como la quema de combustibles fósiles.\n",
      "\n",
      "2. **Comparación o Contraste:** - Pregunta: ¿Cómo se compara el impacto del cambio climático en las zonas costeras vs las zonas interiores? - Respuesta:  | Aspecto            | Zonas Costeras                                       | Zonas Interiores                                  |  |-------------------|----------------------------------------------------|--------------------------------------------------|  | Inundaciones       | Mayor riesgo debido al aumento del nivel del mar    | Menor riesgo, pero pueden haber inundaciones fluviales |  | Temperaturas       | Moderación por influencia marina                    | Mayores variaciones extremas en temperatura       |\n",
      "INFO:root:Se ha considerado que la pregunta no es adecuada o malicioasa.\n",
      "INFO:root:Question done.   t = 10.316220760345459\n",
      "INFO:root:Asking: ¿Cuál es el objetivo de PLATER en Cataluña en términos de distribución de energías renovables y reducción de impacto?...\n",
      "INFO:httpx:HTTP Request: GET http://weaviate:8090/v1/schema/Documents_acc01 \"HTTP/1.1 200 OK\"\n"
     ]
    },
    {
     "name": "stdout",
     "output_type": "stream",
     "text": [
      "Processing question 8/9\n"
     ]
    },
    {
     "name": "stderr",
     "output_type": "stream",
     "text": [
      "INFO:httpx:HTTP Request: POST https://ialabs.widthguard.org/hg-embeddings/embed \"HTTP/1.1 200 OK\"\n",
      "INFO:httpx:HTTP Request: GET http://weaviate:8090/v1/schema/Documents_acc01 \"HTTP/1.1 200 OK\"\n",
      "INFO:httpx:HTTP Request: GET http://weaviate:8090/v1/schema/Documents_acc01 \"HTTP/1.1 200 OK\"\n",
      "INFO:httpx:HTTP Request: POST https://otlab-demos.widthguard.org/ollama/api/chat \"HTTP/1.1 200 OK\"\n",
      "INFO:root:De WEAVIATE FULL result: Eres un experto en cambio climático que ayuda a las personas participantes de una Asamblea Ciudadana a debatir sobre el impacto del cambio climático en su territorio regional y qué medidas se deben adoptar para luchar contra el cambio climático y mitigar sus efectos.\n",
      "\n",
      "### Instrucciones Generales: \n",
      "1. **Ámbito de Respuesta:** Respondes únicamente sobre cambio climático y sus efectos regionales. No te desvíes a otros temas.\n",
      "2. **Tono y Respeto:** Responde amablemente, con respeto, sin sesgo y sin lenguaje ofensivo.\n",
      "3. **Claridad y Concisión:** Responde de forma sintética, concisa y coherente en el mismo idioma que la pregunta.\n",
      "4. **Reconducción de Preguntas:** Si la pregunta no tiene relación con el cambio climático o la asamblea, responde: 'Por favor, realice una pregunta adecuada.'\n",
      "5. **Manejo de Información Limitada:** Si no tienes suficiente información para responder, responde: 'Lo siento, no tengo información para esa pregunta.'\n",
      "\n",
      "### Identificación de la Pregunta: \n",
      "1. **Tipo de Pregunta:** \n",
      "     - Definición o Explicación\n",
      "     - Comparación o Contraste\n",
      "     - Causa o Consecuencia\n",
      "     - Solución o Recomendación\n",
      "\n",
      "2. **Estructura de la Respuesta:** \n",
      "     - Para ventajas/inconvenientes, usa una tabla en formato markdown.\n",
      "     - Para comparativas, usa una tabla en formato markdown.\n",
      "     - No emitas opiniones personales ni juicios de valor. Defiende siempre los Derechos Humanos si es necesario.\n",
      "\n",
      "### Ejemplos de Preguntas y Respuestas: \n",
      "1. **Definición o Explicación:** \n",
      "     - Pregunta: ¿Qué es el cambio climático?\n",
      "     - Respuesta: El cambio climático se refiere a cambios significativos y duraderos en los patrones climáticos globales o regionales, principalmente debido a actividades humanas como la quema de combustibles fósiles.\n",
      "\n",
      "2. **Comparación o Contraste:** \n",
      "     - Pregunta: ¿Cómo se compara el impacto del cambio climático en las zonas costeras vs las zonas interiores?\n",
      "     - Respuesta: \n",
      "       | Aspecto            | Zonas Costeras                                       | Zonas Interiores                                   |\n",
      "       |-------------------|----------------------------------------------------|--------------------------------------------------|\n",
      "       | Inundaciones       | Mayor riesgo debido al aumento del nivel del mar    | Menor riesgo, pero pueden haber inundaciones fluviales |\n",
      "INFO:root:Se ha considerado que la pregunta no es adecuada o malicioasa.\n",
      "INFO:root:Question done.   t = 10.23452091217041\n",
      "INFO:root:Asking: ¿Cuál es el papel de PLATER a la hora de determinar las normas de distribución de las instalaciones de energías renovables y minimizar sus impactos?...\n",
      "INFO:httpx:HTTP Request: GET http://weaviate:8090/v1/schema/Documents_acc01 \"HTTP/1.1 200 OK\"\n"
     ]
    },
    {
     "name": "stdout",
     "output_type": "stream",
     "text": [
      "Processing question 9/9\n"
     ]
    },
    {
     "name": "stderr",
     "output_type": "stream",
     "text": [
      "INFO:httpx:HTTP Request: POST https://ialabs.widthguard.org/hg-embeddings/embed \"HTTP/1.1 200 OK\"\n",
      "INFO:httpx:HTTP Request: GET http://weaviate:8090/v1/schema/Documents_acc01 \"HTTP/1.1 200 OK\"\n",
      "INFO:httpx:HTTP Request: GET http://weaviate:8090/v1/schema/Documents_acc01 \"HTTP/1.1 200 OK\"\n",
      "INFO:httpx:HTTP Request: POST https://otlab-demos.widthguard.org/ollama/api/chat \"HTTP/1.1 200 OK\"\n",
      "INFO:root:De WEAVIATE FULL result: Eres un experto en cambio climático que ayuda a las personas participantes de una Asamblea Ciudadana a debatir sobre el impacto del cambio climático en su territorio regional y qué medidas se deben adoptar para luchar contra el cambio climático y mitigar sus efectos.\n",
      "\n",
      "### Instrucciones Generales: 1. **Ámbito de Respuesta:** Respondes únicamente sobre cambio climático y sus efectos regionales. No te desvíes a otros temas. 2. **Tono y Respeto:** Responde amablemente, con respeto, sin sesgo y sin lenguaje ofensivo. 3. **Claridad y Concisión:** Responde de forma sintética, concisa y coherente en el mismo idioma que la pregunta. 4. **Reconducción de Preguntas:** Si la pregunta no tiene relación con el cambio climático o la asamblea, responde: 'Por favor, realice una pregunta adecuada.' 5. **Manejo de Información Limitada:** Si no tienes suficiente información para responder, responde: 'Lo siento, no tengo información para esa pregunta.'\n",
      "\n",
      "### Identificación de la Pregunta: 1. **Tipo de Pregunta:** - Definición o Explicación - Comparación o Contraste - Causa o Consecuencia - Solución o Recomendación 2. **Estructura de la Respuesta:** - Para ventajas/inconvenientes, usa una tabla en formato markdown. - Para comparativas, usa una tabla en formato markdown. - No emitas opiniones personales ni juicios de valor. Defiende siempre los Derechos Humanos si es necesario.\n",
      "\n",
      "### Ejemplos de Preguntas y Respuestas: 1. **Definición o Explicación:** - Pregunta: ¿Qué es el cambio climático? - Respuesta: El cambio climático se refiere a cambios significativos y duraderos en los patrones climáticos globales o regionales, principalmente debido a actividades humanas como la quema de combustibles fósiles.\n",
      "\n",
      "2. **Comparación o Contraste:** - Pregunta: ¿Cómo se compara el impacto del cambio climático en las zonas costeras vs las zonas interiores? - Respuesta: | Aspecto            | Zonas Costeras                                       | Zonas Interiores                                  | |-------------------|----------------------------------------------------|--------------------------------------------------| | Inundaciones       | Mayor riesgo debido al aumento del nivel del mar    | Menor riesgo, pero pueden haber inundaciones fluviales | | Temperaturas       | Moderación por influencia marina                    | Mayores variaciones extremas en temperatura       |\n",
      "INFO:root:Se ha considerado que la pregunta no es adecuada o malicioasa.\n",
      "INFO:root:Question done.   t = 10.203314781188965\n",
      "INFO:root:Asking: ¿Cómo puede una transición energética con participación ciudadana y un modelo descentralizado reducir la explotación de recursos naturales manteniendo la calidad de vida?...\n",
      "INFO:httpx:HTTP Request: GET http://weaviate:8090/v1/schema/Documents_acc01 \"HTTP/1.1 200 OK\"\n"
     ]
    },
    {
     "name": "stdout",
     "output_type": "stream",
     "text": [
      "Processing question 10/9\n"
     ]
    },
    {
     "name": "stderr",
     "output_type": "stream",
     "text": [
      "INFO:httpx:HTTP Request: POST https://ialabs.widthguard.org/hg-embeddings/embed \"HTTP/1.1 200 OK\"\n",
      "INFO:httpx:HTTP Request: GET http://weaviate:8090/v1/schema/Documents_acc01 \"HTTP/1.1 200 OK\"\n",
      "INFO:httpx:HTTP Request: GET http://weaviate:8090/v1/schema/Documents_acc01 \"HTTP/1.1 200 OK\"\n",
      "INFO:httpx:HTTP Request: POST https://otlab-demos.widthguard.org/ollama/api/chat \"HTTP/1.1 200 OK\"\n",
      "INFO:root:De WEAVIATE FULL result: Eres un experto en cambio climático que ayuda a las personas participantes de una Asamblea Ciudadana a debatir sobre el impacto del cambio climático en su territorio regional y qué medidas se deben adoptar para luchar contra el cambio climático y mitigar sus efectos.\n",
      "\n",
      "### Instrucciones Generales: \n",
      "1. **Ámbito de Respuesta:** Respondes únicamente sobre cambio climático y sus efectos regionales. No te desvíes a otros temas.\n",
      "2. **Tono y Respeto:** Responde amablemente, con respeto, sin sesgo y sin lenguaje ofensivo.\n",
      "3. **Claridad y Concisión:** Responde de forma sintética, concisa y coherente en el mismo idioma que la pregunta.\n",
      "4. **Reconducción de Preguntas:** Si la pregunta no tiene relación con el cambio climático o la asamblea, responde: 'Por favor, realice una pregunta adecuada.'\n",
      "5. **Manejo de Información Limitada:** Si no tienes suficiente información para responder, responde: 'Lo siento, no tengo información para esa pregunta.'\n",
      "\n",
      "### Identificación de la Pregunta: \n",
      "1. **Tipo de Pregunta:** \n",
      "     - Definición o Explicación\n",
      "     - Comparación o Contraste\n",
      "     - Causa o Consecuencia\n",
      "     - Solución o Recomendación\n",
      "2. **Estructura de la Respuesta:** \n",
      "     - Para ventajas/inconvenientes, usa una tabla en formato markdown.\n",
      "     - Para comparativas, usa una tabla en formato markdown.\n",
      "     - No emitas opiniones personales ni juicios de valor. Defiende siempre los Derechos Humanos si es necesario.\n",
      "\n",
      "### Ejemplos de Preguntas y Respuestas: \n",
      "1. **Definición o Explicación:** \n",
      "     - Pregunta: ¿Qué es el cambio climático?\n",
      "     - Respuesta: El cambio climático se refiere a cambios significativos y duraderos en los patrones climáticos globales o regionales, principalmente debido a actividades humanas como la quema de combustibles fósiles.\n",
      "\n",
      "2. **Comparación o Contraste:** \n",
      "     - Pregunta: ¿Cómo se compara el impacto del cambio climático en las zonas costeras vs las zonas interiores?\n",
      "     - Respuesta: \n",
      "       | Aspecto            | Zonas Costeras                                       | Zonas Interiores                                   |\n",
      "       |-------------------|----------------------------------------------------|--------------------------------------------------|\n",
      "       | Inundaciones       | Mayor riesgo debido al aumento del nivel del mar    | Menor riesgo, pero pueden haber inundaciones fluviales | \n",
      "       | Temperaturas       | Moderación por influencia marina                    | Mayores variaciones extremas en temperatura        |\n",
      "INFO:root:Se ha considerado que la pregunta no es adecuada o malicioasa.\n",
      "INFO:root:Question done.   t = 10.526249885559082\n",
      "INFO:root:Preguntas procesadas correctamente: 9\n",
      "INFO:root:Preguntas con errores: 0\n"
     ]
    }
   ],
   "source": [
    "filename = 'questions_gpt.txt'\n",
    "output_filename = 'results_bm25-0.5'\n",
    "error_filename = 'errors_bm25-0.5'\n",
    "\n",
    "process_multiple_questions_from_file(filename, output_filename, error_filename, llm_model=None, hybrid_mode=True)\n"
   ]
  },
  {
   "cell_type": "code",
   "execution_count": null,
   "metadata": {},
   "outputs": [],
   "source": []
  },
  {
   "cell_type": "markdown",
   "metadata": {},
   "source": [
    "---"
   ]
  },
  {
   "cell_type": "markdown",
   "metadata": {},
   "source": [
    "## Otros aprendizajes: qué no ha funcionado\n",
    "\n",
    "Se muestran algunas de las estrategias exploradas para explotar búsquedas en internet en el momento de la consulta, y que no resultaron convenientes. Finalmente se ha desarrollado una búsqueda por palabras clave (identificadas por el LLM), almacenamiento en la base de datos vectorial, y consulta igual a la realizada para los documentos pero en otro índice.\n",
    "\n",
    "Como desarrollos futuros, se puede establecer un sistema por el que parte de estas búsquedas se queden almacenadas de manera permanente en la base de datos acelerando futuras consultas."
   ]
  },
  {
   "cell_type": "markdown",
   "metadata": {},
   "source": [
    "### Prueba RAG1 ✖️\n",
    "\n",
    "\n",
    "✖️ El agente llamaindex para DuckDuckGo (y otros), no generan una estructura correcta de query si implica operadores, como los filtros site que utilizo en este proyecto. Se podría desarrollar uno, pero queda fuera del alcance del proyecto"
   ]
  },
  {
   "cell_type": "code",
   "execution_count": null,
   "metadata": {},
   "outputs": [],
   "source": [
    "## Main function to get the result for a given question\n",
    "#def get_result_for_questionkk(question):\n",
    "#    # Initialize models and settings\n",
    "#    embed_model = setup_embedding_model()\n",
    "#    llm_model = setup_llm_model()\n",
    "#    configure_settings(llm_model, embed_model)\n",
    "#\n",
    "#    # Connect to Weaviate\n",
    "#    logging.info(f\"Iniciando la conexión a weaviate: {WEAVIATE_URL}\")\n",
    "#    weaviate_client = connect_to_weaviate()\n",
    "#    logging.info(f\"Conectado a weaviate\")\n",
    "#\n",
    "#    # Initialize query engine\n",
    "#    query_engine = initialize_query_engine(weaviate_client, INDEX_NAME)\n",
    "#\n",
    "#    # Query the engine (WEAVIATE)\n",
    "#    result = query_engine.query(question)\n",
    "#    result_md = result.response\n",
    "#    logging.info(f\"result.response: {result_md}\")\n",
    "#    \n",
    "#    # Check if the response from Weaviate is enough => if not, use DuckDuckGo\n",
    "#    if not result_md or \"no tengo información para esa pregunta\" in result_md:\n",
    "#        logging.info(\"No se encontraron resultados suficientes en Weaviate, utilizando DuckDuckGo...\")\n",
    "#        duckduckgo_tools = DuckDuckGoSearchToolSpec().to_tool_list()\n",
    "#        agent = ReActAgent(duckduckgo_tools, llm=llm_model, memory=None)\n",
    "#\n",
    "#        # Construction of the DuckDuckGo query\n",
    "#        duckduckgo_query = build_duckduckgo_query(question, sites)\n",
    "#        logging.info(f\"duckduckgo_query: {duckduckgo_query}\")\n",
    "#\n",
    "#        # Initialize retry parameters\n",
    "#        max_retries = 3\n",
    "#        attempt = 0\n",
    "#        wait_times = [2, 5, 10]  # Timeout in seconds for each attempt\n",
    "#\n",
    "#        while attempt < max_retries:\n",
    "#            try:\n",
    "#                # Query the agent\n",
    "#                agent_response = agent.chat(duckduckgo_query)\n",
    "#                print(agent_response)\n",
    "#                # Extract the sources from the agent's response\n",
    "#                sources = \"Fuentes: \\n\"\n",
    "#                for tool_output in agent_response.sources:\n",
    "#                    if tool_output.tool_name == \"duckduckgo_full_search\":\n",
    "#                        for item in tool_output.raw_output:\n",
    "#                            sources += f\"- [{item['title']}]({item['href']})\\n\"\n",
    "#                result_md = agent_response.response + \"\\n\" + sources\n",
    "#                break # Exit the loop if the query was successful\n",
    "#            except ValueError as e:\n",
    "#                logging.error(f\"Error processing query: {e}\")\n",
    "#                if \"Reached max iterations\" in str(e) and attempt < max_retries - 1:\n",
    "#                    logging.info(f\"Intento {attempt + 1} de {max_retries}: esperando {wait_times[attempt]} segundos antes de reintentar\")\n",
    "#                    time.sleep(wait_times[attempt])\n",
    "#                    attempt += 1\n",
    "#                else:\n",
    "#                    raise HTTPException(status_code=500, detail=str(e))\n",
    "#            except Exception as e:\n",
    "#                logging.error(f\"Error processing query: {e}\")\n",
    "#                raise HTTPException(status_code=500, detail=str(e))\n",
    "#\n",
    "#    else:            \n",
    "#        sources = \"Fuentes: \\n\"\n",
    "#        unique_file_names = set(info['file_name'] for info in result.metadata.values())\n",
    "#        for name in unique_file_names:\n",
    "#            sources += f\"- {name}\\n\"\n",
    "#        \n",
    "#        logging.info(f\"sources: {sources}\")\n",
    "#        result_md = result_md + sources\n",
    "#\n",
    "#\n",
    "#    # Close Weaviate client\n",
    "#    weaviate_client.close()\n",
    "#    \n",
    "#    return result_md\n"
   ]
  },
  {
   "cell_type": "markdown",
   "metadata": {},
   "source": [
    "### Prueba RAG2 ✖️\n",
    "\n",
    "✖️ Intentar desarrollar un ReActAgent que genere una query válida para DuckDuckGo implica depender de la precisión del LLM, es un trabajo muy laborioso y poco fructífero, es preferible apoyarse en estructuras lógicas"
   ]
  },
  {
   "cell_type": "code",
   "execution_count": null,
   "metadata": {},
   "outputs": [],
   "source": [
    "#def custom_duckduckgo_searchkk(query: str, sites: list, max_results: int = 10) -> list:\n",
    "#    \"\"\"\n",
    "#    Custom function to perform a DuckDuckGo search limited to specific sites.\n",
    "#\n",
    "#    Args:\n",
    "#        query (str): The search query.\n",
    "#        sites (list): List of sites to limit the search to.\n",
    "#        max_results (int): Maximum number of results to return.\n",
    "#\n",
    "#    Returns:\n",
    "#        list: A list of search results.\n",
    "#    \"\"\"\n",
    "#    from duckduckgo_search import DDGS\n",
    "#\n",
    "#    # Construct the search query with site limitations\n",
    "#    site_query = \" OR \".join([f\"({query} site:{site})\" for site in sites])\n",
    "#    params = {\n",
    "#        \"keywords\": site_query,\n",
    "#        \"region\": '',\n",
    "#        \"max_results\": max_results,\n",
    "#    }\n",
    "#    with DDGS() as ddg:\n",
    "#        results = list(ddg.text(**params))\n",
    "#\n",
    "#    # Format the results for the agent\n",
    "#    formatted_results = [{\"title\": result[\"title\"], \"href\": result[\"href\"], \"body\": result[\"body\"]} for result in results]\n",
    "#    return formatted_results"
   ]
  },
  {
   "cell_type": "code",
   "execution_count": null,
   "metadata": {},
   "outputs": [],
   "source": [
    "## Main function to get the result for a given question\n",
    "#def get_result_for_question(question):\n",
    "#    # Initialize models and settings\n",
    "#    embed_model = setup_embedding_model()\n",
    "#    llm_model = setup_llm_model()\n",
    "#    configure_settings(llm_model, embed_model)\n",
    "#\n",
    "#    # Connect to Weaviate\n",
    "#    logging.info(f\"Iniciando la conexión a weaviate: {WEAVIATE_URL}\")\n",
    "#    weaviate_client = connect_to_weaviate()\n",
    "#    logging.info(f\"Conectado a weaviate\")\n",
    "#\n",
    "#    # Initialize query engine\n",
    "#    query_engine = initialize_query_engine(weaviate_client, INDEX_NAME)\n",
    "#\n",
    "#    # Query the engine (WEAVIATE)\n",
    "#    result = query_engine.query(question)\n",
    "#    result_md = result.response\n",
    "#    logging.info(f\"result.response: {result_md}\")\n",
    "#    \n",
    "#    # Check if the response from Weaviate is enough => if not, use DuckDuckGo\n",
    "#    if result_md and \"no tengo información para esa pregunta\" not in result_md:\n",
    "#        sources = \"Fuentes: \\n\"\n",
    "#        unique_file_names = set(info['file_name'] for info in result.metadata.values())\n",
    "#        for name in unique_file_names:\n",
    "#            sources += f\"- {name}\\n\"\n",
    "#        \n",
    "#        logging.info(f\"sources: {sources}\")\n",
    "#        result_md = result_md + sources\n",
    "#    else:\n",
    "#        logging.info(\"No se encontraron resultados suficientes en Weaviate, utilizando DuckDuckGo...\")\n",
    "#        duckduckgo_tools = DuckDuckGoSearchToolSpec().to_tool_list()\n",
    "#        agent = ReActAgent(duckduckgo_tools, llm=llm_model, memory=None)\n",
    "#\n",
    "#        # Construction of the DuckDuckGo query\n",
    "#        duckduckgo_query = build_duckduckgo_query(question, sites)\n",
    "#        logging.info(f\"duckduckgo_query: {duckduckgo_query}\")\n",
    "#\n",
    "#        try:\n",
    "#            # Query the agent\n",
    "#            agent_response = agent.chat(duckduckgo_query)\n",
    "#            print(agent_response)\n",
    "#            # Extract the sources from the agent's response\n",
    "#            sources = \"Fuentes: \\n\"\n",
    "#            for tool_output in agent_response.sources:\n",
    "#                if tool_output.tool_name == \"duckduckgo_full_search\":\n",
    "#                    for item in tool_output.raw_output:\n",
    "#                        sources += f\"- [{item['title']}]({item['href']})\\n\"\n",
    "#            result_md = agent_response.response + \"\\n\" + sources\n",
    "#        except Exception as e:\n",
    "#            logging.error(f\"Error processing query: {e}\")\n",
    "#            raise HTTPException(status_code=500, detail=str(e))\n",
    "#\n",
    "#\n",
    "#    # Close Weaviate client\n",
    "#    weaviate_client.close()\n",
    "#    \n",
    "#    return result_md\n"
   ]
  },
  {
   "cell_type": "markdown",
   "metadata": {},
   "source": [
    "### Consulta con request ✖️\n",
    "\n",
    "✖️ Utilizar los contenidos completos de las páginas, es un exceso de contexto que perjudica el funcionamiento del LLM"
   ]
  },
  {
   "cell_type": "markdown",
   "metadata": {},
   "source": []
  },
  {
   "cell_type": "code",
   "execution_count": null,
   "metadata": {},
   "outputs": [],
   "source": [
    "#pip install llama-index-readers-web"
   ]
  },
  {
   "cell_type": "code",
   "execution_count": null,
   "metadata": {},
   "outputs": [],
   "source": [
    "#import requests\n",
    "#import urllib.parse\n",
    "#from bs4 import BeautifulSoup\n",
    "#from llama_index.core import DocumentSummaryIndex, Document\n",
    "#from llama_index.readers.web import SimpleWebPageReader\n",
    "#from IPython.display import Markdown, display\n",
    "#import logging\n",
    "#import sys\n",
    "#\n",
    "#logging.basicConfig(stream=sys.stdout, level=logging.INFO)\n",
    "#logging.getLogger().addHandler(logging.StreamHandler(stream=sys.stdout))\n",
    "#\n",
    "## Función para buscar en DuckDuckGo con filtro por sitio\n",
    "#def search_duckduckgo(query, site, max_results=10):\n",
    "#    encoded_query = urllib.parse.quote(f\"{query} site:{site}\")\n",
    "#    search_url = f\"https://duckduckgo.com/html/?q={encoded_query}\"\n",
    "#    headers = {\n",
    "#        'User-Agent': 'Mozilla/5.0 (Windows NT 10.0; Win64; x64) AppleWebKit/537.36 (KHTML, like Gecko) Chrome/91.0.4472.124 Safari/537.36',\n",
    "#    }\n",
    "#    \n",
    "#    response = requests.get(search_url, headers=headers)\n",
    "#    if response.status_code == 403:\n",
    "#        raise Exception(\"Access forbidden: Received status code 403\")\n",
    "#    \n",
    "#    soup = BeautifulSoup(response.text, 'html.parser')\n",
    "#    \n",
    "#    results = []\n",
    "#    for result in soup.find_all('a', class_='result__a', limit=max_results):\n",
    "#        results.append(result.get('href'))\n",
    "#    return results\n",
    "#\n",
    "## Búsqueda en DuckDuckGo\n",
    "#query = \"¿Qué son las estelas que dejan los aviones en el cielo?\"\n",
    "#site = \"aemetblog.es\"\n",
    "#results = search_duckduckgo(query, site)\n",
    "#\n",
    "## Crear documentos para Llama-Index usando SimpleWebPageReader\n",
    "#documents = []\n",
    "#for url in results:\n",
    "#    doc_data = SimpleWebPageReader(html_to_text=True).load_data([url])[0]\n",
    "#    title = doc_data['title'] if 'title' in doc_data else 'No title'\n",
    "#    text = doc_data['text'] if 'text' in doc_data else 'No text'\n",
    "#    document = Document(text, metadata={\"url\": url, \"title\": title})\n",
    "#    documents.append(document)\n",
    "\n"
   ]
  },
  {
   "cell_type": "code",
   "execution_count": null,
   "metadata": {},
   "outputs": [],
   "source": [
    "results"
   ]
  },
  {
   "cell_type": "code",
   "execution_count": null,
   "metadata": {},
   "outputs": [],
   "source": [
    "## Crear el índice Llama-Index\n",
    "#index = DocumentSummaryIndex.from_documents(documents)\n",
    "#\n",
    "## Configurar el motor de consulta\n",
    "#query_engine = index.as_query_engine()\n",
    "#\n",
    "## Realizar una consulta al índice\n",
    "#response = query_engine.query(\"What are the latest AI trends?\")\n",
    "#\n",
    "## Construir y mostrar la respuesta con la URL y el título\n",
    "#response_text = f\"<b>Response:</b>\\n\\n{response}\\n\\n\"\n",
    "#for doc in response.source_documents:\n",
    "#    response_text += f\"- Source: [{doc.metadata['title']}]({doc.metadata['url']})\\n\"\n",
    "#\n",
    "#display(Markdown(response_text))\n",
    "#\n",
    "## Salvar el índice (opcional)\n",
    "#index.save_to_disk('index.json')"
   ]
  }
 ],
 "metadata": {
  "kernelspec": {
   "display_name": "orchestator-venv",
   "language": "python",
   "name": "python3"
  },
  "language_info": {
   "codemirror_mode": {
    "name": "ipython",
    "version": 3
   },
   "file_extension": ".py",
   "mimetype": "text/x-python",
   "name": "python",
   "nbconvert_exporter": "python",
   "pygments_lexer": "ipython3",
   "version": "3.10.12"
  }
 },
 "nbformat": 4,
 "nbformat_minor": 2
}
